{
  "nbformat": 4,
  "nbformat_minor": 0,
  "metadata": {
    "colab": {
      "provenance": [],
      "collapsed_sections": [],
      "authorship_tag": "ABX9TyMAJpmdCrI+Xv8eBZjCRcsh",
      "include_colab_link": true
    },
    "kernelspec": {
      "name": "python3",
      "display_name": "Python 3"
    },
    "language_info": {
      "name": "python"
    }
  },
  "cells": [
    {
      "cell_type": "markdown",
      "metadata": {
        "id": "view-in-github",
        "colab_type": "text"
      },
      "source": [
        "<a href=\"https://colab.research.google.com/github/ShinUkhang/AI/blob/main/%EC%99%80%EC%9D%B8%EB%B6%84%EB%A5%98%ED%95%98%EA%B8%B0_%EB%AA%A8%EB%8D%B8.ipynb\" target=\"_parent\"><img src=\"https://colab.research.google.com/assets/colab-badge.svg\" alt=\"Open In Colab\"/></a>"
      ]
    },
    {
      "cell_type": "markdown",
      "source": [
        "와인의 성분을 통해서 레드와인과 화이트와인을 구분해보도록 하겠습니다. "
      ],
      "metadata": {
        "id": "JjXK0673gxv4"
      }
    },
    {
      "cell_type": "markdown",
      "source": [
        "![와인이미지.jfif](data:image/jpeg;base64,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)"
      ],
      "metadata": {
        "id": "bVtD2rnefsP2"
      }
    },
    {
      "cell_type": "markdown",
      "source": [
        "와인을 분류할 데이터를 불러옵니다.\n",
        "\n",
        "**(# 표시는 주석으로 컴퓨터가 코드로 생각하지 않습니다.)**"
      ],
      "metadata": {
        "id": "2KtF9cynfnt_"
      }
    },
    {
      "cell_type": "code",
      "execution_count": null,
      "metadata": {
        "colab": {
          "base_uri": "https://localhost:8080/",
          "height": 77
        },
        "id": "52-Jpmm2rgt2",
        "outputId": "3c6af951-38b0-4fff-a5ed-e4cfe3f42136"
      },
      "outputs": [
        {
          "output_type": "display_data",
          "data": {
            "text/plain": [
              "<IPython.core.display.HTML object>"
            ],
            "text/html": [
              "\n",
              "     <input type=\"file\" id=\"files-2635236b-46e3-454b-bf43-31b389925a8f\" name=\"files[]\" multiple disabled\n",
              "        style=\"border:none\" />\n",
              "     <output id=\"result-2635236b-46e3-454b-bf43-31b389925a8f\">\n",
              "      Upload widget is only available when the cell has been executed in the\n",
              "      current browser session. Please rerun this cell to enable.\n",
              "      </output>\n",
              "      <script>// Copyright 2017 Google LLC\n",
              "//\n",
              "// Licensed under the Apache License, Version 2.0 (the \"License\");\n",
              "// you may not use this file except in compliance with the License.\n",
              "// You may obtain a copy of the License at\n",
              "//\n",
              "//      http://www.apache.org/licenses/LICENSE-2.0\n",
              "//\n",
              "// Unless required by applicable law or agreed to in writing, software\n",
              "// distributed under the License is distributed on an \"AS IS\" BASIS,\n",
              "// WITHOUT WARRANTIES OR CONDITIONS OF ANY KIND, either express or implied.\n",
              "// See the License for the specific language governing permissions and\n",
              "// limitations under the License.\n",
              "\n",
              "/**\n",
              " * @fileoverview Helpers for google.colab Python module.\n",
              " */\n",
              "(function(scope) {\n",
              "function span(text, styleAttributes = {}) {\n",
              "  const element = document.createElement('span');\n",
              "  element.textContent = text;\n",
              "  for (const key of Object.keys(styleAttributes)) {\n",
              "    element.style[key] = styleAttributes[key];\n",
              "  }\n",
              "  return element;\n",
              "}\n",
              "\n",
              "// Max number of bytes which will be uploaded at a time.\n",
              "const MAX_PAYLOAD_SIZE = 100 * 1024;\n",
              "\n",
              "function _uploadFiles(inputId, outputId) {\n",
              "  const steps = uploadFilesStep(inputId, outputId);\n",
              "  const outputElement = document.getElementById(outputId);\n",
              "  // Cache steps on the outputElement to make it available for the next call\n",
              "  // to uploadFilesContinue from Python.\n",
              "  outputElement.steps = steps;\n",
              "\n",
              "  return _uploadFilesContinue(outputId);\n",
              "}\n",
              "\n",
              "// This is roughly an async generator (not supported in the browser yet),\n",
              "// where there are multiple asynchronous steps and the Python side is going\n",
              "// to poll for completion of each step.\n",
              "// This uses a Promise to block the python side on completion of each step,\n",
              "// then passes the result of the previous step as the input to the next step.\n",
              "function _uploadFilesContinue(outputId) {\n",
              "  const outputElement = document.getElementById(outputId);\n",
              "  const steps = outputElement.steps;\n",
              "\n",
              "  const next = steps.next(outputElement.lastPromiseValue);\n",
              "  return Promise.resolve(next.value.promise).then((value) => {\n",
              "    // Cache the last promise value to make it available to the next\n",
              "    // step of the generator.\n",
              "    outputElement.lastPromiseValue = value;\n",
              "    return next.value.response;\n",
              "  });\n",
              "}\n",
              "\n",
              "/**\n",
              " * Generator function which is called between each async step of the upload\n",
              " * process.\n",
              " * @param {string} inputId Element ID of the input file picker element.\n",
              " * @param {string} outputId Element ID of the output display.\n",
              " * @return {!Iterable<!Object>} Iterable of next steps.\n",
              " */\n",
              "function* uploadFilesStep(inputId, outputId) {\n",
              "  const inputElement = document.getElementById(inputId);\n",
              "  inputElement.disabled = false;\n",
              "\n",
              "  const outputElement = document.getElementById(outputId);\n",
              "  outputElement.innerHTML = '';\n",
              "\n",
              "  const pickedPromise = new Promise((resolve) => {\n",
              "    inputElement.addEventListener('change', (e) => {\n",
              "      resolve(e.target.files);\n",
              "    });\n",
              "  });\n",
              "\n",
              "  const cancel = document.createElement('button');\n",
              "  inputElement.parentElement.appendChild(cancel);\n",
              "  cancel.textContent = 'Cancel upload';\n",
              "  const cancelPromise = new Promise((resolve) => {\n",
              "    cancel.onclick = () => {\n",
              "      resolve(null);\n",
              "    };\n",
              "  });\n",
              "\n",
              "  // Wait for the user to pick the files.\n",
              "  const files = yield {\n",
              "    promise: Promise.race([pickedPromise, cancelPromise]),\n",
              "    response: {\n",
              "      action: 'starting',\n",
              "    }\n",
              "  };\n",
              "\n",
              "  cancel.remove();\n",
              "\n",
              "  // Disable the input element since further picks are not allowed.\n",
              "  inputElement.disabled = true;\n",
              "\n",
              "  if (!files) {\n",
              "    return {\n",
              "      response: {\n",
              "        action: 'complete',\n",
              "      }\n",
              "    };\n",
              "  }\n",
              "\n",
              "  for (const file of files) {\n",
              "    const li = document.createElement('li');\n",
              "    li.append(span(file.name, {fontWeight: 'bold'}));\n",
              "    li.append(span(\n",
              "        `(${file.type || 'n/a'}) - ${file.size} bytes, ` +\n",
              "        `last modified: ${\n",
              "            file.lastModifiedDate ? file.lastModifiedDate.toLocaleDateString() :\n",
              "                                    'n/a'} - `));\n",
              "    const percent = span('0% done');\n",
              "    li.appendChild(percent);\n",
              "\n",
              "    outputElement.appendChild(li);\n",
              "\n",
              "    const fileDataPromise = new Promise((resolve) => {\n",
              "      const reader = new FileReader();\n",
              "      reader.onload = (e) => {\n",
              "        resolve(e.target.result);\n",
              "      };\n",
              "      reader.readAsArrayBuffer(file);\n",
              "    });\n",
              "    // Wait for the data to be ready.\n",
              "    let fileData = yield {\n",
              "      promise: fileDataPromise,\n",
              "      response: {\n",
              "        action: 'continue',\n",
              "      }\n",
              "    };\n",
              "\n",
              "    // Use a chunked sending to avoid message size limits. See b/62115660.\n",
              "    let position = 0;\n",
              "    do {\n",
              "      const length = Math.min(fileData.byteLength - position, MAX_PAYLOAD_SIZE);\n",
              "      const chunk = new Uint8Array(fileData, position, length);\n",
              "      position += length;\n",
              "\n",
              "      const base64 = btoa(String.fromCharCode.apply(null, chunk));\n",
              "      yield {\n",
              "        response: {\n",
              "          action: 'append',\n",
              "          file: file.name,\n",
              "          data: base64,\n",
              "        },\n",
              "      };\n",
              "\n",
              "      let percentDone = fileData.byteLength === 0 ?\n",
              "          100 :\n",
              "          Math.round((position / fileData.byteLength) * 100);\n",
              "      percent.textContent = `${percentDone}% done`;\n",
              "\n",
              "    } while (position < fileData.byteLength);\n",
              "  }\n",
              "\n",
              "  // All done.\n",
              "  yield {\n",
              "    response: {\n",
              "      action: 'complete',\n",
              "    }\n",
              "  };\n",
              "}\n",
              "\n",
              "scope.google = scope.google || {};\n",
              "scope.google.colab = scope.google.colab || {};\n",
              "scope.google.colab._files = {\n",
              "  _uploadFiles,\n",
              "  _uploadFilesContinue,\n",
              "};\n",
              "})(self);\n",
              "</script> "
            ]
          },
          "metadata": {}
        },
        {
          "output_type": "stream",
          "name": "stdout",
          "text": [
            "Saving winequality.csv to winequality.csv\n"
          ]
        }
      ],
      "source": [
        "#구글 코랩의 files라는 모듈을 불러옵니다. \n",
        "from google.colab import files \n",
        "uploaded=files.upload()"
      ]
    },
    {
      "cell_type": "markdown",
      "source": [
        "판다스(표,테이블을 다루는 파이썬)으로 파일을 불러옵니다.\n",
        "\n",
        "파일이름을 정확하게 입력해야 오류가 없습니다. "
      ],
      "metadata": {
        "id": "p7U3xt3WiN79"
      }
    },
    {
      "cell_type": "code",
      "source": [
        "import pandas as pd\n",
        "data=pd.read_csv('winequality.csv') #파일을 못 읽으면 encoding='cp949'을 추가해서 실행하세요. \n",
        "data=pd.DataFrame(data) "
      ],
      "metadata": {
        "id": "GkYN-75irzGQ"
      },
      "execution_count": null,
      "outputs": []
    },
    {
      "cell_type": "markdown",
      "source": [
        "데이터를 살펴봅시다.\n",
        "\n",
        "target(0: 레드와인, 1: 화이트와인)\n",
        "\n",
        "나머지 성분은 화학, 생명과학 책과 인터넷검색을 통해서 자세히 알아봅시다.\n",
        "\n",
        "(fixed acidity :주석산농도, volatile acidity:아세트산농도, citric acid:구연산농도, residual sugar:잔류당분농도, chlorides: 염화나트륨농도, free sulfur dioxide:유리아황산농도, total sulfur dioxide:총아황산농도, density:밀도, pH:pH농도 , sulphates:황산칼륨농도, alcohol:알콜도수, alcohol:와인등급(1~10) \n"
      ],
      "metadata": {
        "id": "1XjvlefFiieh"
      }
    },
    {
      "cell_type": "code",
      "source": [
        "data.head()"
      ],
      "metadata": {
        "colab": {
          "base_uri": "https://localhost:8080/",
          "height": 206
        },
        "id": "LKb9Y0ywsTW7",
        "outputId": "f914613e-7339-4719-ce3e-cb3efd94a3d0"
      },
      "execution_count": null,
      "outputs": [
        {
          "output_type": "execute_result",
          "data": {
            "text/plain": [
              "   fixed acidity  volatile acidity  citric acid  residual sugar  chlorides  \\\n",
              "0            7.0              0.27         0.36            20.7      0.045   \n",
              "1            6.3              0.30         0.34             1.6      0.049   \n",
              "2            8.1              0.28         0.40             6.9      0.050   \n",
              "3            7.2              0.23         0.32             8.5      0.058   \n",
              "4            7.2              0.23         0.32             8.5      0.058   \n",
              "\n",
              "   free sulfur dioxide  total sulfur dioxide  density    pH  sulphates  \\\n",
              "0                 45.0                 170.0   1.0010  3.00       0.45   \n",
              "1                 14.0                 132.0   0.9940  3.30       0.49   \n",
              "2                 30.0                  97.0   0.9951  3.26       0.44   \n",
              "3                 47.0                 186.0   0.9956  3.19       0.40   \n",
              "4                 47.0                 186.0   0.9956  3.19       0.40   \n",
              "\n",
              "   alcohol  quality  target  \n",
              "0      8.8        6       1  \n",
              "1      9.5        6       1  \n",
              "2     10.1        6       1  \n",
              "3      9.9        6       1  \n",
              "4      9.9        6       1  "
            ],
            "text/html": [
              "\n",
              "  <div id=\"df-a5e221d9-f919-4d0f-9dcf-0976a815329e\">\n",
              "    <div class=\"colab-df-container\">\n",
              "      <div>\n",
              "<style scoped>\n",
              "    .dataframe tbody tr th:only-of-type {\n",
              "        vertical-align: middle;\n",
              "    }\n",
              "\n",
              "    .dataframe tbody tr th {\n",
              "        vertical-align: top;\n",
              "    }\n",
              "\n",
              "    .dataframe thead th {\n",
              "        text-align: right;\n",
              "    }\n",
              "</style>\n",
              "<table border=\"1\" class=\"dataframe\">\n",
              "  <thead>\n",
              "    <tr style=\"text-align: right;\">\n",
              "      <th></th>\n",
              "      <th>fixed acidity</th>\n",
              "      <th>volatile acidity</th>\n",
              "      <th>citric acid</th>\n",
              "      <th>residual sugar</th>\n",
              "      <th>chlorides</th>\n",
              "      <th>free sulfur dioxide</th>\n",
              "      <th>total sulfur dioxide</th>\n",
              "      <th>density</th>\n",
              "      <th>pH</th>\n",
              "      <th>sulphates</th>\n",
              "      <th>alcohol</th>\n",
              "      <th>quality</th>\n",
              "      <th>target</th>\n",
              "    </tr>\n",
              "  </thead>\n",
              "  <tbody>\n",
              "    <tr>\n",
              "      <th>0</th>\n",
              "      <td>7.0</td>\n",
              "      <td>0.27</td>\n",
              "      <td>0.36</td>\n",
              "      <td>20.7</td>\n",
              "      <td>0.045</td>\n",
              "      <td>45.0</td>\n",
              "      <td>170.0</td>\n",
              "      <td>1.0010</td>\n",
              "      <td>3.00</td>\n",
              "      <td>0.45</td>\n",
              "      <td>8.8</td>\n",
              "      <td>6</td>\n",
              "      <td>1</td>\n",
              "    </tr>\n",
              "    <tr>\n",
              "      <th>1</th>\n",
              "      <td>6.3</td>\n",
              "      <td>0.30</td>\n",
              "      <td>0.34</td>\n",
              "      <td>1.6</td>\n",
              "      <td>0.049</td>\n",
              "      <td>14.0</td>\n",
              "      <td>132.0</td>\n",
              "      <td>0.9940</td>\n",
              "      <td>3.30</td>\n",
              "      <td>0.49</td>\n",
              "      <td>9.5</td>\n",
              "      <td>6</td>\n",
              "      <td>1</td>\n",
              "    </tr>\n",
              "    <tr>\n",
              "      <th>2</th>\n",
              "      <td>8.1</td>\n",
              "      <td>0.28</td>\n",
              "      <td>0.40</td>\n",
              "      <td>6.9</td>\n",
              "      <td>0.050</td>\n",
              "      <td>30.0</td>\n",
              "      <td>97.0</td>\n",
              "      <td>0.9951</td>\n",
              "      <td>3.26</td>\n",
              "      <td>0.44</td>\n",
              "      <td>10.1</td>\n",
              "      <td>6</td>\n",
              "      <td>1</td>\n",
              "    </tr>\n",
              "    <tr>\n",
              "      <th>3</th>\n",
              "      <td>7.2</td>\n",
              "      <td>0.23</td>\n",
              "      <td>0.32</td>\n",
              "      <td>8.5</td>\n",
              "      <td>0.058</td>\n",
              "      <td>47.0</td>\n",
              "      <td>186.0</td>\n",
              "      <td>0.9956</td>\n",
              "      <td>3.19</td>\n",
              "      <td>0.40</td>\n",
              "      <td>9.9</td>\n",
              "      <td>6</td>\n",
              "      <td>1</td>\n",
              "    </tr>\n",
              "    <tr>\n",
              "      <th>4</th>\n",
              "      <td>7.2</td>\n",
              "      <td>0.23</td>\n",
              "      <td>0.32</td>\n",
              "      <td>8.5</td>\n",
              "      <td>0.058</td>\n",
              "      <td>47.0</td>\n",
              "      <td>186.0</td>\n",
              "      <td>0.9956</td>\n",
              "      <td>3.19</td>\n",
              "      <td>0.40</td>\n",
              "      <td>9.9</td>\n",
              "      <td>6</td>\n",
              "      <td>1</td>\n",
              "    </tr>\n",
              "  </tbody>\n",
              "</table>\n",
              "</div>\n",
              "      <button class=\"colab-df-convert\" onclick=\"convertToInteractive('df-a5e221d9-f919-4d0f-9dcf-0976a815329e')\"\n",
              "              title=\"Convert this dataframe to an interactive table.\"\n",
              "              style=\"display:none;\">\n",
              "        \n",
              "  <svg xmlns=\"http://www.w3.org/2000/svg\" height=\"24px\"viewBox=\"0 0 24 24\"\n",
              "       width=\"24px\">\n",
              "    <path d=\"M0 0h24v24H0V0z\" fill=\"none\"/>\n",
              "    <path d=\"M18.56 5.44l.94 2.06.94-2.06 2.06-.94-2.06-.94-.94-2.06-.94 2.06-2.06.94zm-11 1L8.5 8.5l.94-2.06 2.06-.94-2.06-.94L8.5 2.5l-.94 2.06-2.06.94zm10 10l.94 2.06.94-2.06 2.06-.94-2.06-.94-.94-2.06-.94 2.06-2.06.94z\"/><path d=\"M17.41 7.96l-1.37-1.37c-.4-.4-.92-.59-1.43-.59-.52 0-1.04.2-1.43.59L10.3 9.45l-7.72 7.72c-.78.78-.78 2.05 0 2.83L4 21.41c.39.39.9.59 1.41.59.51 0 1.02-.2 1.41-.59l7.78-7.78 2.81-2.81c.8-.78.8-2.07 0-2.86zM5.41 20L4 18.59l7.72-7.72 1.47 1.35L5.41 20z\"/>\n",
              "  </svg>\n",
              "      </button>\n",
              "      \n",
              "  <style>\n",
              "    .colab-df-container {\n",
              "      display:flex;\n",
              "      flex-wrap:wrap;\n",
              "      gap: 12px;\n",
              "    }\n",
              "\n",
              "    .colab-df-convert {\n",
              "      background-color: #E8F0FE;\n",
              "      border: none;\n",
              "      border-radius: 50%;\n",
              "      cursor: pointer;\n",
              "      display: none;\n",
              "      fill: #1967D2;\n",
              "      height: 32px;\n",
              "      padding: 0 0 0 0;\n",
              "      width: 32px;\n",
              "    }\n",
              "\n",
              "    .colab-df-convert:hover {\n",
              "      background-color: #E2EBFA;\n",
              "      box-shadow: 0px 1px 2px rgba(60, 64, 67, 0.3), 0px 1px 3px 1px rgba(60, 64, 67, 0.15);\n",
              "      fill: #174EA6;\n",
              "    }\n",
              "\n",
              "    [theme=dark] .colab-df-convert {\n",
              "      background-color: #3B4455;\n",
              "      fill: #D2E3FC;\n",
              "    }\n",
              "\n",
              "    [theme=dark] .colab-df-convert:hover {\n",
              "      background-color: #434B5C;\n",
              "      box-shadow: 0px 1px 3px 1px rgba(0, 0, 0, 0.15);\n",
              "      filter: drop-shadow(0px 1px 2px rgba(0, 0, 0, 0.3));\n",
              "      fill: #FFFFFF;\n",
              "    }\n",
              "  </style>\n",
              "\n",
              "      <script>\n",
              "        const buttonEl =\n",
              "          document.querySelector('#df-a5e221d9-f919-4d0f-9dcf-0976a815329e button.colab-df-convert');\n",
              "        buttonEl.style.display =\n",
              "          google.colab.kernel.accessAllowed ? 'block' : 'none';\n",
              "\n",
              "        async function convertToInteractive(key) {\n",
              "          const element = document.querySelector('#df-a5e221d9-f919-4d0f-9dcf-0976a815329e');\n",
              "          const dataTable =\n",
              "            await google.colab.kernel.invokeFunction('convertToInteractive',\n",
              "                                                     [key], {});\n",
              "          if (!dataTable) return;\n",
              "\n",
              "          const docLinkHtml = 'Like what you see? Visit the ' +\n",
              "            '<a target=\"_blank\" href=https://colab.research.google.com/notebooks/data_table.ipynb>data table notebook</a>'\n",
              "            + ' to learn more about interactive tables.';\n",
              "          element.innerHTML = '';\n",
              "          dataTable['output_type'] = 'display_data';\n",
              "          await google.colab.output.renderOutput(dataTable, element);\n",
              "          const docLink = document.createElement('div');\n",
              "          docLink.innerHTML = docLinkHtml;\n",
              "          element.appendChild(docLink);\n",
              "        }\n",
              "      </script>\n",
              "    </div>\n",
              "  </div>\n",
              "  "
            ]
          },
          "metadata": {},
          "execution_count": 3
        }
      ]
    },
    {
      "cell_type": "markdown",
      "source": [
        "평균, 표준편차, 최솟값,최댓값, 사분위수를 확인합니다."
      ],
      "metadata": {
        "id": "sZCr6IjKkkqk"
      }
    },
    {
      "cell_type": "code",
      "source": [
        "data.describe()"
      ],
      "metadata": {
        "colab": {
          "base_uri": "https://localhost:8080/",
          "height": 362
        },
        "id": "j62fzhUusTZw",
        "outputId": "9e0a1a8b-18b6-4fbc-a45b-289bfa141cfc"
      },
      "execution_count": null,
      "outputs": [
        {
          "output_type": "execute_result",
          "data": {
            "text/plain": [
              "       fixed acidity  volatile acidity  citric acid  residual sugar  \\\n",
              "count    6497.000000       6497.000000  6497.000000     6497.000000   \n",
              "mean        7.215307          0.339666     0.318633        5.443235   \n",
              "std         1.296434          0.164636     0.145318        4.757804   \n",
              "min         3.800000          0.080000     0.000000        0.600000   \n",
              "25%         6.400000          0.230000     0.250000        1.800000   \n",
              "50%         7.000000          0.290000     0.310000        3.000000   \n",
              "75%         7.700000          0.400000     0.390000        8.100000   \n",
              "max        15.900000          1.580000     1.660000       65.800000   \n",
              "\n",
              "         chlorides  free sulfur dioxide  total sulfur dioxide      density  \\\n",
              "count  6497.000000          6497.000000           6497.000000  6497.000000   \n",
              "mean      0.056034            30.525319            115.744574     0.994697   \n",
              "std       0.035034            17.749400             56.521855     0.002999   \n",
              "min       0.009000             1.000000              6.000000     0.987110   \n",
              "25%       0.038000            17.000000             77.000000     0.992340   \n",
              "50%       0.047000            29.000000            118.000000     0.994890   \n",
              "75%       0.065000            41.000000            156.000000     0.996990   \n",
              "max       0.611000           289.000000            440.000000     1.038980   \n",
              "\n",
              "                pH    sulphates      alcohol      quality       target  \n",
              "count  6497.000000  6497.000000  6497.000000  6497.000000  6497.000000  \n",
              "mean      3.218501     0.531268    10.491801     5.818378     0.753886  \n",
              "std       0.160787     0.148806     1.192712     0.873255     0.430779  \n",
              "min       2.720000     0.220000     8.000000     3.000000     0.000000  \n",
              "25%       3.110000     0.430000     9.500000     5.000000     1.000000  \n",
              "50%       3.210000     0.510000    10.300000     6.000000     1.000000  \n",
              "75%       3.320000     0.600000    11.300000     6.000000     1.000000  \n",
              "max       4.010000     2.000000    14.900000     9.000000     1.000000  "
            ],
            "text/html": [
              "\n",
              "  <div id=\"df-408b0616-7efa-48cb-bcbf-6ddf37d93246\">\n",
              "    <div class=\"colab-df-container\">\n",
              "      <div>\n",
              "<style scoped>\n",
              "    .dataframe tbody tr th:only-of-type {\n",
              "        vertical-align: middle;\n",
              "    }\n",
              "\n",
              "    .dataframe tbody tr th {\n",
              "        vertical-align: top;\n",
              "    }\n",
              "\n",
              "    .dataframe thead th {\n",
              "        text-align: right;\n",
              "    }\n",
              "</style>\n",
              "<table border=\"1\" class=\"dataframe\">\n",
              "  <thead>\n",
              "    <tr style=\"text-align: right;\">\n",
              "      <th></th>\n",
              "      <th>fixed acidity</th>\n",
              "      <th>volatile acidity</th>\n",
              "      <th>citric acid</th>\n",
              "      <th>residual sugar</th>\n",
              "      <th>chlorides</th>\n",
              "      <th>free sulfur dioxide</th>\n",
              "      <th>total sulfur dioxide</th>\n",
              "      <th>density</th>\n",
              "      <th>pH</th>\n",
              "      <th>sulphates</th>\n",
              "      <th>alcohol</th>\n",
              "      <th>quality</th>\n",
              "      <th>target</th>\n",
              "    </tr>\n",
              "  </thead>\n",
              "  <tbody>\n",
              "    <tr>\n",
              "      <th>count</th>\n",
              "      <td>6497.000000</td>\n",
              "      <td>6497.000000</td>\n",
              "      <td>6497.000000</td>\n",
              "      <td>6497.000000</td>\n",
              "      <td>6497.000000</td>\n",
              "      <td>6497.000000</td>\n",
              "      <td>6497.000000</td>\n",
              "      <td>6497.000000</td>\n",
              "      <td>6497.000000</td>\n",
              "      <td>6497.000000</td>\n",
              "      <td>6497.000000</td>\n",
              "      <td>6497.000000</td>\n",
              "      <td>6497.000000</td>\n",
              "    </tr>\n",
              "    <tr>\n",
              "      <th>mean</th>\n",
              "      <td>7.215307</td>\n",
              "      <td>0.339666</td>\n",
              "      <td>0.318633</td>\n",
              "      <td>5.443235</td>\n",
              "      <td>0.056034</td>\n",
              "      <td>30.525319</td>\n",
              "      <td>115.744574</td>\n",
              "      <td>0.994697</td>\n",
              "      <td>3.218501</td>\n",
              "      <td>0.531268</td>\n",
              "      <td>10.491801</td>\n",
              "      <td>5.818378</td>\n",
              "      <td>0.753886</td>\n",
              "    </tr>\n",
              "    <tr>\n",
              "      <th>std</th>\n",
              "      <td>1.296434</td>\n",
              "      <td>0.164636</td>\n",
              "      <td>0.145318</td>\n",
              "      <td>4.757804</td>\n",
              "      <td>0.035034</td>\n",
              "      <td>17.749400</td>\n",
              "      <td>56.521855</td>\n",
              "      <td>0.002999</td>\n",
              "      <td>0.160787</td>\n",
              "      <td>0.148806</td>\n",
              "      <td>1.192712</td>\n",
              "      <td>0.873255</td>\n",
              "      <td>0.430779</td>\n",
              "    </tr>\n",
              "    <tr>\n",
              "      <th>min</th>\n",
              "      <td>3.800000</td>\n",
              "      <td>0.080000</td>\n",
              "      <td>0.000000</td>\n",
              "      <td>0.600000</td>\n",
              "      <td>0.009000</td>\n",
              "      <td>1.000000</td>\n",
              "      <td>6.000000</td>\n",
              "      <td>0.987110</td>\n",
              "      <td>2.720000</td>\n",
              "      <td>0.220000</td>\n",
              "      <td>8.000000</td>\n",
              "      <td>3.000000</td>\n",
              "      <td>0.000000</td>\n",
              "    </tr>\n",
              "    <tr>\n",
              "      <th>25%</th>\n",
              "      <td>6.400000</td>\n",
              "      <td>0.230000</td>\n",
              "      <td>0.250000</td>\n",
              "      <td>1.800000</td>\n",
              "      <td>0.038000</td>\n",
              "      <td>17.000000</td>\n",
              "      <td>77.000000</td>\n",
              "      <td>0.992340</td>\n",
              "      <td>3.110000</td>\n",
              "      <td>0.430000</td>\n",
              "      <td>9.500000</td>\n",
              "      <td>5.000000</td>\n",
              "      <td>1.000000</td>\n",
              "    </tr>\n",
              "    <tr>\n",
              "      <th>50%</th>\n",
              "      <td>7.000000</td>\n",
              "      <td>0.290000</td>\n",
              "      <td>0.310000</td>\n",
              "      <td>3.000000</td>\n",
              "      <td>0.047000</td>\n",
              "      <td>29.000000</td>\n",
              "      <td>118.000000</td>\n",
              "      <td>0.994890</td>\n",
              "      <td>3.210000</td>\n",
              "      <td>0.510000</td>\n",
              "      <td>10.300000</td>\n",
              "      <td>6.000000</td>\n",
              "      <td>1.000000</td>\n",
              "    </tr>\n",
              "    <tr>\n",
              "      <th>75%</th>\n",
              "      <td>7.700000</td>\n",
              "      <td>0.400000</td>\n",
              "      <td>0.390000</td>\n",
              "      <td>8.100000</td>\n",
              "      <td>0.065000</td>\n",
              "      <td>41.000000</td>\n",
              "      <td>156.000000</td>\n",
              "      <td>0.996990</td>\n",
              "      <td>3.320000</td>\n",
              "      <td>0.600000</td>\n",
              "      <td>11.300000</td>\n",
              "      <td>6.000000</td>\n",
              "      <td>1.000000</td>\n",
              "    </tr>\n",
              "    <tr>\n",
              "      <th>max</th>\n",
              "      <td>15.900000</td>\n",
              "      <td>1.580000</td>\n",
              "      <td>1.660000</td>\n",
              "      <td>65.800000</td>\n",
              "      <td>0.611000</td>\n",
              "      <td>289.000000</td>\n",
              "      <td>440.000000</td>\n",
              "      <td>1.038980</td>\n",
              "      <td>4.010000</td>\n",
              "      <td>2.000000</td>\n",
              "      <td>14.900000</td>\n",
              "      <td>9.000000</td>\n",
              "      <td>1.000000</td>\n",
              "    </tr>\n",
              "  </tbody>\n",
              "</table>\n",
              "</div>\n",
              "      <button class=\"colab-df-convert\" onclick=\"convertToInteractive('df-408b0616-7efa-48cb-bcbf-6ddf37d93246')\"\n",
              "              title=\"Convert this dataframe to an interactive table.\"\n",
              "              style=\"display:none;\">\n",
              "        \n",
              "  <svg xmlns=\"http://www.w3.org/2000/svg\" height=\"24px\"viewBox=\"0 0 24 24\"\n",
              "       width=\"24px\">\n",
              "    <path d=\"M0 0h24v24H0V0z\" fill=\"none\"/>\n",
              "    <path d=\"M18.56 5.44l.94 2.06.94-2.06 2.06-.94-2.06-.94-.94-2.06-.94 2.06-2.06.94zm-11 1L8.5 8.5l.94-2.06 2.06-.94-2.06-.94L8.5 2.5l-.94 2.06-2.06.94zm10 10l.94 2.06.94-2.06 2.06-.94-2.06-.94-.94-2.06-.94 2.06-2.06.94z\"/><path d=\"M17.41 7.96l-1.37-1.37c-.4-.4-.92-.59-1.43-.59-.52 0-1.04.2-1.43.59L10.3 9.45l-7.72 7.72c-.78.78-.78 2.05 0 2.83L4 21.41c.39.39.9.59 1.41.59.51 0 1.02-.2 1.41-.59l7.78-7.78 2.81-2.81c.8-.78.8-2.07 0-2.86zM5.41 20L4 18.59l7.72-7.72 1.47 1.35L5.41 20z\"/>\n",
              "  </svg>\n",
              "      </button>\n",
              "      \n",
              "  <style>\n",
              "    .colab-df-container {\n",
              "      display:flex;\n",
              "      flex-wrap:wrap;\n",
              "      gap: 12px;\n",
              "    }\n",
              "\n",
              "    .colab-df-convert {\n",
              "      background-color: #E8F0FE;\n",
              "      border: none;\n",
              "      border-radius: 50%;\n",
              "      cursor: pointer;\n",
              "      display: none;\n",
              "      fill: #1967D2;\n",
              "      height: 32px;\n",
              "      padding: 0 0 0 0;\n",
              "      width: 32px;\n",
              "    }\n",
              "\n",
              "    .colab-df-convert:hover {\n",
              "      background-color: #E2EBFA;\n",
              "      box-shadow: 0px 1px 2px rgba(60, 64, 67, 0.3), 0px 1px 3px 1px rgba(60, 64, 67, 0.15);\n",
              "      fill: #174EA6;\n",
              "    }\n",
              "\n",
              "    [theme=dark] .colab-df-convert {\n",
              "      background-color: #3B4455;\n",
              "      fill: #D2E3FC;\n",
              "    }\n",
              "\n",
              "    [theme=dark] .colab-df-convert:hover {\n",
              "      background-color: #434B5C;\n",
              "      box-shadow: 0px 1px 3px 1px rgba(0, 0, 0, 0.15);\n",
              "      filter: drop-shadow(0px 1px 2px rgba(0, 0, 0, 0.3));\n",
              "      fill: #FFFFFF;\n",
              "    }\n",
              "  </style>\n",
              "\n",
              "      <script>\n",
              "        const buttonEl =\n",
              "          document.querySelector('#df-408b0616-7efa-48cb-bcbf-6ddf37d93246 button.colab-df-convert');\n",
              "        buttonEl.style.display =\n",
              "          google.colab.kernel.accessAllowed ? 'block' : 'none';\n",
              "\n",
              "        async function convertToInteractive(key) {\n",
              "          const element = document.querySelector('#df-408b0616-7efa-48cb-bcbf-6ddf37d93246');\n",
              "          const dataTable =\n",
              "            await google.colab.kernel.invokeFunction('convertToInteractive',\n",
              "                                                     [key], {});\n",
              "          if (!dataTable) return;\n",
              "\n",
              "          const docLinkHtml = 'Like what you see? Visit the ' +\n",
              "            '<a target=\"_blank\" href=https://colab.research.google.com/notebooks/data_table.ipynb>data table notebook</a>'\n",
              "            + ' to learn more about interactive tables.';\n",
              "          element.innerHTML = '';\n",
              "          dataTable['output_type'] = 'display_data';\n",
              "          await google.colab.output.renderOutput(dataTable, element);\n",
              "          const docLink = document.createElement('div');\n",
              "          docLink.innerHTML = docLinkHtml;\n",
              "          element.appendChild(docLink);\n",
              "        }\n",
              "      </script>\n",
              "    </div>\n",
              "  </div>\n",
              "  "
            ]
          },
          "metadata": {},
          "execution_count": 4
        }
      ]
    },
    {
      "cell_type": "markdown",
      "source": [
        "데이터의 형태와 갯수를 확인합니다.\n",
        "(float64는 실수라는 뜻입니다.)"
      ],
      "metadata": {
        "id": "dKIoGQqrktIT"
      }
    },
    {
      "cell_type": "code",
      "source": [
        "data.info()"
      ],
      "metadata": {
        "colab": {
          "base_uri": "https://localhost:8080/"
        },
        "id": "P25KwfCYsTcj",
        "outputId": "200d2bcb-8ae5-496a-a0dd-b88e1628553a"
      },
      "execution_count": null,
      "outputs": [
        {
          "output_type": "stream",
          "name": "stdout",
          "text": [
            "<class 'pandas.core.frame.DataFrame'>\n",
            "RangeIndex: 6497 entries, 0 to 6496\n",
            "Data columns (total 13 columns):\n",
            " #   Column                Non-Null Count  Dtype  \n",
            "---  ------                --------------  -----  \n",
            " 0   fixed acidity         6497 non-null   float64\n",
            " 1   volatile acidity      6497 non-null   float64\n",
            " 2   citric acid           6497 non-null   float64\n",
            " 3   residual sugar        6497 non-null   float64\n",
            " 4   chlorides             6497 non-null   float64\n",
            " 5   free sulfur dioxide   6497 non-null   float64\n",
            " 6   total sulfur dioxide  6497 non-null   float64\n",
            " 7   density               6497 non-null   float64\n",
            " 8   pH                    6497 non-null   float64\n",
            " 9   sulphates             6497 non-null   float64\n",
            " 10  alcohol               6497 non-null   float64\n",
            " 11  quality               6497 non-null   int64  \n",
            " 12  target                6497 non-null   int64  \n",
            "dtypes: float64(11), int64(2)\n",
            "memory usage: 660.0 KB\n"
          ]
        }
      ]
    },
    {
      "cell_type": "markdown",
      "source": [
        "데이터를 히스토그램으로 시각화했습니다.\n",
        "\n",
        "확률과통계 시간에 배운 정규분포곡선을 나타내는 자료는 무엇인지 확인해봅시다. **(히스토그램이 나타내는 넓이는 모두 1 입니다.)**"
      ],
      "metadata": {
        "id": "4efJg5Q8lkIl"
      }
    },
    {
      "cell_type": "code",
      "source": [
        "#맷플롯립은 데이터를 시각화하여 표와 그래로 보여주는 모듈입니다.\n",
        "#hist는 히스토그램을 의미하여 bins는 계급의 갯수, density는 상대도수, figsize는 크기, color는 색상입니다.\n",
        "import matplotlib.pyplot as plt  \n",
        "data.hist(bins=40, density=True, color='red',figsize=(20,10)) \n",
        "plt.show()"
      ],
      "metadata": {
        "colab": {
          "base_uri": "https://localhost:8080/",
          "height": 607
        },
        "id": "v_hlozw5sTfK",
        "outputId": "4585a6e7-a9c5-49c4-ee8f-90b660df5512"
      },
      "execution_count": null,
      "outputs": [
        {
          "output_type": "display_data",
          "data": {
            "text/plain": [
              "<Figure size 1440x720 with 16 Axes>"
            ],
            "image/png": "[encoded data removed]"
          },
          "metadata": {
            "needs_background": "light"
          }
        }
      ]
    },
    {
      "cell_type": "markdown",
      "source": [
        "데이터 간의 상관계수를 확인합니다.\n",
        "\n",
        "(결정계수도 있지만 최대한 코드를 간단하게 하고자 합니다.)"
      ],
      "metadata": {
        "id": "wSD6WqlxngCY"
      }
    },
    {
      "cell_type": "code",
      "source": [
        "corr_matrix=data.corr()# 상관계수를 확인합니다. \n",
        "corr_matrix['target']"
      ],
      "metadata": {
        "colab": {
          "base_uri": "https://localhost:8080/"
        },
        "id": "4QaymocYsTkw",
        "outputId": "f48f88e2-abbe-4d0a-9983-7dd10410ee7b"
      },
      "execution_count": null,
      "outputs": [
        {
          "output_type": "execute_result",
          "data": {
            "text/plain": [
              "fixed acidity          -0.486740\n",
              "volatile acidity       -0.653036\n",
              "citric acid             0.187397\n",
              "residual sugar          0.348821\n",
              "chlorides              -0.512678\n",
              "free sulfur dioxide     0.471644\n",
              "total sulfur dioxide    0.700357\n",
              "density                -0.390645\n",
              "pH                     -0.329129\n",
              "sulphates              -0.487218\n",
              "alcohol                 0.032970\n",
              "quality                 0.119323\n",
              "target                  1.000000\n",
              "Name: target, dtype: float64"
            ]
          },
          "metadata": {},
          "execution_count": 7
        }
      ]
    },
    {
      "cell_type": "markdown",
      "source": [
        "상관계수가 높은 성분을 2개 선택해보았습니다.\n",
        "\n",
        " 'total sulfur dioxide','volatile acidity'를 x,y축으로 두고 색상은 와인분류(target)으로 두고 표현했습니다."
      ],
      "metadata": {
        "id": "B8HCP36apZ4Q"
      }
    },
    {
      "cell_type": "code",
      "source": [
        "#cmap은 수치에 맞게 색상을 구분하여 표현한 것입니다. 검색을 해보시면 rainbow외에 다양한 것이 있습니다. \n",
        "#alpha는 투명도인데 산점도가 겹쳐도 보이도록 합니다.\n",
        "#sharex는 그래프 테두리를 사라지게 해서 예쁘게 보입니다. 필수적인 요소는 아닙니다. \n",
        "data.plot(kind='scatter', x='total sulfur dioxide',y='volatile acidity',c='target' ,cmap='rainbow', alpha=0.6, sharex=False) #scatter는 산점도, c는 색상대상, cmap은 색tkd, alpha는 투명도, sharex는 테두리 없애기\n",
        "plt.show()"
      ],
      "metadata": {
        "colab": {
          "base_uri": "https://localhost:8080/",
          "height": 283
        },
        "id": "JhV8dsD8sTnj",
        "outputId": "1bf82206-fd70-4551-9947-69b892f3fcc8"
      },
      "execution_count": null,
      "outputs": [
        {
          "output_type": "display_data",
          "data": {
            "text/plain": [
              "<Figure size 432x288 with 2 Axes>"
            ],
            "image/png": "[encoded data removed]"
          },
          "metadata": {
            "needs_background": "light"
          }
        }
      ]
    },
    {
      "cell_type": "markdown",
      "source": [
        "데이터의 결측치를 제거합니다. \n",
        "\n",
        "결측치는 빈칸입니다. 빈칸을 처리하는 방법은 0, 평균, 앞의수, 뒤의수 등 다양하게 채우는 방법이 있지만 , 여기서는 빈칸이 있는 행은 모두 삭제하겠습니다."
      ],
      "metadata": {
        "id": "Hfa0e84TtIvq"
      }
    },
    {
      "cell_type": "code",
      "source": [
        "data=data.dropna()"
      ],
      "metadata": {
        "id": "qMbTQg0rsTiB"
      },
      "execution_count": null,
      "outputs": []
    },
    {
      "cell_type": "markdown",
      "source": [
        "7개의 데이터를 선택해보았습니다."
      ],
      "metadata": {
        "id": "wxZ1yqiqtNlI"
      }
    },
    {
      "cell_type": "code",
      "source": [
        "x=data[['fixed acidity','volatile acidity','chlorides','chlorides','total sulfur dioxide','sulphates','free sulfur dioxide']]\n",
        "y=data['target']"
      ],
      "metadata": {
        "id": "c_rSCWZ9sTqp"
      },
      "execution_count": null,
      "outputs": []
    },
    {
      "cell_type": "markdown",
      "source": [
        "데이터를 분할해보겠습니다.\n",
        "\n",
        "전체데이터를 훈련데이터와 테스트데이터 2개로 나눕니다. "
      ],
      "metadata": {
        "id": "CfYXcaNwwqfW"
      }
    },
    {
      "cell_type": "code",
      "source": [
        "from sklearn.model_selection import train_test_split #데이터를 나누는 sklearn모듈을 불러옵니다. \n",
        "x_train,x_test, y_train, y_test=train_test_split(x,y, test_size=0.3, random_state=42)"
      ],
      "metadata": {
        "id": "0IVdgLxFsTtz"
      },
      "execution_count": null,
      "outputs": []
    },
    {
      "cell_type": "markdown",
      "source": [
        "데이터의 행태를 확인합니다.\n",
        "\n",
        "위에서 선택한 7개의 성분을 묶어서 벡터(1차원 텐서)가 됩니다.\n",
        "\n",
        "이러한 벡터가 4547개를 모아서 모델을 훈련합니다.\n",
        "\n",
        "나머지 벡터 1950개는 나중에 모델을 테스트하는 것에 쓰입니다."
      ],
      "metadata": {
        "id": "0dElklSqttOP"
      }
    },
    {
      "cell_type": "code",
      "source": [
        "print(x_train.shape)\n",
        "print(y_train.shape)\n",
        "print(x_test.shape)\n",
        "print(y_test.shape)"
      ],
      "metadata": {
        "colab": {
          "base_uri": "https://localhost:8080/"
        },
        "id": "g82pL0zguLzN",
        "outputId": "67a0d62f-7336-443f-c567-02117e60a315"
      },
      "execution_count": null,
      "outputs": [
        {
          "output_type": "stream",
          "name": "stdout",
          "text": [
            "(4547, 7)\n",
            "(4547,)\n",
            "(1950, 7)\n",
            "(1950,)\n"
          ]
        }
      ]
    },
    {
      "cell_type": "markdown",
      "source": [
        "데이터를 확률과통계시간에 배운 표준화해보겠습니다. \n",
        "\n",
        "$$y={{x-m}\\over{\\sigma}}$$"
      ],
      "metadata": {
        "id": "P0oN6UL0v2y3"
      }
    },
    {
      "cell_type": "markdown",
      "source": [
        "표준화 전 후의 정확도는 차이가 있는 것을 확인할 수 있습니다. "
      ],
      "metadata": {
        "id": "Me-Owcim2VcB"
      }
    },
    {
      "cell_type": "code",
      "source": [
        "#각 성분별로 평균을 구해줍니다. \n",
        "mean=x_train.mean(axis=0)\n",
        "std=x_train.std(axis=0)"
      ],
      "metadata": {
        "id": "l-Wi9lfCuL6B"
      },
      "execution_count": null,
      "outputs": []
    },
    {
      "cell_type": "code",
      "source": [
        "print(mean)\n",
        "print(std)"
      ],
      "metadata": {
        "colab": {
          "base_uri": "https://localhost:8080/"
        },
        "id": "_PjXpFecuMBb",
        "outputId": "07da8768-bacd-4af5-be5d-11d84ee760e0"
      },
      "execution_count": null,
      "outputs": [
        {
          "output_type": "stream",
          "name": "stdout",
          "text": [
            "fixed acidity             7.221190\n",
            "volatile acidity          0.340598\n",
            "chlorides                 0.056068\n",
            "chlorides                 0.056068\n",
            "total sulfur dioxide    115.317902\n",
            "sulphates                 0.533613\n",
            "free sulfur dioxide      30.421707\n",
            "dtype: float64\n",
            "fixed acidity            1.303680\n",
            "volatile acidity         0.166428\n",
            "chlorides                0.034652\n",
            "chlorides                0.034652\n",
            "total sulfur dioxide    56.168329\n",
            "sulphates                0.151784\n",
            "free sulfur dioxide     17.452693\n",
            "dtype: float64\n"
          ]
        }
      ]
    },
    {
      "cell_type": "markdown",
      "source": [
        "데이터를 모두 표준화시켜줍니다."
      ],
      "metadata": {
        "id": "_pYavWX_xaww"
      }
    },
    {
      "cell_type": "code",
      "source": [
        "x_train-=mean\n",
        "x_train/=std\n",
        "x_test-=mean\n",
        "x_test/=std"
      ],
      "metadata": {
        "id": "iwU7HMYauMJD"
      },
      "execution_count": null,
      "outputs": []
    },
    {
      "cell_type": "markdown",
      "source": [
        "인공신경망 모델을 만들고자 합니다. "
      ],
      "metadata": {
        "id": "x0cKJr6cxr4S"
      }
    },
    {
      "cell_type": "code",
      "source": [
        "from tensorflow import keras #인공신경망을 다루는 파이썬 모듈\n",
        "from tensorflow.keras.models import Sequential #인공신경망 시작한다는 뜻\n",
        "from tensorflow.keras.layers import Dense # 인공신경망의 층을 넣는다는 뜻\n",
        "\n",
        "model = Sequential()\n",
        "model.add(Dense(15, input_dim=7,activation='relu')) # 성분이 7개이므로 노드 7개짜리 은닉층 추가, relu는 활성화 함수\n",
        "model.add(Dense(2, activation='softmax')) #출력층(화이트 또는 와인이라서 2개)\n",
        "opt=keras.optimizers.SGD(learning_rate=0.001) #확률적 경사하강법, 학습률 확인\n",
        "model.compile(optimizer=opt, loss='sparse_categorical_crossentropy', metrics=['acc']) #나중에 결과가 2개인 확률변수"
      ],
      "metadata": {
        "id": "fUnDtaCVuMP4"
      },
      "execution_count": null,
      "outputs": []
    },
    {
      "cell_type": "markdown",
      "source": [
        "모델을 실행합니다. \n",
        "epoch는 반복횟수이고, batch_size는 훈련데이터 단위입니다.\n",
        "\n",
        "예를 들면 100개의 데이터에서 epoch=5, batch_size=10이면\n",
        "100개를 10개씩 묶어주고 묶음마다 1개만 훈련합니다.\n",
        "이러한 방법으로 5회 반복합니다.\n",
        "\n",
        "그리고 시간을 확인하면서 배치사이즈와 에포크에 따라 비교합시다. "
      ],
      "metadata": {
        "id": "PjwWj4qGyOZi"
      }
    },
    {
      "cell_type": "code",
      "source": [
        "import time\n",
        "a=time.time()\n",
        "hist = model.fit(x_train, y_train, shuffle=True, epochs=5, batch_size=1)\n",
        "b=time.time()\n",
        "print(b-a)"
      ],
      "metadata": {
        "colab": {
          "base_uri": "https://localhost:8080/"
        },
        "id": "hUwHbZ99ubQD",
        "outputId": "52fc8955-657f-4a6b-959a-641d8604d20c"
      },
      "execution_count": null,
      "outputs": [
        {
          "output_type": "stream",
          "name": "stdout",
          "text": [
            "Epoch 1/5\n",
            "4547/4547 [==============================] - 4s 892us/step - loss: 0.1869 - acc: 0.9496\n",
            "Epoch 2/5\n",
            "4547/4547 [==============================] - 4s 898us/step - loss: 0.0917 - acc: 0.9758\n",
            "Epoch 3/5\n",
            "4547/4547 [==============================] - 4s 895us/step - loss: 0.0724 - acc: 0.9782\n",
            "Epoch 4/5\n",
            "4547/4547 [==============================] - 4s 890us/step - loss: 0.0627 - acc: 0.9809\n",
            "Epoch 5/5\n",
            "4547/4547 [==============================] - 4s 887us/step - loss: 0.0565 - acc: 0.9833\n",
            "20.72858166694641\n"
          ]
        }
      ]
    },
    {
      "cell_type": "code",
      "source": [
        "import matplotlib.pyplot as plt\n",
        "plt.plot(hist.history['loss'], label='train_loss')\n",
        "plt.legend()\n",
        "plt.show()"
      ],
      "metadata": {
        "colab": {
          "base_uri": "https://localhost:8080/",
          "height": 265
        },
        "id": "AnlcmwKEubXF",
        "outputId": "edb11a4a-0d84-4b8b-9380-4e468a4cfd55"
      },
      "execution_count": null,
      "outputs": [
        {
          "output_type": "display_data",
          "data": {
            "text/plain": [
              "<Figure size 432x288 with 1 Axes>"
            ],
            "image/png": "[encoded data removed]"
          },
          "metadata": {
            "needs_background": "light"
          }
        }
      ]
    },
    {
      "cell_type": "code",
      "source": [
        "import matplotlib.pyplot as plt\n",
        "plt.plot(hist.history['acc'],  label='train_acc')\n",
        "plt.legend()\n",
        "plt.show()"
      ],
      "metadata": {
        "colab": {
          "base_uri": "https://localhost:8080/",
          "height": 265
        },
        "id": "6IwcljG9ubdx",
        "outputId": "bf85a9d6-aa99-4c67-80d2-cc77a2409588"
      },
      "execution_count": null,
      "outputs": [
        {
          "output_type": "display_data",
          "data": {
            "text/plain": [
              "<Figure size 432x288 with 1 Axes>"
            ],
            "image/png": "[encoded data removed]"
          },
          "metadata": {
            "needs_background": "light"
          }
        }
      ]
    },
    {
      "cell_type": "markdown",
      "source": [
        "와인분류 예측하기 "
      ],
      "metadata": {
        "id": "qLqrxJ4up4Nj"
      }
    },
    {
      "cell_type": "code",
      "source": [
        "y_pred=model.predict(x_test)"
      ],
      "metadata": {
        "colab": {
          "base_uri": "https://localhost:8080/"
        },
        "id": "iYeYI-1v92O2",
        "outputId": "94b79f63-c6e1-4285-fc2f-9852cf25cb5b"
      },
      "execution_count": null,
      "outputs": [
        {
          "output_type": "stream",
          "name": "stdout",
          "text": [
            "61/61 [==============================] - 0s 805us/step\n"
          ]
        }
      ]
    },
    {
      "cell_type": "code",
      "source": [
        "y_pred"
      ],
      "metadata": {
        "colab": {
          "base_uri": "https://localhost:8080/"
        },
        "id": "BURAO4AgjuMP",
        "outputId": "f3c5ae69-dd77-4e83-8381-04e9bf64ec91"
      },
      "execution_count": null,
      "outputs": [
        {
          "output_type": "execute_result",
          "data": {
            "text/plain": [
              "array([[4.4177026e-03, 9.9558222e-01],\n",
              "       [1.5902286e-03, 9.9840975e-01],\n",
              "       [3.0941237e-04, 9.9969071e-01],\n",
              "       ...,\n",
              "       [9.9664164e-01, 3.3583511e-03],\n",
              "       [4.2354506e-03, 9.9576449e-01],\n",
              "       [9.1507304e-01, 8.4927022e-02]], dtype=float32)"
            ]
          },
          "metadata": {},
          "execution_count": 73
        }
      ]
    },
    {
      "cell_type": "code",
      "source": [
        "import numpy as np\n",
        "y_pred=np.argmax(model.predict(x_test), axis=-1)\n",
        "print(y_pred)\n",
        "print(y_test)"
      ],
      "metadata": {
        "colab": {
          "base_uri": "https://localhost:8080/"
        },
        "id": "A2x6ApfVptJ6",
        "outputId": "c66a9277-f94a-44bd-f83f-3b830e8a4329"
      },
      "execution_count": null,
      "outputs": [
        {
          "output_type": "stream",
          "name": "stdout",
          "text": [
            "61/61 [==============================] - 0s 722us/step\n",
            "[1 1 1 ... 0 1 0]\n",
            "3103    1\n",
            "1419    1\n",
            "4761    1\n",
            "4690    1\n",
            "4032    1\n",
            "       ..\n",
            "4294    1\n",
            "3757    1\n",
            "5954    0\n",
            "4418    1\n",
            "6182    0\n",
            "Name: target, Length: 1950, dtype: int64\n"
          ]
        }
      ]
    },
    {
      "cell_type": "markdown",
      "source": [
        "확률과통계시간에 배운 조건부확률을 확인할 수 있습니다. \n",
        "\n",
        "우리가 사용한 정확도(acc)는 전체에서 정확하게 분류한 비율입니다.\n",
        "\n",
        "$$정확도(acc)={정확한 레드와인+정확한 화이트와인\\over{전체 분류 개수}}$$"
      ],
      "metadata": {
        "id": "f-W_VWCU5_qw"
      }
    },
    {
      "cell_type": "markdown",
      "source": [
        "![image.png](data:image/png;base64,iVBORw0KGgoAAAANSUhEUgAABTEAAAIKCAYAAAD76QsZAAAAAXNSR0IArs4c6QAAAARnQU1BAACxjwv8YQUAAAAJcEhZcwAADsMAAA7DAcdvqGQAAHYdSURBVHhe7f0NtGRlYSf87p73XTN37o0gwjgjF4mLDycsceihG4xKG8nbLQjGwYEIGMbFCAMIk0xUlAYkhgh0g/jxmhfoZiDDG4k0CpFJBPm6YNKoAbpNs4SlkY9llGtmEhCF3JnJrMzi9r/OU32q99nnnKo6Vefsc87vt9YDz961a1fVruraZ//r+Vjx8k4VAAAAAEBL/YPyfwAAAACAVhJiAgAAAACtJsQEAAAAAFpNiAkAAAAAtJoQEwAAAABoNSEmAAAAANBqQkwAAAAAoNWEmAAAAABAqwkxAQAAAIBWE2ICAAAAAK0mxAQAAAAAWk2ICQAAAAC0mhATAAAAAGg1ISYAAAAA0GpCTAAAAACg1YSYAAAAAECrCTEBAAAAgFYTYgIAAAAArbbi5Z1KfUavfe1rO/9/85vf3Pk/ACxG3/rWt6pXv/rV1YEHHljWAMDi8sILL1Tf+973qje+8Y3Vz/3cz5W1ALC45FyWc9qPfvSjsmZmfYeYK1asKDUAAAAAgLn7whe+UJ122mllaXoDh5hf+tKXOv8HgMXmO9/5TvXJT36y03LlkksuKWsBYHH54he/WN1xxx3V+973vuqEE04oawFgcVm/fn31zDPPVNu2batWrVpV1k5v4BCzz80BoHXuv//+at26ddXatWur++67r6wFgMXlwgsvrDZu3Fht2LChcwEIAIvR6tWrq+3bt/cdYprYBwAAAABoNSEmAAAAANBqQkwAAAAAoNWEmAAAAABAqwkxAQAAAIBWE2ICAAAAAK0mxAQAAAAAWk2ICQAAAAC0mhATAAAAAGg1ISYAAAAA0GpCTAAAAACg1YSYAAAAAECrCTEBAAAAgFYTYgIAAAAArSbEBAAAAABaTYgJAAAAALSaEBMAAAAAaDUhJgAAAADQakJMAAAAAKDVhJgAAAAAQKsJMQEAAACAVhNiAgAAAACtJsQEAAAAAFpNiAkAAAAAtJoQEwAAAABoNSEmAAAAANBqQkwAAAAAoNWEmAAAAABAqwkxAQAAAIBWE2ICAAAAAK0mxAQAAAAAWk2ICQAAAAC0mhATAAAAAGg1ISYAAAAA0GpCTAAAAACg1YSYAAAAAECrCTEBAAAAgFYTYgIAAAAArSbEBAAAAABaTYgJAAAAALSaEJNF5aqrrqpWrFixWxmXhx56aMpjjaIce+yx5RGGUz8Gc9lf735Ssu+FMp/vLQAAALC4CDFhiWsKY+eivq9BykKGpAAAAMDiJcQEAAAAAFpNiMmCG6Tb9gUXXFDuNalpu6Yy127c82mmY1I/Bvfcc0/jdinZDwAAAMBiJ8SEAWzdurV6+eWX51Tuvvvusrflq2n8y6aAGgAAACCEmMBAmoLZ6coxxxxT7gUAAAAwPCEmMJB6C8qZSrq6AwAAAMyVEJMFd9RRRzW24ht1WUzduEd1TLIfAAAAgMVOiElrPfbYY9XmzZurc889tzMpz0EHHdTY2i8lt6dkrMW77rqrev7558teRmvNmjWNjz9oGWbCndwnx+KII47YbV85Lqecckq1ZcuWsmX7fexjH5sSuF555ZXlVgAAAIDdCTFpnYSQCeZWrlxZnXPOOdV1113X6Zb89NNPly2myu0pmRzm+OOPr/bZZ59O4DeuMHM+PfPMM52ANgFqjsW2bdvKLRNyXG699dbq1FNP7Ry3fgLSbgAKAAAAsBgIMWmViy++uBNCzhRY9iuB38EHH9wJARerPPfVq1f3PbZkjlvCzmFaeg6r3qJyppIWmGF2cgAAAGAQQkxaI93Hr7jiirI0Gi+88EJ10UUXlaXFJ61J8xoGdfrpp5fawkgL2ASp3ZLQMgF1usLPZ8AKAAAALA1CTFqjqbVhAsitW7dWO3bsaGzZ1y3PPfdcZ7tbbrml03KxV7paD6OfyXWaxnFs2q5e+plwJ0Fg/ZgceOCBndeY19vdV173McccU7aYkBaZ6ZY/H+otKlPSnT8tQrslrSwTUKcr/De/+c1yTwAAAID+CDGhpb773e+W2qR77723M4nP3nvvXdZMhK2ZeT0BZ6/HH3+81KbqBqAAAAAAi4EQk9Z4y1veUmqT0novLfkyyU9Ti79u6bb8y+Q29YlvTj755FKbWdN+ZytN4zg2bTdbSXfr5eKBBx4wOzkAAAAwECEmrZEWhR/84AfL0mjstdde1YUXXliWFpdDDjmk1CYlkE038d5Z17Oc2cvrkyEdeuihpTb/ctzTxb1bElBu2rSp0/X9D/7gD8pWAAAAAP0RYtIq1157bWfMx3rX6GEkEE2rzMMOO6ysWVzSZbw+1mVeT2ZvT8vTbivOLNfHzkyIeNxxx5Wl0aq3oGwqP/nJTzpd3LslLS/PPvvsTlDd2xUeAAAAoB9CTFonYz4+9dRTncl80oIvrQ/rYV5dQs9sk4mAuhPfJBA94IADyhaLU15DAslB3XzzzaW2eDR1MQcAAAAIISatlRaUCba2bNnSac2XUGu62cATemabyy+/fMrEN/3qDc/mu+R1NkkIm9aXs4W4XQlz77zzzrG1wpxO7/ieoywAAAAAIcRkwTSFVrOV5TiRToLMBLQZTzJd5FevXl1umZDgMq1V0wL14YcfnvcAEwAAAGDchJgwgMcee6zavHlzp7VnJtNpCkgPOuigzm0XX3zxlEl45iLjSaZ7+aOPPrpbK860Qk1r1elaoOZ+vdunAAAAACwmQkzow0MPPdQJJleuXFmdc8451a233jplMp2uzBKe26644orOpDsHH3xwp+XnqMLMJs8880wnyDz33HM7z/NVr3pVY8Ca2xJ2JohNIFsPN6fr1g7A0lH/EW7UvROyv979pwDAqNXPNblmG6X6+TLLwMISYsIs0qJyzZo104aWs3nhhRc63eDf9KY3dYLDUeqGq+lSfuqpp1bXXXdd53nmMZvktgSwCWITyB5xxBGd8HOu6mHoMKVpvFMAhtd74ZUy6os7ABi3nLvq5zNg+RJismCagqz5Kv22OExrkrSoHIW00Dz66KNH1iJzruFqZNKghJ8JQufyvOp/WAxTmsY7BVju8t2c1vP50an7fZnW9ml5L5QEYLFIz7Fcv2Tore75LPWsy20A/RBi0hpt636WC8eNGzeWpUmZKTyT6GSinaaANGFlbrvooouqvfbaq9xrQlpI3njjjWVpeDnZjypcjQShv/Zrv1aWAGiDtN5PK/60ns+PTl05l6TlfX7ISsA5X5rO001lLpPwAbD0pOdXJifN9UuulbpSz7rcNp8/zNW7iU9X6o1Fsty0Xb3odg7jI8SEaWSm73q37E2bNnVmCs+4kpkwp0lmE89tl19+efXkk092unr3+vKXv1xqw8kvlU0BZneG8gSozz33XGPAmtvuvPPOzizn9YA1J+VRdC0HYO7yXZ/W+70Xe00ScPruBqCtMtFpen5NN9xV5LZ3v/vdIx96C1h6hJgwjccff7zUJq1bt67U+pPZwt/xjneUpQm9rWmG8b3vfa/UJiWYzEVsN1xtmqU8cttxxx3XmeX8wQcfLGsn/fCHPyw1ABZSuovPdMHXK9vqite/tPbJMevt0thtOZOWreOciA9gOcn36WmnnVaWZpZz3plnnlmWGFTC4t7JXUc9aR+0hRATpvGWt7yl1Cbdd999pdafnLjvvffesjQh3dHn4sUXXyy1SXvssUep9e8Vr3hFqY3edF3tBy0Ay1FaotS7sKW1fVpl5rsxre57W9Pnwu/qq68uS0wn5+QElemGn+749VauOeZp2XrwwQd3LgYBmJvbbrttyg9ymcwzvcZS6hN7prGH3gWDyY+Yachy/PHH9/3jJyxmQkyYxiGHHDKly3UubnIBlJPrdOO25ESS2zJuZS6E6hdJv/zLv1xqwznyyCNLbVIuyHLy6j6v6VqR5LZcmKUFSsaeqdt///1LDYCFUh/nMsOSXHPNNZ3hSiLf9xs2bOjUuxLK9bYqTBm1TIpX/7GpXjJcSZOcT3fs2NF4n94yLt0Asx4ON8lFYC4GBZkAc/OpT32q1CbkB7mcS9JrLCX1rOuVrue957Jc54xahgdrOgd1SwLWpmulyPrphu7qlux/3HLNmdaWeT633nprWQtLnxCTVus9gc2lDDO4ck6s69evL0uTcgGUk2tOqE2PlYvN3JZxK+u/huUi7owzzihLw8lFbCYNqsvJq/u89tlnn8bnlttyYZaL3fpzywkwF8ajMN2xGbQM874BLHb1Fvwf/ehHpwwTcvbZZ0/5oW0hdVuC5PzSJOecjPE5nxMR9crkdYMO55IukNP9KAjAzHJeqDfmuPDCC0ttUtO6hZRGH7kGme6ckfWZdG+6Bi3j1h1CLNecmUhP60uWGyEmzCC/DjYFhsPIxWbGoZxuvMpBZNKg6Vq7DCNd3OfjF0MAZtZ00feLv/iLpba7+pjLCyFd39O6PxdT9ZYg+XGsN2jNhVZ6NGQsyvkcezIXfPUWmHlemayv25qm3kU/8nxvvPHGsgTAIB555JFSm5Dv2MMOO6wsTcq6+vfvQkjr+4SXaYxRDzDrw4HlPJ3tsv18d39PoxUtL1nOhJgwiwSGGeNx2LEsc1JOEJqZyptO3MPK5DxzeV6Ri85cuCXAHEW4CsDc/PjHPy61SdOdOw4//PBSmx/d4VISQHYnxlm5cmVj68t0D8y5JT/e1S9Oc/GXMDO9Bo444ohOd7hcPI6rVcvHP/7xUpt08803d1qzds99adWS82rdxo0bSw2AQdQnDG0aEqtrptvGIT/A5ZyT80++/zMhTnqrNQ05knE7cz7LNVNdt4deepBlP9lf9muWdRgfISb0IbN65+SV8bzSciMXZ9OFhwkGc1uCy8wanvAyQeg4QsLu88oFYZ5XWmfmsaf7NTO35bnnZJzX8tRTT3VOuAC0wxNPPFFqE3JOmU59HONs2zsm1yiktWR3Fu/sPy1PEkA2TYwTOf/kfJSWKTnvJYBNi5bpzpm5Ld3hcvHYOxTJqC4As5/680wL0eOOO64sTep2z+uV1pgL1WUQYDH79re/XWoTuuM6N6nflmua7rksjTZGIeeD7jkmP8DlnJPzT1o1NnXJzvkgj52eeZFzRJanOy9nP9lf9pv953Fy/hx3r4Ncc46q5yAsBkJMWqOfCQOGLQn6RiEXY2m5kYuz7LPpsRIM5rYEl7lImo8Wjjnx53mlFUke+yc/+Unjc8ttee451qNsFdr0WKMoo3rfABaLn/3sZ6U2IRdA09lvv/1KbUJTqDhXOYdddtllZWl6CS/zA1l+uMv5qFfOUfk+77f3QC5eR3WOampVc+aZZ5baVGeddVapTfrmN79ZagD066c//WmpTXjd615XalPVb0vL/1HLeaWf4bgSUqbVZa7p0mCkV5azPrdPF2b2yvlzHNeCOZfmB8Oc93PNueeee5ZbYOkTYgIAMK20PpkufEyrxlxIJbzMD2QzXax1ew8kzMyF5HS9Bs4///xSm7sHHnig1Ca94Q1vKLWp3vKWt5TapKZ9ALD4fPKTn5z23JPeat3wcraearm9G2bWZ1fvSsg5236G0W3okR8MZ2rdCkuVEBMAgBl1x5VMaJkAstsC5NFHH91tbMl+JMxMz4H0GsiwK+kGl5C025pzlBdlucisq7es6bXvvvuWGgBLTc5V69ev79Rz3sn5J0FkJnlLb7VBQ8dsn/vl/tlPzo/dH/1uuummzv+B0RJiAgAwowR/af2R0DIB5KhagGTYlXSFS6uShJrdscdGZdAu9k2vqalLOgCLU3cIs5x3cv5JEDnXLt+5f/bTHdor+5/pBzNgeEJMAICWqI9r1dSSsGuQSYCG1Z0EYSFKZnkdtbQkBWD8XvnKV5bahB/84AelNtUgkwANIxO0NZ1n5quYIA5GR4gJANAS9fEaZ2pJWJ8EKNv2XjQx1Vxb2wDQn8MPP7zUJsw0WU99EqDrrrtu17kss30DdAkxAQBaomlMxulacJhwBoC22n///UttwkxDcxi2A+iXEBMAoCXSha7eLfxrX/taqU16/vnnXfQB0FpHHnlkqU266667Sm1S0zqA6QgxAQBa5B3veEepTUi3uoSWvW688cZSG69MTrBQZdST/MQjjzxSav0bx1ijAEtd049yn//850ttUtO6UetOTrdQxSQ/MDpCTACAFsnM371eeOGF6thjj901ntjmzZurCy64oFPv+uAHPzjloompcixn0jRm20EHHVRqAAziox/9aKlNSA+Cc889t/PDXErq9V4Ft9xyy27nsq1bt5ZbAISYAACtcthhh1XHHHNMWZqwbdu2TouWTHJwzjnnlLWTzj///FIbr4Sp3ckWRl3GoWk28pkml/jxj39capNGPUsuwHJx0kknVXvttVdZmpDeBfvss0+npN4r57lTTjmlLI1X03loFCXnSWB8hJgAAC1z7bXXTrnwm86mTZsEbdNo6go+U5fyb37zm6U26W1ve1upATCIvffeu7r55pvL0uxuv/32UgNoJsQEAGiZhJIPPvjgrOMxXnnllVO6nzPp6KOPLrVJN910U6lNdf3115fapKbJKQDoz3HHHdfpIj7TD3O57c477+z0RACYiRATAKCFcjH38MMPd1pa9naLzsVexsDMOGHjmPxmKVm3bl2pTcr4aw899FBZmpSxRp9++umyNCHd+rVyBZibdBHPsCgXXXTRbj/OpZ51uS1hJ8BshJjMi1wsZODmDI7fO2bIEUccUbZot6uuuqp61atetWuck8cee6zcAsO56667dv17yP+zDFCXrnhpafnoo4/umuTgJz/5Sae7+ULMdnr33XfvNuHCsCUtSOdDAsiTTz65LE1697vfXW3ZsqUsTQSYF154YVma9PGPf7zUAJiLfB9ffvnl1VNPPbXrXJB61i3Ej0W956S5lPoY1sB4CTEZu4SXa9as6QzcXG/hkF/d2i4XOZkFtjujaVpwNHVPg35lUonjjz9+17+H/D/LwnGA0bviiitKbVLO6aeeeuquH1UzWVJ95vKEnwsRFAMA0EyI2afnn3++02qw+8duSr+BQwKL/MKfZvT1faSkZV+CvoRleZylJK+rPuvcYvPDH/6w1CblQqepK9pyMNPMtMPOxpdWiE3765alpmn220hAPg717x2tPoHlJC18Mh7bINJ9/5prrilLAAC0gRCzT+edd95urQYzPtVsAw8nvEyIl7E+8gv/rbfe2tjyMMFFgr60CDj44IOXTGushLKLPcCM/fffv9QmZTwyrTOmymc5n/tB/f7v/36ptUP3h4eEf+MIq/fdd99S2924uqOk+2fvYOqnnXaaVp/AspIfkmebWKIrLTDzvZmu/AAAtIcQsw8JMxJAdiVomG0m0IyhmPBy0BAvLfxeeumlsrS43XHHHaU2KS0bMhFBdwyRHTt2lFvaKxc+Gbure+GT9z8zxtLstttuK7X+pPVx77+vhZR/6xmfsvvDw7iGO0iroMzA2B3YPP8f54yMuRC/+eaby9LE98yZZ55ZlgCWh5zPn3zyyc4P0fUfjfI93J0sKT/CCjABANpHiDmLtMiqD/Q+22D0aX2ZMRSXu3vvvbfUJt1www27tWAcV2gzapn9NRMpJHhN64zF8rwXwvXXX19q/Rk09Bynr3zlK1PGbR2XzMDYHdg8/x/3jIzZf+9FewLa/NgCsJx0J0qqT1CU7+GFmiwJAOYi16q957SUrIOlSIg5i6uvvnq3gd7zK/1MAdZMY0Cme1K6MiUk6X65PPfcc50WWNnvUlMfID+Ef0tPWtf2yud7kC7Yn/rUp0ptops+45ML9F75sWWY7v8AAAAw34SYM8jFfT2QPP/880ttqnRFbQow00Wp2z0pXZnSlbQrLQLSQirhQsKfcY2JB+OSz3C3W3TXF7/4xVKbWcZl7G35+I53vKPUGId899R/MMkPNcDS1NsiI0UrQwAWm5y76uczYPkSYs6gfnGflpS9AWSvpm7nkVZqDz/8cF8XDtl3ujcdcsghZQ0sDvXwsd+Z9hP89zr66KNLjXGpj+ebH160xoTlpd6VeiG6nDV1fQOAQdTPIwvxY139nJplYHyEmNNIAJMgptf73//+Upuq3u080jU2Y0AOOjj8bNsncLj44ourY489tnrVq15VrVixYlfJutzWTyiR8fB675vSO0Zet+Vo72Nk//Xj0pUuxL37atJ7e0q323H9vil5rJnUt0+ZSfc9zWvK5C31++Z1Nj3mMM+tq/t4meW69/55/Kyf7ljW9d63W7q6n4fex8j+M7TBfIVTb3vb20ptQv4t3HfffWVpevXXv27dulLrX96ffG7zngxznHO/7vaZXb1uzZo1u+2z99/ITJ+NfN7yvnQ/a/l89c4IXr9fSlfet/q/7ZS8pzPJ49XvU/+sZkiH+hAAbRqXFAAAABq93KdsOsDmi94tt9yy6zWn7LXXXuWWqZ577rnO7b3bp1x55ZVli9HI43zwgx+c8jjTlWyb+0wnz69+n6zLfU4++eQpt/WW1atXT9n31q1bG7edqeQ+0933mGOO6dw2nfr2KdO58847G9+jplI3zHPL4x144IFT7tdUsl22n0nT/aKf15XP8ijltffuv3ss6s9jtmNU/zfW3b53XbdMp9/3NCWf2R07dpR7Tqq/ntlK77/r6T4b+beRx6vf1v28R/22lF6bNm1q3KZ3H73y2urb5vg0fQfU953P4HJx3333dV7z2rVryxoAWHzWr1/fOZ9t2LChrAGAxWfVqlWd89m2bdvKmplpiTmNP/3TPy21CTON1Zfu4k2T2Jx00kmlNndpwXXwwQdPO2lQk2ybVlj9dOvtdd5551W33nprWWqWmY0/85nPlKV2Syu8448/vvE9Goe0lsvj9TvLdbbL9v22yuzKZ6Kf1zVfLTLT4rFXWjXO9Lh33HFHqU04/fTTS61/g7yn+cyeeOKJA/97GMYll1zSeby5SLfvYxrGyL3ssstKbXdnnnlmqU26+eabG1t211u85jPY20oUAAAA2kaIOY1777231CbMNFbf448/XmqT0l1zuvEzB5XQJeHLMCFcgpR6d9KZXH/99bMGmF1XXHHFvHVXHlaOXVMX3E2bNnVmhn/55YmxS7Zu3VpddNFFc54de7rJnfpx6qmnVnfddVdZml0+E/3I52ack7c89dRTnf/Xx1qM6bop53NT/5wN05V8UAnrbrzxxrI0Hjkew34G6jLhV/0zmXC4OwxDV7q410PTfJ4zaViTfDfVJ2P6sz/7s1IDAACA9hFiNkjwVW9F94Y3vKHUpnrggQdKbVLG5huVtOpqatWXWYZ37NixK4hLvT7zcCTc6B3Hbybdx7nyyit3hXxZl0mNmvSOe1ifOa5J7+0p4x58Oc+vHv4m3Eng1ttCLc/j8ssvr5588smyZnAJ5s4555yyNClh0S233LLreOb/Wa6HSHHaaaf13VIw70vC8gSw3eOZ/TYFsYO28hxE9zOTsRbrrymheJP6eJn53A46dmxXPpsJpXMceoPpPK98juvqz6l3MO6mlo+9xzdltgkwusej973J82r6tzmbhI0bNmwoS5N6W63mc3fBBReUpQl57HyeZ5JtemmJCQAAQJsJMRt897vfLbVJg4Ztr3vd60ptbhJQNLXqSliVVloJjrpSz7oEOnUbN24stdnl/glquqFSgpSEYE2hW9uDjx/+8IelNmnPPfcstamGDdKiqbVjgqIMN5Cu1t195/9Zzvr6MU3g2u8kK7lvArjez2b2m89AXfY7H61mP/rRj5bahAR69VaD8alPfarUJrzrXe8qtcEkHMxnM6F0jkPv+5fPbT7HCa175TmN+1jU35s8r7wvhxxySGd5EE3dyvMausF0vaVxQux+WlMffvjhpTZhPj4fAAAAMCwhZoNnn3221BZe0wzPCTTq4w/2SujRFI41hUl1uV9Tt+CoB1SxGIOPBLrjeN5NrR0/+9nPThuMZn3T+IZf+cpXSm1muW/TvvPZaGqN+eMf/7jUxqepS/gXv/jFUpuQz2G3tWLkuU7X7Xk2Ta8/LVnzGClpgVxviRvjPhbTvTfTfRZm09St/OMf/3jnM1efUT3b9jOUxf77719qE5pmZgcAAIC2EGI2qLfeq3e7nE9NLR37mQClqfv3N7/5zVKb3nTdxmOmLvVt9Za3vKXUJiXUynuagGtUYWb2Uw/LEgjP1oK3KfTrN0yaaQzJI488stTmV8Kz+mcoQVtvF/l6qDlMN+teOfYXX3xxZwiHFStWVPvss0+1Zs2aTkk361GNTzmImX5kGEZTt/IEwRlHtVeOZb+Pvd9++5UaAAAAtJ8Qsw/DtJ5qGidzGE0hWz/hw0xdpmcy7P3aKiFiUwidwDEBV4LGTHzU1IpyEE0t+w466KBSm96wLfNiLvcdpxNOOKHUJuRYd1sUJ8ysH+v3vve9pTa4hJd5DzPJ1FxnAx+VpnE1R6GpW3mvHIdPfvKTZQkAAACWFiHmCPzyL/9yqU165JFHSo2FdsMNN8zYmjYtH9OiLaGjyU3mrqk7+x133NH5f32ipQRvveO6DiJjQSa8nE4Cv7QKnWtLzzZpmqio66yzzmptsA0AAABzJcQcgUMPPbTUJiWomWvrPkYjIdmjjz7aCYASmk0n3XOPPvpoQeYI1Ls0Z6KZtMLshpldTeOs9iPjXda7iee97Z0FPhPr5N/g+973vrLF4tc0U3nXuMZ6BQAAgDYQYjaod6mebYzCN73pTY0TqWTijd6xAIfxyle+stQmvfjii6U2vZ/97GelNqk+kcdiNsxxzUzVTz31VHXnnXdOO/ZnwueZgqLpvOIVryi1Sf08x6ZtZgpaF4um4DCtMOuzZs80rudM6uNqxr333tsJT+utEZ944olSW9zuuuuuGWcdz2e3PlP5TPr5HgEAAIC2EGI2GHQCm4QmTZNppGXfJZdcUpb61xtspWVg3Ve/+tVSm15T2LFQk70MK4HjdB5++OFSG1xmwk4LvbTYawozZwqKppPWnvUgO2M0ztYyrmn2+Xe84x2ltnhlLNJ6GJtQv1e6e/czi3aT+nGdaV9LoWVtvhNOO+20sjQhn7f65zc/uGzevLkszezxxx8vtQkLOYEZAAAAzEaI2WDfffcttUnpvjqTTKjR1BozXV4TcPbTKi9hS2ZY/u53v1vWNLdUyz5nCmYSYiRA7ZWAYtjAaD4ccsghpTYpr6HpuOdYfuITnyhLw0v4nDBzVOFNU5B90UUXldpUeR31YC/e9a53ldriljEae9U/k/3Mst+vjEHb9G+sqdv5oNrQkvPXfu3XdhtLNNJiuGlM0AsvvLCvbuU/+MEPSm2C8TQBAABoMyFmg4R99UBytiAjAcC1115blnaXln0HH3xwZybleiiXsCFBWgKwlStXTplhOc+lqbVgWmheddVVu4UVCTbTnfScc84payZdeumlpdZOOX5N3ajf/e537za2aI5fZhPvdybqHJN+AuReTWF0PzJ7dF3e+zzfdAXuyvPJa8owBE1hc1qKLgUnnXRSqTUbtit5kwR855133q5/DznGCfPz+RnEqlWrSm1SQsHuv9v8v9+WjqOSx6sPaZHPST5v+X6oT/bTb7fyjBPbq2mCMgAAAGgLIeY06l16++mSmiAyE4s0SbCQVlNr1qypVqxYsaskuMvM2DN1Yc796sFa9nfBBRd07t/dV0LQplZnmZ15MQRj9ZZ7kdeZ49N9jTl+CTD7HTcy4U8C5IQ6CRJ7A80EXgmC64FoU4vKfqRLeVPLyzyH448/ftdr2GeffTqvqR5g5j3OTOpLRQK2dPNuks/kXFr+vec97ym1Sfk31P33kGOcMD+fn0FC6Te+8Y2lNin76P67zf+bxpsdl3xGE6LWffazny21qjrjjDOm/HuYrVt5/h3UP/dNE5QBAABAWwgxp3HCCSeU2oTe1oAz6QaZw7bma5Iw6MEHHxxqnwmR0tV9MUgY0+9rvOmmm0ptdgmhEu4mSEy41Q0TE/wkCO6VFm5zOV6XX355J6AbVF53WvImCF1KpusyPtcu82nl2c9nJe/nIO9HWoeO8t/uXCV8z+e3V15PxhztShh82WWXlaVJCXGn+/GlaUzZpdICGAAAgKVJiDmNelfXBAm9XYJnkiAzrZyGDbOaZrpOuJV9TteyrS77STfTu+++e9GMdZfnOVtYm9sSEveGOKOSYzuK45UwctOmTX2HYXncvO5hW4C2WVMomOW5Bmb9fFYSYKZ15p577lnWzC77vfnmm2fc7yD7m4u0Eq53I8/zagrZ89lp+m4488wzS2139cnBpputHwAAANpCiDmNhBn1EPLzn/98qc0urScTZqXLcAKthAQJVerSGjDhQ7oh33nnndWTTz45bWu87DMh29atWzvb10OLBBxZl8fLfj72sY+VWxaPvPY897y+3uOV45T3I0HuIGHfW97yls6xbwp4onvsd+zYMdLAN+MV5nV03/t6d99uC8G8l3ncpdYCsyvHs/5+DRPuN+kG+3n/eo9vjm03wM+/mUElYO3+CNG036axT0ctLSjrrYQjk/lM9xmtj40ZeR0JQ3ulK3l92In3v//9pQYAAADttOLlnUp9Rul+G31uviRkPLp6+JRQcphgBKANEmr2BqT5jnvqqafK0tJ3//33d1oIr127trrvvvvKWgBYXDJm9saNGzs/cK5fv76sBYDFJY2Ftm/f3mmA0zTRbp2WmDNIWFlvNZZWXwCLUVph5oKnV9N4mgAAANA2QsxZZPy53vHxMsbeQw89VJYAFo8bb7xxt4mCMpzCUhyLFQAAgKVHiDmL7kQfvTLjclo0ASwWGR6jtxVmfpzJuL0AAACwGAgx+5CJPnq7lWdczEsuuaQsAbRfJpjqbYWZANP4vgAAACwWQsw+5YK/N8jM7L5btmwpSwDtdfHFF3cGSu7Kd5lu5AAAACwmQswBJMjM7OzdIgQAFoPLL798t+8u3cgBAABYbISYAAAAAECrCTEBAAAAgFYTYgIAAAAArSbEBAAAAABaTYgJAAAAALSaEBMAAAAAaDUhJgAAAADQakJMAAAAAKDVhJgAAAAAQKsJMQEAAACAVhNiAgAAAACtJsQEAAAAAFpNiAkAAAAAtJoQEwAAAABoNSEmAAAAANBqQkwAAAAAoNWEmAAAAABAqwkxAQAAAIBWE2ICAAAAAK0mxAQAAAAAWk2ICQAAAAC0mhATAAAAAGg1ISYAAAAA0GpCTAAAAACg1YSYAAAAAECrCTEBAAAAgFYTYgIAAAAArSbEBAAAAABaTYgJAAAAALSaEBMAAAAAaDUhJgAAAADQakJMAAAAAKDVhJgAAAAAQKsJMQEAAACAVhNiAgAAAACtJsQEAAAAAFpNiAkAAAAAtNqKl3cq9RmtWLGi8/9jjz22838AWGyef/756tFHH6323nvv6ogjjihrAWBx+f73v18988wz1etf//rqgAMOKGsBYHH55je/Wb344ovVtm3bqlWrVpW10xs4xAQAAAAAGIUvfOEL1WmnnVaWpjdwiPm1r32t838AWGz+/M//vLrooouqf/kv/2V1xRVXlLUAsLj8p//0n6ovfelL1b/9t/+2eu9731vWAsDi8uu//uvVU089Nb6WmH1uDgCtc//991fr1q2r1q5dW913331lLQAsLhdeeGG1cePGasOGDdX69evLWgBYXFavXl1t37697xDTxD4AAAAAQKsJMQEAAACAVhNiAgAAAACtJsQEAAAAAFpNiAkAAAAAtJoQEwAAAABoNSEmAAAAANBqQkwAAAAAoNWEmAAAAABAqwkxAQAAAIBWE2ICAAAAAK0mxAQAAAAAWk2ICQAAAAC0mhATAAAAAGg1ISYAAAAA0GpCTAAAAACg1YSYAAAAAECrCTEBAAAAgFYTYgIAAAAArSbEBAAAAABaTYgJAAAAALSaEBMAAAAAaDUhJgAAAADQakJMAAAAAKDVhJgAAAAAQKsJMQEAAACAVhNiAgAAAACtJsQEAAAAAFpNiAkAAAAAtJoQEwAAAABoNSEmAAAAANBqQkwAAAAAoNWEmAAAAABAqwkxAQAAAIBWE2ICAAAAAK0mxAQAAAAAWk2ICQAAAAC0mhATAAAAAGg1ISYAAAAA0GpCTAAAAACg1YSYAAA1K1as2K1cddVV5Zbl7dhjj93tuGR5ofU+n5SHHnqo3AIw//IdNJfvpfp9F/r80/R6mFQ/Nt4vGC8hJgCwLOVCo/eP/DYEcsvF888/X23ZsqU65ZRTqle96lW73oPUsy63ZZuFdNddd1UXX3xx53PR+xy7zzPrc3u2A4C5eOaZZ6rNmzdP+bHwoIMOqs4999wFP9d0z9t5LvXn2H2eWZ+/rR577LFyLxg9ISYAsOjU/3ierSz3lpS9oWEuNHqPTTeMm6+LjlyIHXzwwdWpp55a3XrrrdULL7xQbqk69azLbdlmIS7a8lnJMTr++OOrK664orrnnnt2e46R5azP7dku2+f4ArRFvvebQrEjjjii852f0Gw56w0N6z+mZV1um69jlPPOgQceWJ1zzjmdc0uvp59+urruuus655q8d/MdEOZzlOCye97Oc6k/x8jzzPoLLrigWrlyZecY6hnBOAgxAQBGqKkr1yjKsBcDCdd6Q8NcaPTqhnG56EjIOc4WkHkuuRCrh4JNsk22na8AOheGuUDMBVj9GM0m2+f4juICsx44jKpkv8DykPPFm970psZQbNu2bZ3v/NWrV8/bjy/j+l4b5vyQc1w9NOw9J3V/pMpt2Wbc56AEhDnv9CPv3dFHHz1vP/B1f3RMcNnPebtXjuGaNWtG8ndF03s/ijJff18wWkJMAIAlKhdHCdf6vfhIyJkL33G09MjFcp7LoHJxN+4L7bzeXBjmAnEuuheY891SBpg/CT6aApFuSXBTl3VN23bLKMOUBE95vNl+jMl5Id/JyynISZiWQLXf0DCybe4zjh/4co5OQDiIvG+nnXba2M8zg/zoOJP8XTGu48fyJMQEAFiChrk4ilz4nnjiiSO94Mi+8nzqTj755GrHjh3Vyy+/3CmpZ11d7juuC6DsN6+36ULtgx/8YHXnnXd2jkn3OaZk+ZZbbuncXpf9jPr4AfQj3Z8TcA0iId1CDN0x3/KdnDBtmB+r0qrwvPPOK0ujkdayTefoK6+8crdzTs5BaTXbK+eZQYLYQSUgbfrRca+99qouuuiiauvWrdVzzz2323kx5+9NmzZVxxxzTNl6Uo75qI8fy5cQEwBYdHr/cG4qy910F0cJ3XpDw1wo5YIpFya9sv6SSy4pS3N34403TgkJc7GTlh6HHXZYWVN16lmX23rlvtnHOGS/eb29csGY43TttddWxx13XHXAAQeUWyZkOV3kcnu2S5fDXtnfbbfdVpYA5kcCpvp3bUKl7vd+vpuyTd1v/MZvlNrSle/6eoCZc189NMyxavqBKi0KR9kr4LLLLiu1SXnsj33sY7udc3IOevTRR6f8wJdgddhhZmbTFJDm8Z988snq8ssvr4466qhq7733LrdMyPn77LPPru6+++7Oj3z1vyty/PRSYBSEmAAAY5ZWC90LpGFLLhr61XRxlIuKhG69oWEulHLB9OCDD0654EgIOqrWhF/+8pdLbUIuqnOxM53cVm/NUd/HqFx//fWlNiHHIRdbvcdpJtnu3nvvnXL8brjhhlIbTC4Am97/QUtTaxhg6UorzHx39cr3QL5Tut9n+c5PCJXgrldCvHEP29Erj9/0vTVoyfmrHzmXbdy4sSxNyHd2zn310DDHKufKnDPrPv3pT5fa3OT5JITslWMy03nnmmuumXKe+drXvlZqo5PPUf25dcdPrQeX08mPfDfffHNZmvSlL32p1AbT9N4PU1gahJgAAEtI08VRWpXkomI63Yu2uocffrjU5qbe+uX0008vtenVtxmmC+BscqzqrTBzrHovaPuR7estd8bxfIGFl9CrKSCZS+k3jJtJU2v1pu/1yOPVW5DfdNNNpbb05FxWb6Fa/1GvLufMpu/1Ufy4993vfrfUJp100kml1iwBYv08vn379lIbne9973ulNunSSy8ttf6lBWm9G/w4ni/LjxATAGAJabo4ete73lVq01u3bl2pTXr88cdLbbT222+/UpteP9vMVdOxeuc731lqg3nrW99aapPG1dUPaJ+0YMskORl38VWvetVuE/dk3cUXXzzW74S0CO+V7r8z/SBTb7Ff//FrKWk6lzWd8+qazp1N541R6OfHs9e97nWlNj5NxyqB5DDe8Y53lNqEpfwZY/4IMQEAlrg99tij1KbXbzcxxithR2/4MWxxsQjzIy3zElCmZWPGEsy/vXqrv6y74oorOrOG59/4OMYGrLf+PuGEE0qt2ZFHHllqk+brh5ccp6bvrUHKXGdV7+ec18+5k/Frev+HKSwNQkwAYFnIBU/vH7PjnNmzbV588cVSm94ousj169lnny216fWzzVwdcsghpTZp2DHGvvGNb5TapEHGMQUWn3xvJpRMQNmvBJpHH330SIPMpn3N1po9Lf/qYyzOx/duW/Rzzuvn3Dkqack7mx/84AelNj6HHnpoqU0advb6eutgYzUzCkJMAGDR6Q0jm8pytu+++5bapK9+9aulNr377ruv1Cbtv//+pTY39XGx+hl7rb5NfR+jkJY49XHhMqFRPxeTvbJ9fTb4cTxfoF3OO++8oca/TUvNE088cWQ/Hr300kulNqmfH1HqrTF/+MMfltrS0nQuazrn1TWdO5vOsYNq+gHttttuK7Vm+azUJ19atWpVqY3OL/zCL5TapE984hOl1r8En/V/G+N4viw/QkwAgCUkrWuagrmZZp5NK55zzz23LE1q6m7YKy2K+gmRf/VXf7XUJuR+Mz2f3JZtetX3MSpnnXVWqU1IuJCx5PptJZXtMu5XvfvomWeeWWrAUpR/+/XZwCOzTO/YsWPXpD2ZPCwzXddbPWZ9P0Eac9d0Lss5b6bv+ZyH6j9O5dw629iVTV3l01q3V35Aq7dKzOzpMz2fSy65ZMp5ZtgxnGeS11d/bgkjM6lQv6F7jt1pp51Wlia9973vLTUYnhATAGCJqU/YEKeeeuqUi7buRBTp2li/OBpmlu7pnHHGGVMu4JueT+pZl9t65b7Zxzhkv/XQNxdsK1eu7DyXtCapt8zMci7Scnu2q89wnv3NNtNsv3Ix2TuL8bDl7rvvLnsERqH+Q0ts3bq1M/N376zX+R5NAJTvlfr34B133FFq02sKxeY6HuRCS9Db9D01SBlkRve8B/WZxnPOy7kvx7L3O36681A0nVuH9fGPf7zUJkz3fHIOSghaD1RzbhjXkCV5f+oS2B988MG7JqiqB5o5bps3b+481xy7+t8U+XFwptngBzGKz0/KIJ8h2kOICQAsC/ljtfeP16Y/0sclkznUL0IHLfWWHDPJBXNTd+ZcBCV06+4zYVsukOsXG7nQPv/888vS3KXVybXXXluWJtWfT+r1C7XIfcc18VD2e/vtt08JFyLP5fjjj+8cp+5z7B63XKQ1PdfsJ/sb1/MF2uGBBx4otQmzhUpNQdpPf/rTUmPcck6rf8/n3JdzYO93/HTnoZxTc24dlXxWmoLV+vPJOagemOd1jPNvmISNaT1cl+fXnaBqn3322fUcu8ftnHPOaQz3c+yuueaasgRzI8QEABa92X6VX46/tqfl3TDjMubi6MEHHxxZK8yuXPw1XRTNJu/tKC8cm+SCLa95ruNY5v7Zz6hamwD04xWveEWpTepnpvFHHnmk1CaMahzkNso5Ld/PTT9YzSbf7eNozZ4f6OpB5mzy/G+++eaxn2dy3r3zzjuHOl690gIzx84Pe4yKEBMAYAnKBUMuHHIB0a9BQ7jpujpPZ5CLomyTbecrgM5rfvTRR6tNmzZ1WsEMItsnoM39BZiwPNR/6EkLtN7hMerS/baphd8oNH3vzDbTeLos11vhzzaj+ag0dZEftgwix2nQH6wGDeGaflSdKQBNkNlvq8ruOfq4444ra8Yrj/Pkk09WF1100cBhZv4+yPAKGXpFgMkoCTEBAJaoXDjkAiIXEmntMd1FSC7S5iuE614U5fHyuL3PKfXuc8k283Wh1uvss8+unnrqqU6Amgu3XIjVj1uWsz63Z7tsP67WoglGmi7chymLfRw9aJO3ve1tpTapO6Zhb5jZHUM34wnWQ8P3vOc9pTa9plCs6cedfCf1mm28zaZJhcY1xmKbdH+w6p6DmuQ7PufM+Qrh8n5mbOX8iFZ/H/MjWZ5LzjUL8UNZXvvll1++67yd51J/jpHnmfX5vGZiqwS34/o8jTIE76fFMi2z80uwL9l0gM0BoHV2/sHeOZetXbu2rGGx6v5d0i07/2gut/Qv9+ndx84/vssto9l/W83lteUY9d6395gtlN7nk7LzorPcsjjVj/Eoy1L6HC9369ev77ynGzZsKGtYCAceeOCUf2f9lr322uvl5557ruxpUn27fv/dbtq0acp9d+zYUW6dqv7cp/s+z3dq73Ypgxrn99pcNb2+Qc4j9fsu9PfsKN6vtqm/nlGWxf43w1KwatWqznuxbdu2smZmWmICAADAgKabFKwff/RHfzTSFn7r1q0rtUlnnnnmlFmkIzNMp+Vfr9NPP73UANpLiAl9SLeQ3mbng8wQOy5tfE4AbZIuQinpCpbvzHT3HfcEMfQv5y3nMWAx646xOEiQmW23bt068q62TbOfb9u2rfPd2u3enq7t5557bmeG6V7pCjzO82O6Fr/88u5d4kdVlpLec2KKIUBgKiEmy8JiDfzqzzsFgKmaxkdas2ZNp5x66qmd22+99dZOgTbr52L/mNp4ZFlu2q5eluMs/TBuCTIzXuCVV14546RguS3bZNtxjRX4yU9+ckqgmiBz5cqVnfNinkPT5EKf//znSw3ap+l8Vi91+bfWtF29LIdxYJcaISYAAAAMKd3C8yNBd1Kwuu4EYNlmnJPEZN+DtgzNBGULMYkawDCEmDAG6b5YbxE0SDFLGsD4+I5tlm6G3S74mzdv3tUFP70X2tyDQasKoE322GOPUpvUXdf9ju39nk337nzHjqo7d7eL+0ytQiNBZ2bDzszTNEs3/O77lfcqJe/VEUcc0am3Uc6B9fMiLCVCTJalpgGuAVgaVq9e3ele2y1pZZJuRbfccku1Y8eOkYZcubBp+jFqvkoevysXVE3b1Etdtyt+Lni7XfDPOeecXV3w77nnniVz3mzT+wUsPgmwmv5t95Z8h9ZlXfe2+vdsunfne/anP/1p2XruEmQ+/PDDnfNeffiJnCNzXkw387PPPrusXZrm+n6lG373/cp7lZL3KsfuZz/7Wdl6cev3b4dxFRiUEJNlKSceBpMWOpnJML889p54spz1uR1gvtRbGfSWRx99tDOuYLeklUm68KWVSy7slqpDDz201EbPeXM8hg1VcxHdK8tN281WhKowmFe+8pWl1n7pWp7zXn2c3Zwjc17MREDj0KZQbNWqVaU2etu3by81RmnYz09d9wfaQQvtJ8RkWfj2t79dapP84d6/hJRpoZOZDOsXslnO+tze1m4VAMtBUxdGAEbn8MMPL7XRy5iZjNaee+5ZasBSIcRkWbj33ntLbdIXv/jFUhu9prFIUrZu3Vq2mNS0XZvG88o4PQkp+5FfvBJ4AjD/DjnkkFKbXn5w6u1q3y3dLvfdki6IOWelPP30051zEwD9afqeTen9ns14lN3v2Qx1IsQcvX56KNSHoGl6r1IyOVP3/Xruuec6LVyBBbDzj9K+ZNMBNofW2HkhtuvzWy87T0Jlq5ntPHHtdr+dJ7Zyy2DyeL37SZlJ/XF7tx/Vc5pJ0+P3U/o9rjDf7rvvvs5ndO3atWUNy9lM36O961OyLS93jlHvcZnLuae+r1GWxaLp74L5LM7Xi9f69es77+GGDRvKGpaK+r/ThT7/jOL6ZT7LfKs//lzer/q+RlXGcZ04Lsvt88PLL69atapz7Ldt21bWzExLTJa0TETw8Y9/vCxN9e53v7sz6xxTZYzLtKysS2udbqucnX/UdH69rLvssstKDWBxyOD9verLr371q0uNqB+fuZrt+A+6vFhM13Njvkqben4AS0PGoG76vpmvwuLm88NshJgsaZdcckkncJvOCy+8UB199NGCzAZXX311qU1KgNk7EHgufjJzbV0mGHBMgZH6wQ9Kpdixo1SKIZbf+ta3dqqnn3569R/PO6867bTTOsuR5d/+7d/u1HP7sf/sn3Xqu4zg8XeziJa7x6t7fDqG2F/3eNf3N4rlYZ7Pbpbb8ghnRQYAGBchJkvWli1bquuuu64sTUirwb322qssTegGmdl+ITXNUNrUEnK+NB2PD3/4w6U2KYHmBz/4wbI0qT5zKsCcJMS89NKJ+k03VdWHPjTn5f1/7/eqr3zlK9Wpf/d31f/Y+T32L/7wD3fdnuVf+vrXd93+97/+6yN//MW4/Fu/9Vu7jleOT5aH3V+Od+/x7z3ec10e5vks6+X/8/+cqAMAtJgQkyVp8+bN1amnnlqWJiS8vOGGG6prr722rJmUIDPbH3vssdVdd91V1o7eE088UWrtlkA1x6TXySefXO29995laXfve9/7Sm3SAw88UGoAI/D2t0/8/z3vqaq09P7KV+a8/Nr9969O+L//7+od//SfVkf9zd9U/+Kww3bd/it///fVn3z969Vrzj23evoP/7C6vdtKcw6PtxSWX3XGGZ3j0T0+WR52fznevcf/7Tvf41EtD/N8lvXyf/gPE8sALJim7s2jKCYhYknZ+aHuSzYdYHNYEM8999zLJ5988q7Pa2+58847y1Yvd+p77bVX43Yp9cGP6wMMDzs4ctNAxd1B9fsd3L9rVM+pSdPzzLqZ1LdPgbYxsc8S8JWvvPzyCy+UhZ0sW7ZcFnaa6zKLhol9AFgKBp3YZ0X+s/MOs0rX1uhzc5h3aX154YUXTmlBmBaYaX15yimnlDUTMnFNWhfu/MdS1kzasWNHdVha5BRXXXXVbl27jznmmKF+0UpLz3o3602bNlVnn312p/XjmjVrytrpdf8Njuo5NTn33HOndMXPJD4zTQBw0EEHTRl/1PcFbXP//fdX69atq9auXVvdd999ZS0ALC75m3fjxo3Vhg0bqvXr15e1ALC4ZMi/7du3d3KZVatWlbXT052cJSGB3jnnnNMYYD744INTAszIWI6PPvpoJ0TsHSczy70B5ig1jRP5qU99qvP/phlKr7zyys5t8y0B76ASYtYlmAUAAACYKyEmS8LHPvaxKZPLpJXlk08+OWsgmVaQ2S6BYe6T5XGYbuKgtF5cDGHfIYccUmoAAAAA80uIyZKRLuO33HJLpzlyuj4nNJxuIpq6bJcgdLqgMbf1tpAcptv2TZn9cxqnn356qbVXv8cSAAAAYNSEmCwp6TaeLuIzjd24ENLSsrcr+YEHHlhqE9Ia8+KLLy5LAAAAAPQSYrKkJTzMpFSjLpmgZxAf+tCHSm3CZZddVl100UVlacIVV1wxbUtQAAAAgOVMiAljlhaWvTOgpxVmWox++MMf7nR973Xqqae2Nsh87LHHSq1/++67b6kBAAAADE+ICWOUQDItLHt1x8bMGJM33HDDbjOjR4LMNnYtf+mll0qt2VNPPVVqkzIDPAAAAMBcCTFhTBJgJpDslS7kveN1Zub0Bx98sCxNuu6664Zq+Tgqq1atKrVJzz77bKk1y7ieverjfgIAAAAMS4jJkpbAsHdW8WHLlVdeWfbYn6uuumpKgJmu4+lCXpcgM7Oqd2W7dD/P+oWy//77l9qkP/3TPy21qTL2aN073vGOUgNY2lZ/5tvVig/9ya5y1pe+X24Zzu89/F92219KP5rul3VzVd/nIK8v29bvPx/qY1nnvDyo3Ke+n2FlLO36vuZaBh2fG2Ds0lhj5/fTrnL++eWGAfXuY5RlnjTNy9B0vTSb+rljLt/7vfsZVRnm3ApzJcRkSRvVxD4XXHBB2ePs8pgbN24sSxPSZTxdx9OFvEnGyNy6dWt1zDHHVHffffeCd8P+xV/8xVKblJalzz//fFna3Re/+MVSm/S2t72t1AAAgNaoh43DlmFDSoAhCTFhxNL6M13Ee8e6zPJsLStzvwSY0wWd8ynPtd4d/IUXXqhuvPHGsjQp3d7T/b1XXvu6devKEsDCamoNOExJi0sAAGBhCDFhDBICPvnkk52WlXfeeeeCdg0f1kc/+tFSm5QWqek20G2RmVanJ554Yqfea/369a0IYwHaaLZQ9Ywtf1G2nNS0XW8ZRbfxpSznr6aeFjOVQXphAMBM1qxZ03iumancc8895d5AlxATxiQhXlpWHnfccWXN4nL22Wc3Ts6Ti7p99tmnc2LNybhpQp8zzjijLAEA+XugacztQcqg43MDLBkf+Ui184twsJL7sEvTeWXQkgY6sNCEmCw7GXuy6Ut5kJKLkeXg9ttv361b/Gyybe6jFSbA4tA0GVC91P3Hb/1V43bdMteJjQAYs0wys/OaprG89a1lo2KmAPHqq8tGAPNDiMmyM0xT/qayHGYFTTf4jOfZ1CKzLrOq9zP2J8B8u/69r69e/uwvNZZ/9+bXlK0mrHrtKxq3S9n24cPLVjCYUcxOrns7MC++8Y1SKf7sz0qFxazpvDJo0b2dNhBiAjNKKPnUU09Vt9xyS3XyySfv1jIz9azLbY8++qgAE1h0/vbv/lepTXjxf/x9qY3PTKHqsOUDb/pnZe80SVfspp4VMxXdt4Fl5/77S6XHd75TVT/6UVkY0Kc/vfts5imZGX0ZGqY3oO7bMJUQE+jLKaecUm3ZsqX6yU9+suvEmnrW5TaAxej7f/PfS23CkzuXn35u93UxU7fr7T96qWw1vK3P/Kz6yH9+unr7//VYte8nvjXlMTIz+q/c8Hj12T95ttwDAEbshhtKpceLL1bVZZeVBYCFJcQEAJalBIdNAeSVDwzZ4mQICUwTTr7td3dUn/n6s9WfPP3T6q9e/J/l1kl5nl994vnqw3c83Qk5RxVmpgVnU8vOuZS0NG0bs5MDzOL226vq1lvLQs3111fV5z5XFhZAU4vO2Uru0yJmJ4fREGKypB111FG7NckfZZmPyX0+9rGPTXlcAEbjqmnCykxcc+k9f1mWxicB5juv/04nnBxEQs6EmfPxHBmPYbq318tymWQQmAfpRv6BD5SFaXzoQ1V1/vllgcVuFJPd5loV5psQExapesDpYgagfwkAZwoPf/vuH4w9JLzkaz/odF8fVp5jurmPQ7d7e7qxv2L9Q1O6tr/vC9/tbAPAIpcWmCeeONFtvGuPParqttuq6g1vKCuKtG489NCJ+/SjaWbzzIwOMCQhJgCwrCScTADY69TDX10d/E/+cVmakG0yRmXCupm6XWdG82H8cS1Efc0e/7D67WNfV/3hB94w5TFuPOWfT5lJPe7//gul1uyMLX+xWwCZMpsElN3u7enGXp/8KOtu+fZfd7ZJV/imMUSZ2TDd25vKVVddVfYIMKBM1nP22VV10km7B5jx2c9OBJtf+9rUIPOJJybukzDzd36neTIgWm+Y7u1N5SGhNPNMiAkALBtpXVgPMBNCfvHfHNIJCn/uH/1vZe2EjFHZDetG3eqxHg6e/ZZ9q08c8/PVe964T1kzKSFqxpqsB6b1iYnmImHk6694pBNQ9iutWdMlvm2tMnt7KoyyACx63/72RHiZEDJjXfbqtsDsdi1/7WsngsyzzppY7pUwc1zjTub7dqaS51iXdU3b9pZ5Mq4hzfS8AyEmALAMJGRLN+i0LuyV1pe3vv+QTn3NAXtWv/9rv9BpEVmXsC6tGhPyjcvmb/6400r0K995rqyZlAA1LSTrExH93D/cPXSdi9+84+mhurfnPjk2ALRcWl++//0T4WW99WVaXHa7lvdKkLl580RImHqvSy+tqrVrywLA+AkxAYAlK7N4p0t4WlPWA8AEmF87643VgftMdiNPK8itv75y2i7iV/7KAaU2d+96w96lNiET9qSV6L/+vSemdAFPSNjUQvLog19ZanOT4LRpjNB0Ye/t3v6nO4/Nh9++35QWqwkyTTQE0HLdlpX1LuJpaZn1MwWSCTd/+MOJruZvfevEeJe/+ZvlRoD5IcQEAJasF//H/+p0Ca9rCjC7sm7bhw+fEtZluamr97A+9suvnRIGDiKvId3PZ5Iu8r1ja6Y0+fKOvym1SblvurD3vua0Vv30vzqw02K1/tz/YPt/LbX5deyxx04Zo2u+Sh67H+kC2NslcFTFzLDAwLpB5sknT5Tt2ydaWtZbWU4nwWXGQbz66rKiR9bv/G7aVZq2qTvqqGrnF+pgJWNy1mVd07YzlTz2CDSdH+ar9Ds2ctM5ZBQlXedhPgkxAYAlKyFfJsvplUl8vn/RkY0BZq+EdTvOX9VpMflLB76yszxKa0r39fqEQv1IS9GEsKNSH1szrzfjcE4nweav1FqSzmWmdQDmUQLLLVsmyuGHT6wbJkycrZx//sS+AUZEiAkALGndIDPBX1oXZhKffiXo/OMzD62+/u8PK2tGK2FgAtU8vwSHM7XMzFidCVTzGtJSdLYQdi5e/+rZ97329XuVGgAAjJ8QEwBY8hJkJvibqXVhZIbujKOZSXQyEdAr1j80ZXzKTO6T28760vc7Y0lmv73dtdMFe1B5fglKX9p4VGccyrrsN2N1drt2Z5b1PH7G+8zzSX2Uvv/Xs7eqvP/7L5QavRZD93YAlq6m88N8lX67t8OwhJgAwLKX8DJB4Mqrt1cfvuPpziQ6mQjob//uf5UtJqXbdG77j9/6q84kPPt+4lt9T2qTx6iHovWS/dZl/UGXP9KZ4Ccls6xnu4z3OYpu3K+vdWnPfjMj+nQS3v5xbSKgYbrFj8Iw401u3bq13HtS1jVtO1PJYwMwB/VxNOez5LFHoOn8MFu58sory70nNW03WzE2MsuNEBMAWNYSyK353R2dULAptJxNd1bxtM5MGLoQhnnevX515T8ptUkJS7utTbu2PvOzTivQ9//B96Y8Zn2MTAAWkVGEiZm1fD7cfvvuY2+mZB2w5AkxAYBlK6FcArkEkXOV1pnvvP47ZanZIf/0/1lqo1WfmGdQ6aaeCY/quq1Nu61E3/a7OzqtQOsBZlphjnrio7mod297aEStbQBgNjnn1M9DwGgIMQGAZetDdzw9JZDL5DoJ9DKBzp/++srdxrtM+cMPvKEzEU8m2alL1+60VJzOnv+P/73UmmXynkxAVC8ZJ7O35Ll1y1MXH9kZl3OuPvnOicmPBpXnfOWvHFCWmKl7+6Dd2AfdXvd2YGijmJ38G98oOxuzJ54olR4/+lGp0HR+6JZBu7EPur3u7YybEBMAWJbSCjOtJ3ulReGO81d1ZjDPJEBrDtiz3DIprRYzEU9mLU+gWZ9RvD5WZK/ssx6K9pYfX/rmTiBZL5ksqLdkP93SnaW8ad9Z16/sJ4/VNLHQdDKjeu+EQwAwdjfcUCo9PvMZQSYsA0JMAGBZapoQZ/3/sf+uULAfCe/qY0EOOtFOJtDpdtcedZlpcp7pJCRNC9QPv32/TsvMekibdWmpmgA3M6oPcrwAYE5OOaU5rMy6d75TkAlLnBATAIDdpAVqxrhMy8yXNh61W+vOrEtLVa0vAZhXCTBvvbUsNEg3c0EmLGlCTABgWUrX8bqN/58fDjTDeGburncfzxiRtNtRRx01ZRyvrAOgyEzjO78b51SuvrrsbI7uv7+qDj10aoD5hjdMlF4JMrPt5z5XVrRTxo6sn4eA2QkxAYBlac0Be06ZyCZdwVdevb163xe+2+mKnXEz6xJcXnrPX1a/csPjnZm76xMDNU34AwAMKOFlWl+uWzd1Mp+El1/72kTZY4+ysnjxxar60IcmJitqeZgJDEaICQAsWxev23/KmI8JJW/59l9XZ2z5i+ptv7tjyjiTCS5/++4fVF9tmMAnrTszpuQgmibkGaZkpnKarVmzplqxYsWcy1VXXVX2CLDEZabxnd97cy7nn1922Kfbb5+4T1pTJrxs6j7eDTBf+9qJ8vjjU1tkRl5Dwsw995wIQxNoZv8LoOmcMkx56KGHyh5heRJiAgDLVsZ1/P1f+4UpQeYw0qrza2e9sSwBAH3JGJZpNbliRVWddFJVffrTU1tedp111kRomfCyK/WEmrmtSVpmJgxNoJn9Gz4EFi0hJgCwrCXI3HH+qurfvfk1Q4WZGQPzt499XWfCGzN1A8CAEkJ+4ANlYRoZo/O++6pq8+ayoib7yG233Tax7Uw+//lSARYbISYAsOwlfEw38ISZCSRPPfzVnZaVTaFmuozntoSef/iBN1Q/vvTN1SeO+flyKwAwsISYTS0pE0gmmEw36rVry8oZnHjixLa5z8knl5U9PvKRqjr88LIALDZCTACAImFmAskv/ptDOi0rX9p41JSxJ79/0ZGd2xJ6phUn7VOf8XVUJbPJAixJCf52fs+NvAwyQ3laUnZnHE+gmZaXeV4JJgeV+2zZUlU//GFVffazVXXssROtNUc1Y/oMjjpq598OO1/7OEr2DcvZip3/EHZ+s8wug8hGn5sDQOvcf//91bp166q1a9fu/Lt45x/GALAIXXjhhdXGjRurDRs2VOvXry9rAWBxWb16dbV9+/Zq27Zt1apVq8ra6WmJCQAAAAC0mhATAAAAAGg1ISYAAAAA0GpCTAAAAACg1YSYAAAAAECrCTEBAAAAgFYTYgIAAAAArSbEBAAAAABaTYgJAAAAALSaEBMAAAAAaDUhJgAAAADQakJMAAAAAKDVhJgAAAAAQKsJMQEAAACAVhNiAgAAAACtJsQEAAAAAFpNiAkAAAAAtJoQEwAAAABoNSEmAAAAANBqQkwAAAAAoNWEmAAAAABAqwkxAQAAAIBWE2ICAAAAAK0mxAQAAAAAWk2ICQAAAAC0mhATAAAAAGg1ISYAAAAA0GpCTAAAAACg1YSYAAAAAECrCTEBAAAAgFYTYgIAAAAArSbEBAAAAABaTYgJAAAAALSaEBMAAAAAaDUhJgAAAADQakJMAAAAAKDVhJgAAAAAQKsJMQEAAACAVhNiAgAAAACtJsQEAAAAAFptxcs7lfqMVqxY0fn/W9/61s7/AWCx+elPf1o98cQT1Stf+crqDW94Q1kLAIvLX/7lX1bPPvts9fM///PVfvvtV9YCwOLy2GOPVX/7t39bbdu2rVq1alVZO72BQ0wAAAAAgFH4whe+UJ122mllaXoDh5gPPfRQ5/8AsNjkF77f/M3frFavXl197nOfK2sBYHHZtGlTdfPNN1fnnHNOXxd9ANBGZ5xxRvUXf/EX42uJ2efmANA6999/f7Vu3bpq7dq11X333VfWAsDicuGFF1YbN26sNmzYUK1fv76sBYDFJY1Ltm/f3neIaWIfAAAAAKDVhJgAAAAAQKsJMQEAAACAVhNiAgAAAACtJsQEAAAAAFpNiAkAAAAAtJoQEwAAAABoNSEmAAAAANBqQkwAAAAAoNWEmAAAAABAqwkxAQAAAIBWE2ICAAAAAK0mxAQAAAAAWk2ICQAAAAC0mhATAAAAAGg1ISYAAAAA0GpCTAAAAACg1YSYAAAAAECrCTEBAGpWrFixW7nqqqvKLcvbscceu9txyfJC630+KQ899FC5BWD+5TtoLt9L9fsu9Pmn6fUwqX5svF8wXkJMAGBZyoVG7x/5bQjklovnn3++2rJlS3XKKadUr3rVq3a9B6lnXW7LNgvprrvuqi6++OLO56L3OXafZ9bn9mwHAHPxzDPPVJs3b57yY+FBBx1UnXvuuQt+rumet/Nc6s+x+zyzPn9bPfbYY+VeMHpCTABg0an/8TxbWe4tKXtDw1xo9B6bbhg3XxcduRA7+OCDq1NPPbW69dZbqxdeeKHcUnXqWZfbss1CXLTls5JjdPzxx1dXXHFFdc899+z2HCPLWZ/bs122z/EFaIt87zeFYkcccUTnOz+h2XLWGxrWf0zLutw2X8co550DDzywOuecczrnll5PP/10dd1113XONXnv5jsgzOcowWX3vJ3nUn+OkeeZ9RdccEG1cuXKzjHUM4JxEGICAIxQU1euUZRhLwYSrvWGhrnQ6NUN43LRkZBznC0g81xyIVYPBZtkm2w7XwF0LgxzgZgLsPoxmk22z/EdxQVmPXAYVcl+geUh54s3velNjaHYtm3bOt/5q1evnrcfX8b1vTbM+SHnuHpo2HtO6v5IlduyzbjPQQkIc97pR967o48+et5+4Ov+6Jjgsp/zdq8cwzVr1ozk74qm934UZb7+vmC0hJgAAEtULo4SrvV78ZGQMxe+42jpkYvlPJdB5eJu3Bfaeb25MMwF4lx0LzDnu6UMMH8SfDQFIt2S4KYu65q27ZZRhikJnvJ4s/0Yk/NCvpOXU5CTMC2Bar+hYWTb3GccP/DlHJ2AcBB530477bSxn2cG+dFxJvm7YlzHj+VJiAkAsAQNc3EUufA98cQTR3rBkX3l+dSdfPLJ1Y4dO6qXX365U1LPurrcd1wXQNlvXm/ThdoHP/jB6s477+wck+5zTMnyLbfc0rm9LvsZ9fED6Ee6PyfgGkRCuoUYumO+5Ts5YdowP1alVeF5551XlkYjrWWbztFXXnnlbuecnIPSarZXzjODBLGDSkDa9KPjXnvtVV100UXV1q1bq+eee26382LO35s2baqOOeaYsvWkHPNRHz+WLyEmALDo9P7h3FSWu+kujhK69YaGuVDKBVMuTHpl/SWXXFKW5u7GG2+cEhLmYictPQ477LCypurUsy639cp9s49xyH7zenvlgjHH6dprr62OO+646oADDii3TMhyusjl9myXLoe9sr/bbrutLAHMjwRM9e/ahErd7/18N2Wbut/4jd8otaUr3/X1ADPnvnpomGPV9ANVWhSOslfAZZddVmqT8tgf+9jHdjvn5Bz06KOPTvmBL8HqsMPMzKYpIM3jP/nkk9Xll19eHXXUUdXee+9dbpmQ8/fZZ59d3X333Z0f+ep/V+T46aXAKAgxAQDGLK0WuhdIw5ZcNPSr6eIoFxUJ3XpDw1wo5YLpwQcfnHLBkRB0VK0Jv/zlL5fahFxU52JnOrmt3pqjvo9Ruf7660ttQo5DLrZ6j9NMst2999475fjdcMMNpTaYXAA2vf+DlqbWMMDSlVaY+e7qle+BfKd0v8/ynZ8QKsFdr4R44x62o1cev+l7a9CS81c/ci7buHFjWZqQ7+yc++qhYY5VzpU5Z9Z9+tOfLrW5yfNJCNkrx2Sm884111wz5Tzzta99rdRGJ5+j+nPrjp9aDy6nkx/5br755rI06Utf+lKpDabpvR+msDQIMQEAlpCmi6O0KslFxXS6F211Dz/8cKnNTb31y+mnn15q06tvM0wXwNnkWNVbYeZY9V7Q9iPb11vujOP5AgsvoVdTQDKX0m8YN5Om1upN3+uRx6u3IL/ppptKbenJuazeQrX+o15dzplN3+uj+HHvu9/9bqlNOumkk0qtWQLE+nl8+/btpTY63/ve90pt0qWXXlpq/UsL0no3+HE8X5YfISYAwBLSdHH0rne9q9Smt27dulKb9Pjjj5faaO23336lNr1+tpmrpmP1zne+s9QG89a3vrXUJo2rqx/QPmnBlklyMu7iq171qt0m7sm6iy++eKzfCWkR3ivdf2f6QabeYr/+49dS0nQuazrn1TWdO5vOG6PQz49nr3vd60ptfJqOVQLJYbzjHe8otQlL+TPG/BFiAgAscXvssUepTa/fbmKMV8KO3vBj2OJiEeZHWuYloEzLxowlmH979VZ/WXfFFVd0Zg3Pv/FxjA1Yb/19wgknlFqzI488stQmzdcPLzlOTd9bg5S5zqrezzmvn3Mn49f0/g9TWBqEmADAspALnt4/Zsc5s2fbvPjii6U2vVF0kevXs88+W2rT62ebuTrkkENKbdKwY4x94xvfKLVJg4xjCiw++d5MKJmAsl8JNI8++uiRBplN+5qtNXta/tXHWJyP79226Oec18+5c1TSknc2P/jBD0ptfA499NBSmzTs7PX11sHGamYUhJgAwKLTG0Y2leVs3333LbVJX/3qV0ttevfdd1+pTdp///1LbW7q42L1M/ZafZv6PkYhLXHq48JlQqN+LiZ7Zfv6bPDjeL5Au5x33nlDjX+blponnnjiyH48eumll0ptUj8/otRbY/7whz8staWl6VzWdM6razp3Np1jB9X0A9ptt91Was3yWalPvrRq1apSG51f+IVfKLVJn/jEJ0qtfwk+6/82xvF8WX6EmAAAS0ha1zQFczPNPJtWPOeee25ZmtTU3bBXWhT1EyL/6q/+aqlNyP1mej65Ldv0qu9jVM4666xSm5BwIWPJ9dtKKttl3K9699Ezzzyz1IClKP/267OBR2aZ3rFjx65JezJ5WGa6rrd6zPp+gjTmrulclnPeTN/zOQ/Vf5zKuXW2sSubusqntW6v/IBWb5WY2dNnej6XXHLJlPPMsGM4zySvr/7cEkZmUqF+Q/ccu9NOO60sTXrve99bajA8ISYAwBJTn7AhTj311CkXbd2JKNK1sX5xNMws3dM544wzplzANz2f1LMut/XKfbOPcch+66FvLthWrlzZeS5pTVJvmZnlXKTl9mxXn+E8+5ttptl+5WKydxbjYcvdd99d9giMQv2Hlti6dWtn5u/eWa/zPZoAKN8r9e/BO+64o9Sm1xSKzXU8yIWWoLfpe2qQMsiM7nkP6jON55yXc1+OZe93/HTnoWg6tw7r4x//eKlNmO755ByUELQeqObcMK4hS/L+1CWwP/jgg3dNUFUPNHPcNm/e3HmuOXb1vyny4+BMs8EPYhSfn5RBPkO0hxATAFgW8sdq7x+vTX+kj0smc6hfhA5a6i05ZpIL5qbuzLkISujW3WfCtlwg1y82cqF9/vnnl6W5S6uTa6+9tixNqj+f1OsXapH7jmvioez39ttvnxIuRJ7L8ccf3zlO3efYPW65SGt6rtlP9jeu5wu0wwMPPFBqE2YLlZqCtJ/+9KelxrjlnFb/ns+5L+fA3u/46c5DOafm3Doq+aw0Bav155NzUD0wz+sY598wCRvTerguz687QdU+++yz6zl2j9s555zTGO7n2F1zzTVlCeZGiAkALHqz/Sq/HH9tT8u7YcZlzMXRgw8+OLJWmF25+Gu6KJpN3ttRXjg2yQVbXvNcx7HM/bOfUbU2AejHK17xilKb1M9M44888kipTRjVOMhtlHNavp+bfrCaTb7bx9GaPT/Q1YPM2eT533zzzWM/z+S8e+eddw51vHqlBWaOnR/2GBUhJgDAEpQLhlw45AKiX4OGcNN1dZ7OIBdF2SbbzlcAndf86KOPVps2beq0ghlEtk9Am/sLMGF5qP/QkxZovcNj1KX7bVMLv1Fo+t6ZbabxdFmut8KfbUbzUWnqIj9sGUSO06A/WA0awjX9qDpTAJogs99Wld1z9HHHHVfWjFce58knn6wuuuiigcPM/H2Q4RUy9IoAk1ESYgIALFG5cMgFRC4k0tpjuouQXKTNVwjXvSjK4+Vxe59T6t3nkm3m60Kt19lnn1099dRTnQA1F265EKsftyxnfW7Pdtl+XK1FE4w0XbgPUxb7OHrQJm9729tKbVJ3TMPeMLM7hm7GE6yHhu95z3tKbXpNoVjTjzv5Tuo123ibTZMKjWuMxTbp/mDVPQc1yXd8zpnzFcLl/czYyvkRrf4+5keyPJecaxbih7K89ssvv3zXeTvPpf4cI88z6/N5zcRWCW7H9XkaZQjeT4tlWmbnl2BfsukAmwNA6+z8g71zLlu7dm1Zw2LV/bukW3b+0Vxu6V/u07uPnX98l1tGs/+2mstryzHqvW/vMVsovc8nZedFZ7llcaof41GWpfQ5Xu7Wr1/feU83bNhQ1rAQDjzwwCn/zvote+2118vPPfdc2dOk+nb9/rvdtGnTlPvu2LGj3DpV/blP932e79Te7VIGNc7vtblqen2DnEfq913o79lRvF9tU389oyyL/W+GpWDVqlWd92Lbtm1lzcy0xAQAAIABTTcpWD/+6I/+aKQt/NatW1dqk84888wps0hHZphOy79ep59+eqkBtJcQEwBYktJFKCVdwdK9L919xz1BDP3LbOu9XboGmX0doA26YywOEmRm261bt468q23T7Ofbtm3rfLd2u7ena/u5557bmWG6V7oCj/P8mK7FL7+8e5f4UZWlpPecmGIIEJhKiAkALHpN4yOtWbOmU0499dTO7bfeemunQJv1c7F/TG08siw3bVcvy3GWfhi3BJkZL/DKK6+ccVKw3JZtsu24xgr85Cc/OSVQTZC5cuXKznkxz6FpcqHPf/7zpQbt03Q+q5e6/Ftr2q5elsM4sEuNEBMAAACGlG7h+ZGgOylYXXcCsGwzzklisu9BW4ZmgrKFmEQNYBhCTABgWTETZbN0M+x2wd+8efOuLvjpitjmrt5aVQBtsscee5TapO667nds7/dsunfnO3ZU3bm7XdxnahUaCTozG3ZmnqZZuuF336+8Vyl5r4444ojWdvXOObB+XoSlRIgJACwpq1ev7nSv7Za0Mkm3oltuuaXasWPHSEOuXNjUu7HPZ8njd+WCqmmbeqnrdsXPBW+3C/4555yzqwv+Pffc0zgxxGLUpvcLWHwSYDX92+4t+Q6ty7rubfXv2XTvzvfsT3/607L13CXIfPjhhzvnvfrwEzlH5ryYbuZnn312Wbs0zfX9Sjf87vuV9yol71WO3c9+9rOy9eLW798O4yowKCEmALDo1FsZ9JZHH320M65gt6SVSbrwpZVLLuyWqkMPPbTURi8XbIzesKFqLqJ7Zblpu9mKUBUG88pXvrLU2i9dy3Peq4+zm3NkzouZCGgc2hSKrVq1qtRGb/v27aXGKA37+anr/kA7aKH9hJgAAEtAUxdGAEbn8MMPL7XRy5iZjNaee+5ZasBSIcQEAFgCDjnkkFKbXrqM93a175Zul/tuSRfErVu3dsrTTz/dab0DQH+avmdTer9nMx5l93s2Q50IMUevnx4K9SFomt6rlEzO1H2/nnvuuU4LV2AB7PyjtC/ZdIDNAaB17rvvvs65bO3atWUNy9nOi5Jdf9+k7LxoKbdM/t3TLdmWlzvHqPe49B6zQdX3NcqyWOy8GG58/vNV8vgsTuvXr++8hxs2bChrWCrq/04X+vzT9D01k/q5db7LfKs//lzer/q+RlXmcq6eb8vt88PLL69atapz7Ldt21bWzExLTAAAWABNs8jOZzGTOzBqGYO66ftmvgqLm88PsxFiAgDL0v7779/5fyZq+PM///PqX/yLf9FZjiy//e1v79Rz++mnn96pM3m8usdnWN3jXd/fKJYBAFh6hJgAQPvddFNVff3rE/Wf/rSq/uW/nPPyL/+Df1CdcMIJ1R9/4QvVP37LW6pzfuEXdt2e5c/+q3+16/b//YgjRv74i3H5zW9+867jleOT5WH3l+Pde/x7j/dcl4d5Pst6+XOfm6gDALTZy33KpgNsDgCtY0zMRe7tb3/55a98ZeL/f/7nY11eufNz8uDO8mfr17/86M/93Mv/6T/8hxm3Xy7L392woXM8uscnyzNtb3kRLbOoGBNz6eped3fLYhsTc7mpH5uFfr9gsRl0TEwhJgDLhhBzCTjhhN0DF8uWLZeFnea6zKIhxARgKRg0xFyR/+y8w6xWrFjR+X+fmwNA69x///3VunXrqrVr11b33XdfWQsAi8uFF15Ybdy4sdqwYUO1fv36shYAFpfVq1dX27dvr7Zt21atWrWqrJ2eMTEBAAAAgFYTYgIAAAAArSbEBAAAAABaTYgJAAAAALSaEBMAAAAAaDUhJgAAAADQakJMAAAAAKDVhJgwRytWrNitPPTQQ+WWhdPG5wQAAAAwLCEmy95iDfzqz/uqq64qtwCwqJx/fr7UJ8tRR5UbBpT79e5nVOX228sDjN8ozm25T30/wzr22GOn7GuuJfsEaKMVH/qT3crvPfxfyi3DOetL399tf6s/8+1yy8zq90uZq7yW+j4HeX157r337fe1zEWuS+vnkGGuVevnsrmch3r3M6riOpZBCDEBAPpRDxuHLcOGlAAAsIwJMWGezaVVh9YbAACwPNVbAw5b0tIRYDESYkLNiy++WGoAwEK64IILGn/Um6nkPgCM32yh6n/81l+VLSds/9FLjdv1Fma2Zs2axnPfTOWee+4p94bFT4gJNY8//nip8dhjj1VHHHHErhOglqAAi8hb31pVL788WLnttnJn4u677955WF6eU7nyyivL3gBgcWs6zw1ajjnmmLI3GJwQk2UtIV3dAw88UGrL1/PPP98ZYHnlypXVtm3bylqAZe7qq6eGft3ykY+UjYqZAsRFMoEcACwWTZMB9ZYztvxF2XJS1jVt2y1zndgIGD0hJsvan/3Zn5XapDS3f+aZZ8rS6E3XqqP+i1RabtS3yX3HKeHlli1bqje96U264wEMon4++cY3SoXFbC7jWHeL8ykwKts+fHj18md/qbGseu0rylYT/t2bX9O4Xcr173192QoG03SeG7To3s5cCDFZ1j71qU+V2u7OPffcUlseHnrooc5rPvjgg6tTTz21evrpp8stAPTlO98plR63314qA0oAuvOP/CllGWr6QW+2ovs2sBy9+D/+vtQm/O3f/a9SG5+ZQtVhCzPbunVr47lvpqL7NkuJEJNla/PmzdOGdfl1aDkFmZdddll13XXXVS+88EJZA0DfPve5zApXFnp84hOlAgDj9eTf/PdSm7DtRy+V2u5m6nY9Cl/5znOdx8ikP69Y/9Bu+89y1r/vC9/tbAcwKCEmy1LGwrzwwgvLUrOEesutRSYAA/rRj6YPK594oqpOOaUsLIDpWnTOVE46qdy5HcxODjC7S+/5y1KblFBzPsd0TCiZgPJf/94TnVnJMxN5vTVolrP+lm//dWe7bD+qMDNd5Jtads6lfOBN/6zsvT3MTs5yJ8Rk2cm4j2eeeeaUVodNzewTZJ6y8wJ0nGNk9qNpTK5xyrG45ZZbyhIAjRJgvvOdza0wu269dWKbbMuiN0z39noZ9/jWwPKz+Zs/LrXd/YevPDUvLR7zGO//g+91AspBZPvcT6vMxWuY7u318rGPfazsDWYnxGRZSRiZQLA+4/YHP/jB6g/+4A+q1atXlzWTbt15AZr1ma17nGHmI488UmoLI6/xoosuqnbs2NG5wNpvv/3KLQBM8e1vT4STaW3Z67OfraqTTy4LRUKrQw+d6Hbej+lmNgeAml+54fHqr178n2Vpd2n5OB8h4QV//MzQY3B2n+PTz+3eHX5U8trTfT2tPpu6tn/kPz89tscGRk+IybJx1113dYK6eoCZdddee2219957d8K7k+sXnzul1Wa6px144IGdSXDGod4y9IEHHii18cvrfvTRR6vLL7+8Ouyww8paABr9zu9U1dFHTw0wzzqrqn7zN6tqy5apQWZaa37oQ1W1//5VdfbZw0/6w4Iapnt7U8kPowBzlQDzq088X5YmfPjt+1U/94/+t7JUdULCdN3OOJUJ62bqdj2MhIT18TgzU/pnTjiw+tNfX7nb/p+6+MjqxlP+efVLB76ybDkhz/GPaq+jrjeATEkAOZO81m739nRfr7cSzWNm3We+/my18urtnePD4Ibp3t5UxnWNzdIjxGTJ67a+PP744xu7kPd260qQuWXnxeemTZvKmt0l4DzqqKPK0ug0fWkvdMtMAHqkO3jCy4SQGQOz3oX80kszY1xZ2ClBZtbtsUdZUWQ/118/nu7lOZc0teDsLXUf+Ujzdr3lxBPLxuPX1M1sFAVgKUlA1xRg/rs3v6b69L86sPqdd76urJmUcSoT1qVV4tZnflbWzt0L/233WdHjsyccWH3ol/ar1hywZ1kz4cB9/nFnnMmv//upjSa++1//W6nNXYLVvNZ+u7cn0Mzxefv/9VhZ0w657qyfz0ZRDGvCYibEZEnL+Jdpadk0mHG6kOcLPMFl3dlnn92Zubx3nMy0wrzmmmvK0mh985vfLLVJCVwTqEaeZ/3kA8A8+uhHJ8LLeviYkPLGG6vqt36rrOiRdQ8+ONE9vFdaaabFJgAMKJP1rPndHVMCzHe9Ye9OK8tIgPjbx75utxaZkbAurRLftvP+CTPH5UN3PF199k+enRKWJnzN+qaw8BW15zqsPMaw3dv/5OmfjvW4AHMnxGRJS0D54M4LyL322qusqTr1O++8s9OFfCYHHHBAJzzMYMUJM2+66abGwHMUrk+rnAZ5TABaoKmLeMLJhJQf+EBZ0eDwwydaSN5228T9c5/yAxUA9CPBXGYgf/0Vj1RnbPmLKWNgJsD84zMPLUsTPnHMz1e//2u/UL1mj39Y1kzKuk82tNYcRlpW1h8jLSA/fMfTnbC0twv4QZc/0lmfsLDuhDfuU2pzc+03fjyle3vC3IS6vd3b//ADb6hOPfzVZYtJCXlH2VIVGC0hJktexnh88sknO0FkJq5J/bjjjiu3zi7N+BNmTteNvN5CctDu5ulKnlafTdKCtNsaE4AF1u0iniAyoWTCyYSU/UiX7Ny/YfiQ6uqrd+++3bRN3fnnV9WKFYOXuk9/unm72coIZKiXpnGx5qPksfvR1BNiFMVMrMAg0g17249emhLORVOA2fWeN+5Tbf31lVPCumtOOrizz1H56C+/ttSGk+e3ptb1vK53bM2UbR9uPv/+ca2FagLMHeev6oS6vY+RY/PFf3NIJ9ysu+4bzbO9j1vT+Wq+Sr9jNfeey0ZZxjFkG0uTEJNloTtpTyauGVdrymFddtllpTYh3dZ7nXvuuWOdFR2AAaSLeELG7jiRw4aJMxV/yANQk6AygWVXt3XhdAFmV8LKhHVpeZgJdzLxTwK8UUr39UzkU+++3o8EmHl+o1IPes9682tmDGwTbh78T3a//fsNYTHQDkJMlq1xtQAZZGa1zJjeO15nAsx77713t+7vGRszEwplfE8AAGB56gaZKXed9cZOANevBJdpvZiJf8YhQWZaPCYkTVg6k4SGCS/TvXuUAWaTN/yz/1epTe/tB+0+WzrQXkJMWCBpXXnaaaeVpQlplZmxOOvjdW7btq0TugoyAWA8FkP3doAEmSlrZul+nXEdM45mZjFf/Zlv7zY2ZbdkfSbZ+ch/frqzfb3Ldsa7HERaPCYkTVia+9fDzCxn/Y2n/PNq7ev36rSaPOtL3++UPJd9P/GtzsRFo/TEf/n/ldr0vv7U1DE6SeeQ5nPWfJR+u7ez/AgxYQEkjEzryrSy7MqYnaecckqnnv9n9vReCTLf9KY3VY89NnU2PwCWmfo4mvNdRmCY8SYz2V5d1jVtO1PJYwMsRQkjE1xmUp3fvvsHnVnMM9FOk6zPJDuf+fqzne0TJPYbIk4XjPaW+uNmOevzWJmgKOU/fuuvOiW31ScsGka9a/j1O/ediZGmk6C33gX99bV9zJem89Vs5corryz3ntS03WzFWM0sFkJMmGcJMNPiIqFkV7qP11tfZjlBZ69MALR58+ayBMCCG0WY+JGPlJ3NgxW18TczpicAS0ICueOu/04nuBxGgsQEi+/7wnfLmvn3s//x96U2nF/pGTc0/vbv/le18urtnWPTO+v4V77zXOd1Juit+9WV/6TUgLYRYrJsjWrG0UGkFWU9wIwElulGXnfNNddUq1evLktVtWnTpilhJwAsFfXuZIOMMw2wnH32T57tBHIJ7ebqlm//9axB5rhaK373v/63UhtOurPXW2PmmOTYpAVot5Xov/69Jzqvsy5jdY564qNh5RxYPy/CcifEZNka1dhXg9iwYcOUADPdxrvdyOu6s6pnm1tuuaU6++yzyy0AtMIoZif/9KfLzsbs/vtLpcezz5YKM/24OWg39kG3170dmIt0l/6tr01tUfiaPf5hZ6KdjEH51MVH7jbeZXdsyukm4knAl9aK05ltJvIEidlvb/mlA19Z/bs3v2ZX6T63bslzuv69ry97GN6Vv3JA57UPKs/xk+98XVmi6XzVLYN2Yx90e93bmY4QE+bRli1bdhvrMt3FZ2tZmSAz20wXdAJAX264oVR63Hprc7gJwKJx8/a/ntICMzOY//jSN3daJmaCnky6U5f13Yl4fvvYqeHdl3f8TalNlbCxHor2lu9fdGRnv73l6//+sM79uqX73Lqlq2nfg0hLyq2/vrITmvYroWqeY9NxAtpDiAnzLIFkWlUmwEx3cQAYu899biKwbHLiiYJMgEXs//uzvyu1SZnBfBCfOObnp3TD/n5twpvZZJbxbnftUZdBJYxMaPqHH3hDp4t4Wln2SkvSrEtr0D/99ZWd4BRoPyEmLIC0qkyrzLSyBICxSoD5oQ+VhQYvvijIBGBJSqvML/6bQzqtLHtbdr608ajOurQGXXPAnmVroO2EmFAcc8wxjeNxDFqOOuqoskcAlqWd54I5lVFNZvOjH1XVO985NcDcY48MDF0WigSZ69ZNjPGZ+7VUzrHOuwC7+3/v+Y9KbdKv3PB4qfUns3c/WWt5Ocy4ksyvjB1ZPy/CUibEhOKee+6pmibuGaaYTRWABfPtb0+EkYcemtlqysoiAebtt1fV175WVW99a1nZI5MMZf3v/E6rw0wAJp226tVTJtr56hPPV/t+4lvVR/7z09XvPfxfOpP/1GV9bl/9mW93Zu+ua8ss3QBdQkwAgFFa0TAD+aBl0NaF6Qqe4DEtL1etmggj07qyVzfAXLt2Yjk/uJ188kS9V8LLT3yiqvbff2J/2W/utwCh5po1a3YejuYfDAcpV111VdkjwNKT8R/PP/q1ZWnSX734P6vPfP3Z6owtf1EddPkjU8aZzPrcvv1HL5V7TMo4kr2T7fSjaUKeYUom2aFZ0zlumKLRDYuVEBNo1NRl7+56ix4AFtbZZ0+EnukKnuBxuu/ptK58/PHJALNry5aquvTSiYCzSfaX/Z500kTLTq0zAVopE/M0zTA+jASYGUcSoG2EmAAAi1VCzOkCyHjta6vqxhsnWl2m3uS3fquqHnywuVVmr4Sd0+0DgAWXIDMzbb/rDcNNHprZum885Z8LMIHWEmKybKVVYb2l4ajKfEwyUH/MDOoMwDJz+OFV9dnPloUeCRuz/oc/rKoPfKCsnEH2k1aZ27dX1VlnTQ1G05LzN3+zLADQVmsO2LP64zMP7YSZH377fp1AM+Fkk6z/pQNf2dku22e27kG7kAPMJyEmLEH1gNPMrQBjcvXVu88sPqoyyFhVCSkTPCa4TGvKtLxMeDlM6Jgwc/PmqvrZzyb2k/0l0Pz858sG41U/f42q+KEPWG7WHLBn9el/dWAn0Ew42TT2ZNZ//d8f1tku29MuTcN7jaq4PmSxWrHzA7zzL+XZZfDX6HNzAGid+++/v1q3bl21du3a6r777itrAWBxufDCC6uNGzdWGzZsqNavX1/WAsDisnr16mr79u3Vtm3bqlWZnHIWWmICAAAAAK0mxAQAAAAAWk2ICQAAAAC0mhATAAAAAGg1ISYAAAAA0GpCTAAAAACg1YSYAAAAAECrCTEBAAAAgFYTYgIAAAAArSbEBAAAAABaTYgJAAAAALSaEBMAAAAAaDUhJgAAAADQakJMAAAAAKDVhJgAAAAAQKsJMQEAAACAVhNiAgAAAACtJsQEAAAAAFpNiAkAAAAAtJoQEwAAAABoNSEmAAAAANBqQkwAAAAAoNWEmAAAAABAqwkxAQAAAIBWE2ICAAAAAK0mxAQAAAAAWk2ICQAAAAC0mhATAAAAAGg1ISYAAAAA0GpCTAAAAACg1YSYAAAAAECrCTEBAAAAgFYTYgIAAAAArSbEBAAAAABaTYgJAAAAALSaEBMAAAAAaDUhJgAAAADQakJMAAAAAKDVhJgAAAAAQKsJMQEAAACAVhNiAgAAAACtJsQEAAAAAFpNiAkAAAAAtJoQEwAAAABoNSEmAAAAANBqQkwAAAAAoNWEmAAAAABAqwkxAQAAAIBWE2ICAAAAAK0mxAQAAAAAWk2ICQAAAAC0mhATAAAAAGg1ISYAAAAA0GpCTAAAAACg1YSYAAAAAECrCTEBAAAAgFYTYgIAAAAArSbEBAAAAABaTYgJAAAAALSaEBMAAAAAaDUhJgAAAADQakJMAAAAAKDVVry8U6nPaMWKFZ3/H3bYYZ3/A8Bi89JLL1XPPPNM9XM/93PVgQceWNYCwOLyV3/1V9Vf//VfV695zWuqV7/61WUtACwu3//+96v//t//e/Xwww9XRx55ZFk7vYFDTAAAAACAUfjCF75QnXbaaWVpen2HmF/+8pc7/3/961/f+T8ALEb5tc+5DIDFzvkMgKUg57Nf/dVfLUsz6zvEBAAAAABYCCb2AQAAAABaTYgJAAAAALSaEBMAAAAAaDUhJgAAAADQakJMAAAAAKDVhJgAAAAAQKsJMQEAAACAVhNiAgAAAACtJsQEAAAAAFpNiAkAAAAAtFhV/f8B2dG0MCzDg14AAAAASUVORK5CYII=)"
      ],
      "metadata": {
        "id": "1zZrEfKv8J5T"
      }
    },
    {
      "cell_type": "code",
      "source": [
        "from sklearn.metrics import confusion_matrix\n",
        "confusion_matrix(y_pred, y_test)\n"
      ],
      "metadata": {
        "colab": {
          "base_uri": "https://localhost:8080/"
        },
        "id": "zkkfWG-V5szN",
        "outputId": "da9fda6f-737f-4773-8d77-168424605911"
      },
      "execution_count": null,
      "outputs": [
        {
          "output_type": "execute_result",
          "data": {
            "text/plain": [
              "array([[ 464,   12],\n",
              "       [  13, 1461]])"
            ]
          },
          "metadata": {},
          "execution_count": 75
        }
      ]
    }
  ]
}
