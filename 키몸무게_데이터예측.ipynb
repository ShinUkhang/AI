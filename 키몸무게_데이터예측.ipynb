{
  "nbformat": 4,
  "nbformat_minor": 0,
  "metadata": {
    "colab": {
      "name": "키몸무게_데이터예측.ipynb",
      "provenance": [],
      "collapsed_sections": []
    },
    "kernelspec": {
      "name": "python3",
      "display_name": "Python 3"
    },
    "language_info": {
      "name": "python"
    }
  },
  "cells": [
    {
      "cell_type": "markdown",
      "source": [
        "# 1. 한글폰트 설치(실행 후 런타임 재실행 필수) "
      ],
      "metadata": {
        "id": "T1W_CkiA5pMT"
      }
    },
    {
      "cell_type": "code",
      "source": [
        "!sudo apt-get install -y fonts-nanum\n",
        "!sudo fc-cache -fvㅡ\n",
        "!rm ~/.cache/matplotlib -rf"
      ],
      "metadata": {
        "colab": {
          "base_uri": "https://localhost:8080/"
        },
        "id": "flunN6bPYeA7",
        "outputId": "7c019c6f-451d-4bc4-878d-b02b89372c84"
      },
      "execution_count": null,
      "outputs": [
        {
          "output_type": "stream",
          "name": "stdout",
          "text": [
            "Reading package lists... Done\n",
            "Building dependency tree       \n",
            "Reading state information... Done\n",
            "fonts-nanum is already the newest version (20170925-1).\n",
            "The following package was automatically installed and is no longer required:\n",
            "  libnvidia-common-460\n",
            "Use 'sudo apt autoremove' to remove it.\n",
            "0 upgraded, 0 newly installed, 0 to remove and 45 not upgraded.\n",
            "fc-cache: invalid option -- '�'\n",
            "usage: fc-cache [-EfrsvVh] [-y SYSROOT] [--error-on-no-fonts] [--force|--really-force] [--sysroot=SYSROOT] [--system-only] [--verbose] [--version] [--help] [dirs]\n",
            "Build font information caches in [dirs]\n",
            "(all directories in font configuration by default).\n",
            "\n",
            "  -E, --error-on-no-fonts  raise an error if no fonts in a directory\n",
            "  -f, --force              scan directories with apparently valid caches\n",
            "  -r, --really-force       erase all existing caches, then rescan\n",
            "  -s, --system-only        scan system-wide directories only\n",
            "  -y, --sysroot=SYSROOT    prepend SYSROOT to all paths for scanning\n",
            "  -v, --verbose            display status information while busy\n",
            "  -V, --version            display font config version and exit\n",
            "  -h, --help               display this help and exit\n"
          ]
        }
      ]
    },
    {
      "cell_type": "code",
      "source": [
        "import matplotlib.pyplot as plt\n",
        "plt.rc('font', family='NanumBarunGothic')"
      ],
      "metadata": {
        "id": "b15TmBehYdrF"
      },
      "execution_count": null,
      "outputs": []
    },
    {
      "cell_type": "markdown",
      "source": [
        "# 2. 데이터 확인 및 시각화"
      ],
      "metadata": {
        "id": "BKckog6356Ml"
      }
    },
    {
      "cell_type": "code",
      "execution_count": null,
      "metadata": {
        "colab": {
          "resources": {
            "http://localhost:8080/nbextensions/google.colab/files.js": {
              "data": "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",
              "ok": true,
              "headers": [
                [
                  "content-type",
                  "application/javascript"
                ]
              ],
              "status": 200,
              "status_text": ""
            }
          },
          "base_uri": "https://localhost:8080/",
          "height": 77
        },
        "id": "v1mil7EOW18k",
        "outputId": "4465f2a9-3582-4087-fecd-608d30d4a53b"
      },
      "outputs": [
        {
          "output_type": "display_data",
          "data": {
            "text/plain": [
              "<IPython.core.display.HTML object>"
            ],
            "text/html": [
              "\n",
              "     <input type=\"file\" id=\"files-58e6435f-d143-4b70-a882-6ded45451db2\" name=\"files[]\" multiple disabled\n",
              "        style=\"border:none\" />\n",
              "     <output id=\"result-58e6435f-d143-4b70-a882-6ded45451db2\">\n",
              "      Upload widget is only available when the cell has been executed in the\n",
              "      current browser session. Please rerun this cell to enable.\n",
              "      </output>\n",
              "      <script src=\"/nbextensions/google.colab/files.js\"></script> "
            ]
          },
          "metadata": {}
        },
        {
          "output_type": "stream",
          "name": "stdout",
          "text": [
            "Saving 2015학생건강검사결과.csv to 2015학생건강검사결과 (1).csv\n"
          ]
        }
      ],
      "source": [
        "from google.colab import files\n",
        "uploaded=files.upload()"
      ]
    },
    {
      "cell_type": "code",
      "source": [
        "import pandas as pd\n",
        "data=pd.read_csv('2015학생건강검사결과 (1).csv',encoding='cp949')\n",
        "data=pd.DataFrame(data)"
      ],
      "metadata": {
        "id": "KFgGAFCEXJmn"
      },
      "execution_count": null,
      "outputs": []
    },
    {
      "cell_type": "code",
      "source": [
        "data.head()"
      ],
      "metadata": {
        "colab": {
          "base_uri": "https://localhost:8080/",
          "height": 384
        },
        "id": "ZSYpuvaXXOli",
        "outputId": "a2d45109-7a46-4554-c081-52e37bd41a85"
      },
      "execution_count": null,
      "outputs": [
        {
          "output_type": "execute_result",
          "data": {
            "text/plain": [
              "    고유식별번호(ID)       최종가중치 학교고유번호(ID)      도시규모 도시규모별분석용   학년도 광역시도       시도별  \\\n",
              "0  Aa011남10101  169.550665       Aa01  대도시/중소도시   특별/광역시  2015   서울  서울특별시교육청   \n",
              "1  Aa011남10102  169.550665       Aa01  대도시/중소도시   특별/광역시  2015   서울  서울특별시교육청   \n",
              "2  Aa011남10103  169.550665       Aa01  대도시/중소도시   특별/광역시  2015   서울  서울특별시교육청   \n",
              "3  Aa011남10104  169.550665       Aa01  대도시/중소도시   특별/광역시  2015   서울  서울특별시교육청   \n",
              "4  Aa011남10105  169.550665       Aa01  대도시/중소도시   특별/광역시  2015   서울  서울특별시교육청   \n",
              "\n",
              "   학교급별       학교명  ...      키   몸무게  혈당식전(mgdl)  총콜레스테롤(mgdl) 간기능(AST)단위(UL)  \\\n",
              "0     1  서울대도초등학교  ...  125.8  27.3         NaN           NaN            NaN   \n",
              "1     1  서울대도초등학교  ...  124.3  25.4         NaN           NaN            NaN   \n",
              "2     1  서울대도초등학교  ...  119.2  23.5         NaN           NaN            NaN   \n",
              "3     1  서울대도초등학교  ...  115.0  20.0         NaN           NaN            NaN   \n",
              "4     1  서울대도초등학교  ...  120.0  33.5         NaN           NaN            NaN   \n",
              "\n",
              "   간기능(ALT)단위(UL)  혈색소(gdl)  간염검사    수축기   이완기  \n",
              "0             NaN       NaN   NaN   77.0  58.0  \n",
              "1             NaN       NaN   NaN   83.0  51.0  \n",
              "2             NaN       NaN   NaN  103.0  65.0  \n",
              "3             NaN       NaN   NaN   92.0  66.0  \n",
              "4             NaN       NaN   NaN  102.0  59.0  \n",
              "\n",
              "[5 rows x 25 columns]"
            ],
            "text/html": [
              "\n",
              "  <div id=\"df-488a8da9-0bfb-4285-8bda-5af2083312d4\">\n",
              "    <div class=\"colab-df-container\">\n",
              "      <div>\n",
              "<style scoped>\n",
              "    .dataframe tbody tr th:only-of-type {\n",
              "        vertical-align: middle;\n",
              "    }\n",
              "\n",
              "    .dataframe tbody tr th {\n",
              "        vertical-align: top;\n",
              "    }\n",
              "\n",
              "    .dataframe thead th {\n",
              "        text-align: right;\n",
              "    }\n",
              "</style>\n",
              "<table border=\"1\" class=\"dataframe\">\n",
              "  <thead>\n",
              "    <tr style=\"text-align: right;\">\n",
              "      <th></th>\n",
              "      <th>고유식별번호(ID)</th>\n",
              "      <th>최종가중치</th>\n",
              "      <th>학교고유번호(ID)</th>\n",
              "      <th>도시규모</th>\n",
              "      <th>도시규모별분석용</th>\n",
              "      <th>학년도</th>\n",
              "      <th>광역시도</th>\n",
              "      <th>시도별</th>\n",
              "      <th>학교급별</th>\n",
              "      <th>학교명</th>\n",
              "      <th>...</th>\n",
              "      <th>키</th>\n",
              "      <th>몸무게</th>\n",
              "      <th>혈당식전(mgdl)</th>\n",
              "      <th>총콜레스테롤(mgdl)</th>\n",
              "      <th>간기능(AST)단위(UL)</th>\n",
              "      <th>간기능(ALT)단위(UL)</th>\n",
              "      <th>혈색소(gdl)</th>\n",
              "      <th>간염검사</th>\n",
              "      <th>수축기</th>\n",
              "      <th>이완기</th>\n",
              "    </tr>\n",
              "  </thead>\n",
              "  <tbody>\n",
              "    <tr>\n",
              "      <th>0</th>\n",
              "      <td>Aa011남10101</td>\n",
              "      <td>169.550665</td>\n",
              "      <td>Aa01</td>\n",
              "      <td>대도시/중소도시</td>\n",
              "      <td>특별/광역시</td>\n",
              "      <td>2015</td>\n",
              "      <td>서울</td>\n",
              "      <td>서울특별시교육청</td>\n",
              "      <td>1</td>\n",
              "      <td>서울대도초등학교</td>\n",
              "      <td>...</td>\n",
              "      <td>125.8</td>\n",
              "      <td>27.3</td>\n",
              "      <td>NaN</td>\n",
              "      <td>NaN</td>\n",
              "      <td>NaN</td>\n",
              "      <td>NaN</td>\n",
              "      <td>NaN</td>\n",
              "      <td>NaN</td>\n",
              "      <td>77.0</td>\n",
              "      <td>58.0</td>\n",
              "    </tr>\n",
              "    <tr>\n",
              "      <th>1</th>\n",
              "      <td>Aa011남10102</td>\n",
              "      <td>169.550665</td>\n",
              "      <td>Aa01</td>\n",
              "      <td>대도시/중소도시</td>\n",
              "      <td>특별/광역시</td>\n",
              "      <td>2015</td>\n",
              "      <td>서울</td>\n",
              "      <td>서울특별시교육청</td>\n",
              "      <td>1</td>\n",
              "      <td>서울대도초등학교</td>\n",
              "      <td>...</td>\n",
              "      <td>124.3</td>\n",
              "      <td>25.4</td>\n",
              "      <td>NaN</td>\n",
              "      <td>NaN</td>\n",
              "      <td>NaN</td>\n",
              "      <td>NaN</td>\n",
              "      <td>NaN</td>\n",
              "      <td>NaN</td>\n",
              "      <td>83.0</td>\n",
              "      <td>51.0</td>\n",
              "    </tr>\n",
              "    <tr>\n",
              "      <th>2</th>\n",
              "      <td>Aa011남10103</td>\n",
              "      <td>169.550665</td>\n",
              "      <td>Aa01</td>\n",
              "      <td>대도시/중소도시</td>\n",
              "      <td>특별/광역시</td>\n",
              "      <td>2015</td>\n",
              "      <td>서울</td>\n",
              "      <td>서울특별시교육청</td>\n",
              "      <td>1</td>\n",
              "      <td>서울대도초등학교</td>\n",
              "      <td>...</td>\n",
              "      <td>119.2</td>\n",
              "      <td>23.5</td>\n",
              "      <td>NaN</td>\n",
              "      <td>NaN</td>\n",
              "      <td>NaN</td>\n",
              "      <td>NaN</td>\n",
              "      <td>NaN</td>\n",
              "      <td>NaN</td>\n",
              "      <td>103.0</td>\n",
              "      <td>65.0</td>\n",
              "    </tr>\n",
              "    <tr>\n",
              "      <th>3</th>\n",
              "      <td>Aa011남10104</td>\n",
              "      <td>169.550665</td>\n",
              "      <td>Aa01</td>\n",
              "      <td>대도시/중소도시</td>\n",
              "      <td>특별/광역시</td>\n",
              "      <td>2015</td>\n",
              "      <td>서울</td>\n",
              "      <td>서울특별시교육청</td>\n",
              "      <td>1</td>\n",
              "      <td>서울대도초등학교</td>\n",
              "      <td>...</td>\n",
              "      <td>115.0</td>\n",
              "      <td>20.0</td>\n",
              "      <td>NaN</td>\n",
              "      <td>NaN</td>\n",
              "      <td>NaN</td>\n",
              "      <td>NaN</td>\n",
              "      <td>NaN</td>\n",
              "      <td>NaN</td>\n",
              "      <td>92.0</td>\n",
              "      <td>66.0</td>\n",
              "    </tr>\n",
              "    <tr>\n",
              "      <th>4</th>\n",
              "      <td>Aa011남10105</td>\n",
              "      <td>169.550665</td>\n",
              "      <td>Aa01</td>\n",
              "      <td>대도시/중소도시</td>\n",
              "      <td>특별/광역시</td>\n",
              "      <td>2015</td>\n",
              "      <td>서울</td>\n",
              "      <td>서울특별시교육청</td>\n",
              "      <td>1</td>\n",
              "      <td>서울대도초등학교</td>\n",
              "      <td>...</td>\n",
              "      <td>120.0</td>\n",
              "      <td>33.5</td>\n",
              "      <td>NaN</td>\n",
              "      <td>NaN</td>\n",
              "      <td>NaN</td>\n",
              "      <td>NaN</td>\n",
              "      <td>NaN</td>\n",
              "      <td>NaN</td>\n",
              "      <td>102.0</td>\n",
              "      <td>59.0</td>\n",
              "    </tr>\n",
              "  </tbody>\n",
              "</table>\n",
              "<p>5 rows × 25 columns</p>\n",
              "</div>\n",
              "      <button class=\"colab-df-convert\" onclick=\"convertToInteractive('df-488a8da9-0bfb-4285-8bda-5af2083312d4')\"\n",
              "              title=\"Convert this dataframe to an interactive table.\"\n",
              "              style=\"display:none;\">\n",
              "        \n",
              "  <svg xmlns=\"http://www.w3.org/2000/svg\" height=\"24px\"viewBox=\"0 0 24 24\"\n",
              "       width=\"24px\">\n",
              "    <path d=\"M0 0h24v24H0V0z\" fill=\"none\"/>\n",
              "    <path d=\"M18.56 5.44l.94 2.06.94-2.06 2.06-.94-2.06-.94-.94-2.06-.94 2.06-2.06.94zm-11 1L8.5 8.5l.94-2.06 2.06-.94-2.06-.94L8.5 2.5l-.94 2.06-2.06.94zm10 10l.94 2.06.94-2.06 2.06-.94-2.06-.94-.94-2.06-.94 2.06-2.06.94z\"/><path d=\"M17.41 7.96l-1.37-1.37c-.4-.4-.92-.59-1.43-.59-.52 0-1.04.2-1.43.59L10.3 9.45l-7.72 7.72c-.78.78-.78 2.05 0 2.83L4 21.41c.39.39.9.59 1.41.59.51 0 1.02-.2 1.41-.59l7.78-7.78 2.81-2.81c.8-.78.8-2.07 0-2.86zM5.41 20L4 18.59l7.72-7.72 1.47 1.35L5.41 20z\"/>\n",
              "  </svg>\n",
              "      </button>\n",
              "      \n",
              "  <style>\n",
              "    .colab-df-container {\n",
              "      display:flex;\n",
              "      flex-wrap:wrap;\n",
              "      gap: 12px;\n",
              "    }\n",
              "\n",
              "    .colab-df-convert {\n",
              "      background-color: #E8F0FE;\n",
              "      border: none;\n",
              "      border-radius: 50%;\n",
              "      cursor: pointer;\n",
              "      display: none;\n",
              "      fill: #1967D2;\n",
              "      height: 32px;\n",
              "      padding: 0 0 0 0;\n",
              "      width: 32px;\n",
              "    }\n",
              "\n",
              "    .colab-df-convert:hover {\n",
              "      background-color: #E2EBFA;\n",
              "      box-shadow: 0px 1px 2px rgba(60, 64, 67, 0.3), 0px 1px 3px 1px rgba(60, 64, 67, 0.15);\n",
              "      fill: #174EA6;\n",
              "    }\n",
              "\n",
              "    [theme=dark] .colab-df-convert {\n",
              "      background-color: #3B4455;\n",
              "      fill: #D2E3FC;\n",
              "    }\n",
              "\n",
              "    [theme=dark] .colab-df-convert:hover {\n",
              "      background-color: #434B5C;\n",
              "      box-shadow: 0px 1px 3px 1px rgba(0, 0, 0, 0.15);\n",
              "      filter: drop-shadow(0px 1px 2px rgba(0, 0, 0, 0.3));\n",
              "      fill: #FFFFFF;\n",
              "    }\n",
              "  </style>\n",
              "\n",
              "      <script>\n",
              "        const buttonEl =\n",
              "          document.querySelector('#df-488a8da9-0bfb-4285-8bda-5af2083312d4 button.colab-df-convert');\n",
              "        buttonEl.style.display =\n",
              "          google.colab.kernel.accessAllowed ? 'block' : 'none';\n",
              "\n",
              "        async function convertToInteractive(key) {\n",
              "          const element = document.querySelector('#df-488a8da9-0bfb-4285-8bda-5af2083312d4');\n",
              "          const dataTable =\n",
              "            await google.colab.kernel.invokeFunction('convertToInteractive',\n",
              "                                                     [key], {});\n",
              "          if (!dataTable) return;\n",
              "\n",
              "          const docLinkHtml = 'Like what you see? Visit the ' +\n",
              "            '<a target=\"_blank\" href=https://colab.research.google.com/notebooks/data_table.ipynb>data table notebook</a>'\n",
              "            + ' to learn more about interactive tables.';\n",
              "          element.innerHTML = '';\n",
              "          dataTable['output_type'] = 'display_data';\n",
              "          await google.colab.output.renderOutput(dataTable, element);\n",
              "          const docLink = document.createElement('div');\n",
              "          docLink.innerHTML = docLinkHtml;\n",
              "          element.appendChild(docLink);\n",
              "        }\n",
              "      </script>\n",
              "    </div>\n",
              "  </div>\n",
              "  "
            ]
          },
          "metadata": {},
          "execution_count": 4
        }
      ]
    },
    {
      "cell_type": "code",
      "source": [
        "data.describe()"
      ],
      "metadata": {
        "colab": {
          "base_uri": "https://localhost:8080/",
          "height": 300
        },
        "id": "WpYh_ZMDXWQs",
        "outputId": "d111d4c7-e384-4465-fbeb-128b54f9417b"
      },
      "execution_count": null,
      "outputs": [
        {
          "output_type": "execute_result",
          "data": {
            "text/plain": [
              "             최종가중치     학년도         학교급별           학년            반  \\\n",
              "count  9686.000000  9686.0  9686.000000  9686.000000  9686.000000   \n",
              "mean    104.894487  2015.0     1.995767     2.567933     2.659096   \n",
              "std      39.376988     0.0     0.856499     1.414243     2.601067   \n",
              "min      23.325794  2015.0     1.000000     1.000000     1.000000   \n",
              "25%      76.966829  2015.0     1.000000     1.000000     1.000000   \n",
              "50%      99.963287  2015.0     2.000000     2.000000     1.000000   \n",
              "75%     133.231158  2015.0     3.000000     3.000000     3.000000   \n",
              "max     248.300844  2015.0     3.000000     6.000000    15.000000   \n",
              "\n",
              "                성별            키          몸무게  혈당식전(mgdl)  총콜레스테롤(mgdl)  \\\n",
              "count  9686.000000  9686.000000  9682.000000   338.00000    339.000000   \n",
              "mean      0.487095   154.564444    50.207591    92.14497    173.516519   \n",
              "std       0.499859    16.968590    17.075953    10.49571     32.567571   \n",
              "min       0.000000   107.700000    15.900000    65.00000    102.000000   \n",
              "25%       0.000000   142.000000    37.200000    85.00000    148.500000   \n",
              "50%       0.000000   158.700000    50.700000    91.00000    170.000000   \n",
              "75%       1.000000   167.200000    60.600000    99.00000    191.000000   \n",
              "max       1.000000   194.200000   130.700000   132.00000    300.000000   \n",
              "\n",
              "       간기능(AST)단위(UL)  간기능(ALT)단위(UL)    혈색소(gdl)          수축기          이완기  \n",
              "count      336.000000      337.000000  578.000000  3025.000000  3025.000000  \n",
              "mean        27.824405       30.311573   12.976990   104.830083    62.987438  \n",
              "std         19.327395       32.191960    1.092454    12.661348     7.948402  \n",
              "min         11.000000        8.000000    9.000000    65.000000    23.000000  \n",
              "25%         19.000000       14.000000   12.400000    98.000000    60.000000  \n",
              "50%         24.000000       20.000000   13.200000   105.000000    62.000000  \n",
              "75%         30.000000       32.000000   13.675000   112.000000    69.000000  \n",
              "max        186.000000      272.000000   15.700000   180.000000    98.000000  "
            ],
            "text/html": [
              "\n",
              "  <div id=\"df-75ac0965-c1ce-4836-8d1c-db3817c60529\">\n",
              "    <div class=\"colab-df-container\">\n",
              "      <div>\n",
              "<style scoped>\n",
              "    .dataframe tbody tr th:only-of-type {\n",
              "        vertical-align: middle;\n",
              "    }\n",
              "\n",
              "    .dataframe tbody tr th {\n",
              "        vertical-align: top;\n",
              "    }\n",
              "\n",
              "    .dataframe thead th {\n",
              "        text-align: right;\n",
              "    }\n",
              "</style>\n",
              "<table border=\"1\" class=\"dataframe\">\n",
              "  <thead>\n",
              "    <tr style=\"text-align: right;\">\n",
              "      <th></th>\n",
              "      <th>최종가중치</th>\n",
              "      <th>학년도</th>\n",
              "      <th>학교급별</th>\n",
              "      <th>학년</th>\n",
              "      <th>반</th>\n",
              "      <th>성별</th>\n",
              "      <th>키</th>\n",
              "      <th>몸무게</th>\n",
              "      <th>혈당식전(mgdl)</th>\n",
              "      <th>총콜레스테롤(mgdl)</th>\n",
              "      <th>간기능(AST)단위(UL)</th>\n",
              "      <th>간기능(ALT)단위(UL)</th>\n",
              "      <th>혈색소(gdl)</th>\n",
              "      <th>수축기</th>\n",
              "      <th>이완기</th>\n",
              "    </tr>\n",
              "  </thead>\n",
              "  <tbody>\n",
              "    <tr>\n",
              "      <th>count</th>\n",
              "      <td>9686.000000</td>\n",
              "      <td>9686.0</td>\n",
              "      <td>9686.000000</td>\n",
              "      <td>9686.000000</td>\n",
              "      <td>9686.000000</td>\n",
              "      <td>9686.000000</td>\n",
              "      <td>9686.000000</td>\n",
              "      <td>9682.000000</td>\n",
              "      <td>338.00000</td>\n",
              "      <td>339.000000</td>\n",
              "      <td>336.000000</td>\n",
              "      <td>337.000000</td>\n",
              "      <td>578.000000</td>\n",
              "      <td>3025.000000</td>\n",
              "      <td>3025.000000</td>\n",
              "    </tr>\n",
              "    <tr>\n",
              "      <th>mean</th>\n",
              "      <td>104.894487</td>\n",
              "      <td>2015.0</td>\n",
              "      <td>1.995767</td>\n",
              "      <td>2.567933</td>\n",
              "      <td>2.659096</td>\n",
              "      <td>0.487095</td>\n",
              "      <td>154.564444</td>\n",
              "      <td>50.207591</td>\n",
              "      <td>92.14497</td>\n",
              "      <td>173.516519</td>\n",
              "      <td>27.824405</td>\n",
              "      <td>30.311573</td>\n",
              "      <td>12.976990</td>\n",
              "      <td>104.830083</td>\n",
              "      <td>62.987438</td>\n",
              "    </tr>\n",
              "    <tr>\n",
              "      <th>std</th>\n",
              "      <td>39.376988</td>\n",
              "      <td>0.0</td>\n",
              "      <td>0.856499</td>\n",
              "      <td>1.414243</td>\n",
              "      <td>2.601067</td>\n",
              "      <td>0.499859</td>\n",
              "      <td>16.968590</td>\n",
              "      <td>17.075953</td>\n",
              "      <td>10.49571</td>\n",
              "      <td>32.567571</td>\n",
              "      <td>19.327395</td>\n",
              "      <td>32.191960</td>\n",
              "      <td>1.092454</td>\n",
              "      <td>12.661348</td>\n",
              "      <td>7.948402</td>\n",
              "    </tr>\n",
              "    <tr>\n",
              "      <th>min</th>\n",
              "      <td>23.325794</td>\n",
              "      <td>2015.0</td>\n",
              "      <td>1.000000</td>\n",
              "      <td>1.000000</td>\n",
              "      <td>1.000000</td>\n",
              "      <td>0.000000</td>\n",
              "      <td>107.700000</td>\n",
              "      <td>15.900000</td>\n",
              "      <td>65.00000</td>\n",
              "      <td>102.000000</td>\n",
              "      <td>11.000000</td>\n",
              "      <td>8.000000</td>\n",
              "      <td>9.000000</td>\n",
              "      <td>65.000000</td>\n",
              "      <td>23.000000</td>\n",
              "    </tr>\n",
              "    <tr>\n",
              "      <th>25%</th>\n",
              "      <td>76.966829</td>\n",
              "      <td>2015.0</td>\n",
              "      <td>1.000000</td>\n",
              "      <td>1.000000</td>\n",
              "      <td>1.000000</td>\n",
              "      <td>0.000000</td>\n",
              "      <td>142.000000</td>\n",
              "      <td>37.200000</td>\n",
              "      <td>85.00000</td>\n",
              "      <td>148.500000</td>\n",
              "      <td>19.000000</td>\n",
              "      <td>14.000000</td>\n",
              "      <td>12.400000</td>\n",
              "      <td>98.000000</td>\n",
              "      <td>60.000000</td>\n",
              "    </tr>\n",
              "    <tr>\n",
              "      <th>50%</th>\n",
              "      <td>99.963287</td>\n",
              "      <td>2015.0</td>\n",
              "      <td>2.000000</td>\n",
              "      <td>2.000000</td>\n",
              "      <td>1.000000</td>\n",
              "      <td>0.000000</td>\n",
              "      <td>158.700000</td>\n",
              "      <td>50.700000</td>\n",
              "      <td>91.00000</td>\n",
              "      <td>170.000000</td>\n",
              "      <td>24.000000</td>\n",
              "      <td>20.000000</td>\n",
              "      <td>13.200000</td>\n",
              "      <td>105.000000</td>\n",
              "      <td>62.000000</td>\n",
              "    </tr>\n",
              "    <tr>\n",
              "      <th>75%</th>\n",
              "      <td>133.231158</td>\n",
              "      <td>2015.0</td>\n",
              "      <td>3.000000</td>\n",
              "      <td>3.000000</td>\n",
              "      <td>3.000000</td>\n",
              "      <td>1.000000</td>\n",
              "      <td>167.200000</td>\n",
              "      <td>60.600000</td>\n",
              "      <td>99.00000</td>\n",
              "      <td>191.000000</td>\n",
              "      <td>30.000000</td>\n",
              "      <td>32.000000</td>\n",
              "      <td>13.675000</td>\n",
              "      <td>112.000000</td>\n",
              "      <td>69.000000</td>\n",
              "    </tr>\n",
              "    <tr>\n",
              "      <th>max</th>\n",
              "      <td>248.300844</td>\n",
              "      <td>2015.0</td>\n",
              "      <td>3.000000</td>\n",
              "      <td>6.000000</td>\n",
              "      <td>15.000000</td>\n",
              "      <td>1.000000</td>\n",
              "      <td>194.200000</td>\n",
              "      <td>130.700000</td>\n",
              "      <td>132.00000</td>\n",
              "      <td>300.000000</td>\n",
              "      <td>186.000000</td>\n",
              "      <td>272.000000</td>\n",
              "      <td>15.700000</td>\n",
              "      <td>180.000000</td>\n",
              "      <td>98.000000</td>\n",
              "    </tr>\n",
              "  </tbody>\n",
              "</table>\n",
              "</div>\n",
              "      <button class=\"colab-df-convert\" onclick=\"convertToInteractive('df-75ac0965-c1ce-4836-8d1c-db3817c60529')\"\n",
              "              title=\"Convert this dataframe to an interactive table.\"\n",
              "              style=\"display:none;\">\n",
              "        \n",
              "  <svg xmlns=\"http://www.w3.org/2000/svg\" height=\"24px\"viewBox=\"0 0 24 24\"\n",
              "       width=\"24px\">\n",
              "    <path d=\"M0 0h24v24H0V0z\" fill=\"none\"/>\n",
              "    <path d=\"M18.56 5.44l.94 2.06.94-2.06 2.06-.94-2.06-.94-.94-2.06-.94 2.06-2.06.94zm-11 1L8.5 8.5l.94-2.06 2.06-.94-2.06-.94L8.5 2.5l-.94 2.06-2.06.94zm10 10l.94 2.06.94-2.06 2.06-.94-2.06-.94-.94-2.06-.94 2.06-2.06.94z\"/><path d=\"M17.41 7.96l-1.37-1.37c-.4-.4-.92-.59-1.43-.59-.52 0-1.04.2-1.43.59L10.3 9.45l-7.72 7.72c-.78.78-.78 2.05 0 2.83L4 21.41c.39.39.9.59 1.41.59.51 0 1.02-.2 1.41-.59l7.78-7.78 2.81-2.81c.8-.78.8-2.07 0-2.86zM5.41 20L4 18.59l7.72-7.72 1.47 1.35L5.41 20z\"/>\n",
              "  </svg>\n",
              "      </button>\n",
              "      \n",
              "  <style>\n",
              "    .colab-df-container {\n",
              "      display:flex;\n",
              "      flex-wrap:wrap;\n",
              "      gap: 12px;\n",
              "    }\n",
              "\n",
              "    .colab-df-convert {\n",
              "      background-color: #E8F0FE;\n",
              "      border: none;\n",
              "      border-radius: 50%;\n",
              "      cursor: pointer;\n",
              "      display: none;\n",
              "      fill: #1967D2;\n",
              "      height: 32px;\n",
              "      padding: 0 0 0 0;\n",
              "      width: 32px;\n",
              "    }\n",
              "\n",
              "    .colab-df-convert:hover {\n",
              "      background-color: #E2EBFA;\n",
              "      box-shadow: 0px 1px 2px rgba(60, 64, 67, 0.3), 0px 1px 3px 1px rgba(60, 64, 67, 0.15);\n",
              "      fill: #174EA6;\n",
              "    }\n",
              "\n",
              "    [theme=dark] .colab-df-convert {\n",
              "      background-color: #3B4455;\n",
              "      fill: #D2E3FC;\n",
              "    }\n",
              "\n",
              "    [theme=dark] .colab-df-convert:hover {\n",
              "      background-color: #434B5C;\n",
              "      box-shadow: 0px 1px 3px 1px rgba(0, 0, 0, 0.15);\n",
              "      filter: drop-shadow(0px 1px 2px rgba(0, 0, 0, 0.3));\n",
              "      fill: #FFFFFF;\n",
              "    }\n",
              "  </style>\n",
              "\n",
              "      <script>\n",
              "        const buttonEl =\n",
              "          document.querySelector('#df-75ac0965-c1ce-4836-8d1c-db3817c60529 button.colab-df-convert');\n",
              "        buttonEl.style.display =\n",
              "          google.colab.kernel.accessAllowed ? 'block' : 'none';\n",
              "\n",
              "        async function convertToInteractive(key) {\n",
              "          const element = document.querySelector('#df-75ac0965-c1ce-4836-8d1c-db3817c60529');\n",
              "          const dataTable =\n",
              "            await google.colab.kernel.invokeFunction('convertToInteractive',\n",
              "                                                     [key], {});\n",
              "          if (!dataTable) return;\n",
              "\n",
              "          const docLinkHtml = 'Like what you see? Visit the ' +\n",
              "            '<a target=\"_blank\" href=https://colab.research.google.com/notebooks/data_table.ipynb>data table notebook</a>'\n",
              "            + ' to learn more about interactive tables.';\n",
              "          element.innerHTML = '';\n",
              "          dataTable['output_type'] = 'display_data';\n",
              "          await google.colab.output.renderOutput(dataTable, element);\n",
              "          const docLink = document.createElement('div');\n",
              "          docLink.innerHTML = docLinkHtml;\n",
              "          element.appendChild(docLink);\n",
              "        }\n",
              "      </script>\n",
              "    </div>\n",
              "  </div>\n",
              "  "
            ]
          },
          "metadata": {},
          "execution_count": 5
        }
      ]
    },
    {
      "cell_type": "code",
      "source": [
        "data.info()"
      ],
      "metadata": {
        "colab": {
          "base_uri": "https://localhost:8080/"
        },
        "id": "grS9T_pfaqkg",
        "outputId": "fde87d18-0d4a-435f-8bba-e63c7fc13399"
      },
      "execution_count": null,
      "outputs": [
        {
          "output_type": "stream",
          "name": "stdout",
          "text": [
            "<class 'pandas.core.frame.DataFrame'>\n",
            "RangeIndex: 9686 entries, 0 to 9685\n",
            "Data columns (total 25 columns):\n",
            " #   Column          Non-Null Count  Dtype  \n",
            "---  ------          --------------  -----  \n",
            " 0   고유식별번호(ID)      9686 non-null   object \n",
            " 1   최종가중치           9686 non-null   float64\n",
            " 2   학교고유번호(ID)      9686 non-null   object \n",
            " 3   도시규모            9686 non-null   object \n",
            " 4   도시규모별분석용        9686 non-null   object \n",
            " 5   학년도             9686 non-null   int64  \n",
            " 6   광역시도            9686 non-null   object \n",
            " 7   시도별             9686 non-null   object \n",
            " 8   학교급별            9686 non-null   int64  \n",
            " 9   학교명             9686 non-null   object \n",
            " 10  공학여부            9686 non-null   object \n",
            " 11  학년              9686 non-null   int64  \n",
            " 12  반               9686 non-null   int64  \n",
            " 13  성별              9686 non-null   int64  \n",
            " 14  건강검진일           9686 non-null   object \n",
            " 15  키               9686 non-null   float64\n",
            " 16  몸무게             9682 non-null   float64\n",
            " 17  혈당식전(mgdl)      338 non-null    float64\n",
            " 18  총콜레스테롤(mgdl)    339 non-null    float64\n",
            " 19  간기능(AST)단위(UL)  336 non-null    float64\n",
            " 20  간기능(ALT)단위(UL)  337 non-null    float64\n",
            " 21  혈색소(gdl)        578 non-null    float64\n",
            " 22  간염검사            831 non-null    object \n",
            " 23  수축기             3025 non-null   float64\n",
            " 24  이완기             3025 non-null   float64\n",
            "dtypes: float64(10), int64(5), object(10)\n",
            "memory usage: 1.8+ MB\n"
          ]
        }
      ]
    },
    {
      "cell_type": "code",
      "source": [
        "import matplotlib.pyplot as plt\n",
        "data.hist(bins=20, figsize=(20,10))\n",
        "plt.show()"
      ],
      "metadata": {
        "colab": {
          "base_uri": "https://localhost:8080/",
          "height": 606
        },
        "id": "Iw2YE6W8XY18",
        "outputId": "77aa7b4d-6c62-489a-c096-3fc46e844409"
      },
      "execution_count": null,
      "outputs": [
        {
          "output_type": "display_data",
          "data": {
            "text/plain": [
              "<Figure size 1440x720 with 16 Axes>"
            ],
            "image/png": "[encoded data removed]"
          },
          "metadata": {
            "needs_background": "light"
          }
        }
      ]
    },
    {
      "cell_type": "code",
      "source": [
        "corr_matrix=data.corr()\n",
        "corr_matrix['몸무게']"
      ],
      "metadata": {
        "colab": {
          "base_uri": "https://localhost:8080/"
        },
        "id": "UrzVavt4aISK",
        "outputId": "af34b9f6-5ad4-4fd3-b092-beae0e45506e"
      },
      "execution_count": null,
      "outputs": [
        {
          "output_type": "execute_result",
          "data": {
            "text/plain": [
              "최종가중치            -0.285065\n",
              "학년도                    NaN\n",
              "학교급별              0.698321\n",
              "학년               -0.128170\n",
              "반                 0.119641\n",
              "성별               -0.183193\n",
              "키                 0.849006\n",
              "몸무게               1.000000\n",
              "혈당식전(mgdl)        0.015732\n",
              "총콜레스테롤(mgdl)     -0.031915\n",
              "간기능(AST)단위(UL)    0.013259\n",
              "간기능(ALT)단위(UL)    0.148344\n",
              "혈색소(gdl)          0.079561\n",
              "수축기               0.580794\n",
              "이완기               0.373757\n",
              "Name: 몸무게, dtype: float64"
            ]
          },
          "metadata": {},
          "execution_count": 12
        }
      ]
    },
    {
      "cell_type": "code",
      "source": [
        "data1=data[['키','수축기','이완기', '성별','몸무게','학교급별']].dropna(axis=0)"
      ],
      "metadata": {
        "id": "M4DRzy6gaw_S"
      },
      "execution_count": null,
      "outputs": []
    },
    {
      "cell_type": "code",
      "source": [
        "data1.plot(kind='scatter', x='키',y='몸무게',c='성별' ,cmap='rainbow', alpha=0.6, sharex=False)"
      ],
      "metadata": {
        "colab": {
          "base_uri": "https://localhost:8080/",
          "height": 301
        },
        "id": "L7G1R4goaIoj",
        "outputId": "b8189e97-802d-4747-e20d-ade656f718e1"
      },
      "execution_count": null,
      "outputs": [
        {
          "output_type": "execute_result",
          "data": {
            "text/plain": [
              "<matplotlib.axes._subplots.AxesSubplot at 0x7fd5ce036090>"
            ]
          },
          "metadata": {},
          "execution_count": 17
        },
        {
          "output_type": "display_data",
          "data": {
            "text/plain": [
              "<Figure size 432x288 with 2 Axes>"
            ],
            "image/png": "[encoded data removed]"
          },
          "metadata": {
            "needs_background": "light"
          }
        }
      ]
    },
    {
      "cell_type": "code",
      "source": [
        "print(data1.info())"
      ],
      "metadata": {
        "colab": {
          "base_uri": "https://localhost:8080/"
        },
        "id": "tZwCjgvubdXP",
        "outputId": "f0b57d6e-6e99-4524-8fa7-4f6fa6ef8fe2"
      },
      "execution_count": null,
      "outputs": [
        {
          "output_type": "stream",
          "name": "stdout",
          "text": [
            "<class 'pandas.core.frame.DataFrame'>\n",
            "Int64Index: 3025 entries, 0 to 9658\n",
            "Data columns (total 6 columns):\n",
            " #   Column  Non-Null Count  Dtype  \n",
            "---  ------  --------------  -----  \n",
            " 0   키       3025 non-null   float64\n",
            " 1   수축기     3025 non-null   float64\n",
            " 2   이완기     3025 non-null   float64\n",
            " 3   성별      3025 non-null   int64  \n",
            " 4   몸무게     3025 non-null   float64\n",
            " 5   학교급별    3025 non-null   int64  \n",
            "dtypes: float64(4), int64(2)\n",
            "memory usage: 165.4 KB\n",
            "None\n"
          ]
        }
      ]
    },
    {
      "cell_type": "markdown",
      "source": [
        "# 3. 학습데이터 준비"
      ],
      "metadata": {
        "id": "yJ_To27O6Lm7"
      }
    },
    {
      "cell_type": "code",
      "source": [
        "data2=data1[data1['성별']==1]"
      ],
      "metadata": {
        "id": "2AUjz-427hyE"
      },
      "execution_count": null,
      "outputs": []
    },
    {
      "cell_type": "code",
      "source": [
        "x=data2[['키','수축기','이완기','학교급별']]\n",
        "y=data2['몸무게']\n",
        "\n",
        "from sklearn.model_selection import train_test_split\n",
        "x_train,x_test, y_train, y_test=train_test_split(x,y, test_size=0.3, random_state=42)"
      ],
      "metadata": {
        "id": "W80hI_PPaIxz"
      },
      "execution_count": null,
      "outputs": []
    },
    {
      "cell_type": "code",
      "source": [
        "print(x_train.shape)\n",
        "print(y_train.shape)\n",
        "print(x_test.shape)\n",
        "print(y_test.shape)"
      ],
      "metadata": {
        "colab": {
          "base_uri": "https://localhost:8080/"
        },
        "id": "060GlHyWzc-G",
        "outputId": "b707ed21-470f-403e-e9eb-bbb17ba00f82"
      },
      "execution_count": null,
      "outputs": [
        {
          "output_type": "stream",
          "name": "stdout",
          "text": [
            "(1036, 4)\n",
            "(1036,)\n",
            "(445, 4)\n",
            "(445,)\n"
          ]
        }
      ]
    },
    {
      "cell_type": "code",
      "source": [
        "x_train[:10]"
      ],
      "metadata": {
        "colab": {
          "base_uri": "https://localhost:8080/",
          "height": 363
        },
        "id": "w-p0swfn3MM7",
        "outputId": "45350296-5822-49c7-978f-57f6412079d2"
      },
      "execution_count": null,
      "outputs": [
        {
          "output_type": "execute_result",
          "data": {
            "text/plain": [
              "          키    수축기   이완기  학교급별\n",
              "2967  117.7   90.0  46.0     1\n",
              "3672  158.6  100.0  60.0     2\n",
              "6509  155.8   90.0  62.0     3\n",
              "5051  154.0   99.0  67.0     2\n",
              "2902  141.7  110.0  70.0     1\n",
              "753   119.6  100.0  60.0     1\n",
              "3595  166.7  100.0  60.0     2\n",
              "2027  143.0  100.0  60.0     1\n",
              "1965  126.7  100.0  60.0     1\n",
              "4395  156.6  103.0  65.0     2"
            ],
            "text/html": [
              "\n",
              "  <div id=\"df-feb0734c-b701-467d-989a-245e4ccc2397\">\n",
              "    <div class=\"colab-df-container\">\n",
              "      <div>\n",
              "<style scoped>\n",
              "    .dataframe tbody tr th:only-of-type {\n",
              "        vertical-align: middle;\n",
              "    }\n",
              "\n",
              "    .dataframe tbody tr th {\n",
              "        vertical-align: top;\n",
              "    }\n",
              "\n",
              "    .dataframe thead th {\n",
              "        text-align: right;\n",
              "    }\n",
              "</style>\n",
              "<table border=\"1\" class=\"dataframe\">\n",
              "  <thead>\n",
              "    <tr style=\"text-align: right;\">\n",
              "      <th></th>\n",
              "      <th>키</th>\n",
              "      <th>수축기</th>\n",
              "      <th>이완기</th>\n",
              "      <th>학교급별</th>\n",
              "    </tr>\n",
              "  </thead>\n",
              "  <tbody>\n",
              "    <tr>\n",
              "      <th>2967</th>\n",
              "      <td>117.7</td>\n",
              "      <td>90.0</td>\n",
              "      <td>46.0</td>\n",
              "      <td>1</td>\n",
              "    </tr>\n",
              "    <tr>\n",
              "      <th>3672</th>\n",
              "      <td>158.6</td>\n",
              "      <td>100.0</td>\n",
              "      <td>60.0</td>\n",
              "      <td>2</td>\n",
              "    </tr>\n",
              "    <tr>\n",
              "      <th>6509</th>\n",
              "      <td>155.8</td>\n",
              "      <td>90.0</td>\n",
              "      <td>62.0</td>\n",
              "      <td>3</td>\n",
              "    </tr>\n",
              "    <tr>\n",
              "      <th>5051</th>\n",
              "      <td>154.0</td>\n",
              "      <td>99.0</td>\n",
              "      <td>67.0</td>\n",
              "      <td>2</td>\n",
              "    </tr>\n",
              "    <tr>\n",
              "      <th>2902</th>\n",
              "      <td>141.7</td>\n",
              "      <td>110.0</td>\n",
              "      <td>70.0</td>\n",
              "      <td>1</td>\n",
              "    </tr>\n",
              "    <tr>\n",
              "      <th>753</th>\n",
              "      <td>119.6</td>\n",
              "      <td>100.0</td>\n",
              "      <td>60.0</td>\n",
              "      <td>1</td>\n",
              "    </tr>\n",
              "    <tr>\n",
              "      <th>3595</th>\n",
              "      <td>166.7</td>\n",
              "      <td>100.0</td>\n",
              "      <td>60.0</td>\n",
              "      <td>2</td>\n",
              "    </tr>\n",
              "    <tr>\n",
              "      <th>2027</th>\n",
              "      <td>143.0</td>\n",
              "      <td>100.0</td>\n",
              "      <td>60.0</td>\n",
              "      <td>1</td>\n",
              "    </tr>\n",
              "    <tr>\n",
              "      <th>1965</th>\n",
              "      <td>126.7</td>\n",
              "      <td>100.0</td>\n",
              "      <td>60.0</td>\n",
              "      <td>1</td>\n",
              "    </tr>\n",
              "    <tr>\n",
              "      <th>4395</th>\n",
              "      <td>156.6</td>\n",
              "      <td>103.0</td>\n",
              "      <td>65.0</td>\n",
              "      <td>2</td>\n",
              "    </tr>\n",
              "  </tbody>\n",
              "</table>\n",
              "</div>\n",
              "      <button class=\"colab-df-convert\" onclick=\"convertToInteractive('df-feb0734c-b701-467d-989a-245e4ccc2397')\"\n",
              "              title=\"Convert this dataframe to an interactive table.\"\n",
              "              style=\"display:none;\">\n",
              "        \n",
              "  <svg xmlns=\"http://www.w3.org/2000/svg\" height=\"24px\"viewBox=\"0 0 24 24\"\n",
              "       width=\"24px\">\n",
              "    <path d=\"M0 0h24v24H0V0z\" fill=\"none\"/>\n",
              "    <path d=\"M18.56 5.44l.94 2.06.94-2.06 2.06-.94-2.06-.94-.94-2.06-.94 2.06-2.06.94zm-11 1L8.5 8.5l.94-2.06 2.06-.94-2.06-.94L8.5 2.5l-.94 2.06-2.06.94zm10 10l.94 2.06.94-2.06 2.06-.94-2.06-.94-.94-2.06-.94 2.06-2.06.94z\"/><path d=\"M17.41 7.96l-1.37-1.37c-.4-.4-.92-.59-1.43-.59-.52 0-1.04.2-1.43.59L10.3 9.45l-7.72 7.72c-.78.78-.78 2.05 0 2.83L4 21.41c.39.39.9.59 1.41.59.51 0 1.02-.2 1.41-.59l7.78-7.78 2.81-2.81c.8-.78.8-2.07 0-2.86zM5.41 20L4 18.59l7.72-7.72 1.47 1.35L5.41 20z\"/>\n",
              "  </svg>\n",
              "      </button>\n",
              "      \n",
              "  <style>\n",
              "    .colab-df-container {\n",
              "      display:flex;\n",
              "      flex-wrap:wrap;\n",
              "      gap: 12px;\n",
              "    }\n",
              "\n",
              "    .colab-df-convert {\n",
              "      background-color: #E8F0FE;\n",
              "      border: none;\n",
              "      border-radius: 50%;\n",
              "      cursor: pointer;\n",
              "      display: none;\n",
              "      fill: #1967D2;\n",
              "      height: 32px;\n",
              "      padding: 0 0 0 0;\n",
              "      width: 32px;\n",
              "    }\n",
              "\n",
              "    .colab-df-convert:hover {\n",
              "      background-color: #E2EBFA;\n",
              "      box-shadow: 0px 1px 2px rgba(60, 64, 67, 0.3), 0px 1px 3px 1px rgba(60, 64, 67, 0.15);\n",
              "      fill: #174EA6;\n",
              "    }\n",
              "\n",
              "    [theme=dark] .colab-df-convert {\n",
              "      background-color: #3B4455;\n",
              "      fill: #D2E3FC;\n",
              "    }\n",
              "\n",
              "    [theme=dark] .colab-df-convert:hover {\n",
              "      background-color: #434B5C;\n",
              "      box-shadow: 0px 1px 3px 1px rgba(0, 0, 0, 0.15);\n",
              "      filter: drop-shadow(0px 1px 2px rgba(0, 0, 0, 0.3));\n",
              "      fill: #FFFFFF;\n",
              "    }\n",
              "  </style>\n",
              "\n",
              "      <script>\n",
              "        const buttonEl =\n",
              "          document.querySelector('#df-feb0734c-b701-467d-989a-245e4ccc2397 button.colab-df-convert');\n",
              "        buttonEl.style.display =\n",
              "          google.colab.kernel.accessAllowed ? 'block' : 'none';\n",
              "\n",
              "        async function convertToInteractive(key) {\n",
              "          const element = document.querySelector('#df-feb0734c-b701-467d-989a-245e4ccc2397');\n",
              "          const dataTable =\n",
              "            await google.colab.kernel.invokeFunction('convertToInteractive',\n",
              "                                                     [key], {});\n",
              "          if (!dataTable) return;\n",
              "\n",
              "          const docLinkHtml = 'Like what you see? Visit the ' +\n",
              "            '<a target=\"_blank\" href=https://colab.research.google.com/notebooks/data_table.ipynb>data table notebook</a>'\n",
              "            + ' to learn more about interactive tables.';\n",
              "          element.innerHTML = '';\n",
              "          dataTable['output_type'] = 'display_data';\n",
              "          await google.colab.output.renderOutput(dataTable, element);\n",
              "          const docLink = document.createElement('div');\n",
              "          docLink.innerHTML = docLinkHtml;\n",
              "          element.appendChild(docLink);\n",
              "        }\n",
              "      </script>\n",
              "    </div>\n",
              "  </div>\n",
              "  "
            ]
          },
          "metadata": {},
          "execution_count": 24
        }
      ]
    },
    {
      "cell_type": "code",
      "source": [
        "y_train[:10]"
      ],
      "metadata": {
        "colab": {
          "base_uri": "https://localhost:8080/"
        },
        "id": "OSfZBn7MBgTD",
        "outputId": "a26e77b5-77a0-4170-9788-8eabe9b07446"
      },
      "execution_count": null,
      "outputs": [
        {
          "output_type": "execute_result",
          "data": {
            "text/plain": [
              "2967    20.3\n",
              "3672    44.6\n",
              "6509    49.0\n",
              "5051    48.0\n",
              "2902    43.9\n",
              "753     20.6\n",
              "3595    50.2\n",
              "2027    36.0\n",
              "1965    28.0\n",
              "4395    49.6\n",
              "Name: 몸무게, dtype: float64"
            ]
          },
          "metadata": {},
          "execution_count": 25
        }
      ]
    },
    {
      "cell_type": "markdown",
      "source": [
        "확률과통계에서 배운 표준화를 학습한다. "
      ],
      "metadata": {
        "id": "EQKml_OE6Tbg"
      }
    },
    {
      "cell_type": "code",
      "source": [
        "mean=x_train.mean(axis=0)\n",
        "x_train-=mean\n",
        "std=x_train.std(axis=0)\n",
        "x_train/=std\n",
        "\n",
        "x_test-=mean\n",
        "x_test/=std"
      ],
      "metadata": {
        "id": "W2RoZu7g4ii3"
      },
      "execution_count": null,
      "outputs": []
    },
    {
      "cell_type": "code",
      "source": [
        "mean"
      ],
      "metadata": {
        "colab": {
          "base_uri": "https://localhost:8080/"
        },
        "id": "a8YJt-ttBoLA",
        "outputId": "b11a0236-f716-49a2-81c2-c6fc4fd9edfb"
      },
      "execution_count": null,
      "outputs": [
        {
          "output_type": "execute_result",
          "data": {
            "text/plain": [
              "키       148.441120\n",
              "수축기     103.703668\n",
              "이완기      62.642857\n",
              "학교급별      2.003861\n",
              "dtype: float64"
            ]
          },
          "metadata": {},
          "execution_count": 27
        }
      ]
    },
    {
      "cell_type": "code",
      "source": [
        "std"
      ],
      "metadata": {
        "colab": {
          "base_uri": "https://localhost:8080/"
        },
        "id": "qpaAnmpPBqva",
        "outputId": "39157ab8-a127-4801-eec4-f17afa5d993e"
      },
      "execution_count": null,
      "outputs": [
        {
          "output_type": "execute_result",
          "data": {
            "text/plain": [
              "키       16.587972\n",
              "수축기     11.944802\n",
              "이완기      7.859138\n",
              "학교급별     0.863643\n",
              "dtype: float64"
            ]
          },
          "metadata": {},
          "execution_count": 28
        }
      ]
    },
    {
      "cell_type": "markdown",
      "source": [
        "# 4. 인공신경망을 실행한다. "
      ],
      "metadata": {
        "id": "GomAn_nw6eJM"
      }
    },
    {
      "cell_type": "code",
      "source": [
        "from tensorflow import keras\n",
        "from tensorflow.keras.models import Sequential\n",
        "from tensorflow.keras.layers import Dense\n",
        "\n",
        "model = Sequential()\n",
        "model.add(Dense(10, input_dim=4,activation='relu')) # 노드 10개짜리 덴스 추가\n",
        "model.add(Dense(1 )) #출력층\n",
        "\n",
        "optimizer=keras.optimizers.SGD(learning_rate=0.000001) #확률적 경사하강법, 학습률 확인\n",
        "model.compile(optimizer=optimizer, loss='mse', metrics=['mae']) # 손실함수 mse, 옵티마이져는 adam\n"
      ],
      "metadata": {
        "id": "eyZR2evcze3k"
      },
      "execution_count": null,
      "outputs": []
    },
    {
      "cell_type": "code",
      "source": [
        "hist = model.fit(x_train, y_train, validation_split=0.2, shuffle=True, epochs=100, batch_size=1)"
      ],
      "metadata": {
        "colab": {
          "base_uri": "https://localhost:8080/"
        },
        "id": "bxwHGfZl73ER",
        "outputId": "211bf5c5-12a8-4b66-aa2f-a969d44ea727"
      },
      "execution_count": null,
      "outputs": [
        {
          "output_type": "stream",
          "name": "stdout",
          "text": [
            "Epoch 1/100\n",
            "828/828 [==============================] - 3s 3ms/step - loss: 154.0301 - mae: 10.0188 - val_loss: 149.3251 - val_mae: 9.6064\n",
            "Epoch 2/100\n",
            "828/828 [==============================] - 2s 3ms/step - loss: 148.1587 - mae: 9.7873 - val_loss: 143.5213 - val_mae: 9.4157\n",
            "Epoch 3/100\n",
            "828/828 [==============================] - 1s 2ms/step - loss: 142.7949 - mae: 9.5749 - val_loss: 138.2812 - val_mae: 9.2407\n",
            "Epoch 4/100\n",
            "828/828 [==============================] - 1s 2ms/step - loss: 137.8854 - mae: 9.3765 - val_loss: 133.5488 - val_mae: 9.0874\n",
            "Epoch 5/100\n",
            "828/828 [==============================] - 1s 2ms/step - loss: 133.3792 - mae: 9.1894 - val_loss: 129.2473 - val_mae: 8.9497\n",
            "Epoch 6/100\n",
            "828/828 [==============================] - 1s 2ms/step - loss: 129.2324 - mae: 9.0235 - val_loss: 125.3192 - val_mae: 8.8253\n",
            "Epoch 7/100\n",
            "828/828 [==============================] - 1s 2ms/step - loss: 125.4034 - mae: 8.8610 - val_loss: 121.7389 - val_mae: 8.7130\n",
            "Epoch 8/100\n",
            "828/828 [==============================] - 1s 2ms/step - loss: 121.8670 - mae: 8.7157 - val_loss: 118.4207 - val_mae: 8.6072\n",
            "Epoch 9/100\n",
            "828/828 [==============================] - 1s 2ms/step - loss: 118.5853 - mae: 8.5806 - val_loss: 115.3458 - val_mae: 8.5075\n",
            "Epoch 10/100\n",
            "828/828 [==============================] - 1s 2ms/step - loss: 115.5326 - mae: 8.4486 - val_loss: 112.5036 - val_mae: 8.4126\n",
            "Epoch 11/100\n",
            "828/828 [==============================] - 2s 2ms/step - loss: 112.6895 - mae: 8.3309 - val_loss: 109.8817 - val_mae: 8.3227\n",
            "Epoch 12/100\n",
            "828/828 [==============================] - 1s 2ms/step - loss: 110.0403 - mae: 8.2139 - val_loss: 107.4099 - val_mae: 8.2373\n",
            "Epoch 13/100\n",
            "828/828 [==============================] - 1s 2ms/step - loss: 107.5684 - mae: 8.1101 - val_loss: 105.1154 - val_mae: 8.1567\n",
            "Epoch 14/100\n",
            "828/828 [==============================] - 1s 2ms/step - loss: 105.2526 - mae: 8.0158 - val_loss: 102.9748 - val_mae: 8.0801\n",
            "Epoch 15/100\n",
            "828/828 [==============================] - 1s 2ms/step - loss: 103.0767 - mae: 7.9174 - val_loss: 100.9458 - val_mae: 8.0064\n",
            "Epoch 16/100\n",
            "828/828 [==============================] - 1s 2ms/step - loss: 101.0210 - mae: 7.8322 - val_loss: 99.0205 - val_mae: 7.9337\n",
            "Epoch 17/100\n",
            "828/828 [==============================] - 1s 2ms/step - loss: 99.0835 - mae: 7.7423 - val_loss: 97.1809 - val_mae: 7.8631\n",
            "Epoch 18/100\n",
            "828/828 [==============================] - 1s 2ms/step - loss: 97.2535 - mae: 7.6605 - val_loss: 95.4241 - val_mae: 7.7941\n",
            "Epoch 19/100\n",
            "828/828 [==============================] - 1s 2ms/step - loss: 95.5250 - mae: 7.5858 - val_loss: 93.7670 - val_mae: 7.7268\n",
            "Epoch 20/100\n",
            "828/828 [==============================] - 1s 2ms/step - loss: 93.8801 - mae: 7.5161 - val_loss: 92.2036 - val_mae: 7.6611\n",
            "Epoch 21/100\n",
            "828/828 [==============================] - 1s 2ms/step - loss: 92.3103 - mae: 7.4481 - val_loss: 90.6847 - val_mae: 7.5959\n",
            "Epoch 22/100\n",
            "828/828 [==============================] - 1s 2ms/step - loss: 90.8075 - mae: 7.3831 - val_loss: 89.2287 - val_mae: 7.5314\n",
            "Epoch 23/100\n",
            "828/828 [==============================] - 1s 2ms/step - loss: 89.3640 - mae: 7.3193 - val_loss: 87.8339 - val_mae: 7.4686\n",
            "Epoch 24/100\n",
            "828/828 [==============================] - 1s 2ms/step - loss: 87.9727 - mae: 7.2592 - val_loss: 86.4851 - val_mae: 7.4071\n",
            "Epoch 25/100\n",
            "828/828 [==============================] - 1s 2ms/step - loss: 86.6371 - mae: 7.1985 - val_loss: 85.1842 - val_mae: 7.3465\n",
            "Epoch 26/100\n",
            "828/828 [==============================] - 1s 2ms/step - loss: 85.3509 - mae: 7.1405 - val_loss: 83.9287 - val_mae: 7.2862\n",
            "Epoch 27/100\n",
            "828/828 [==============================] - 1s 2ms/step - loss: 84.1142 - mae: 7.0845 - val_loss: 82.7192 - val_mae: 7.2265\n",
            "Epoch 28/100\n",
            "828/828 [==============================] - 1s 2ms/step - loss: 82.9336 - mae: 7.0291 - val_loss: 81.5565 - val_mae: 7.1676\n",
            "Epoch 29/100\n",
            "828/828 [==============================] - 1s 2ms/step - loss: 81.7987 - mae: 6.9719 - val_loss: 80.4296 - val_mae: 7.1097\n",
            "Epoch 30/100\n",
            "828/828 [==============================] - 1s 2ms/step - loss: 80.7076 - mae: 6.9237 - val_loss: 79.3582 - val_mae: 7.0544\n",
            "Epoch 31/100\n",
            "828/828 [==============================] - 1s 2ms/step - loss: 79.6626 - mae: 6.8704 - val_loss: 78.3203 - val_mae: 7.0016\n",
            "Epoch 32/100\n",
            "828/828 [==============================] - 1s 2ms/step - loss: 78.6573 - mae: 6.8208 - val_loss: 77.3287 - val_mae: 6.9509\n",
            "Epoch 33/100\n",
            "828/828 [==============================] - 1s 2ms/step - loss: 77.6896 - mae: 6.7700 - val_loss: 76.3551 - val_mae: 6.9008\n",
            "Epoch 34/100\n",
            "828/828 [==============================] - 1s 2ms/step - loss: 76.7599 - mae: 6.7254 - val_loss: 75.4300 - val_mae: 6.8521\n",
            "Epoch 35/100\n",
            "828/828 [==============================] - 1s 2ms/step - loss: 75.8665 - mae: 6.6790 - val_loss: 74.5249 - val_mae: 6.8051\n",
            "Epoch 36/100\n",
            "828/828 [==============================] - 1s 2ms/step - loss: 75.0049 - mae: 6.6365 - val_loss: 73.6690 - val_mae: 6.7598\n",
            "Epoch 37/100\n",
            "828/828 [==============================] - 1s 2ms/step - loss: 74.1741 - mae: 6.5928 - val_loss: 72.8189 - val_mae: 6.7144\n",
            "Epoch 38/100\n",
            "828/828 [==============================] - 1s 2ms/step - loss: 73.3715 - mae: 6.5510 - val_loss: 71.9998 - val_mae: 6.6707\n",
            "Epoch 39/100\n",
            "828/828 [==============================] - 1s 2ms/step - loss: 72.5968 - mae: 6.5113 - val_loss: 71.2084 - val_mae: 6.6297\n",
            "Epoch 40/100\n",
            "828/828 [==============================] - 1s 2ms/step - loss: 71.8490 - mae: 6.4723 - val_loss: 70.4517 - val_mae: 6.5913\n",
            "Epoch 41/100\n",
            "828/828 [==============================] - 1s 2ms/step - loss: 71.1318 - mae: 6.4367 - val_loss: 69.7154 - val_mae: 6.5536\n",
            "Epoch 42/100\n",
            "828/828 [==============================] - 1s 2ms/step - loss: 70.4395 - mae: 6.3990 - val_loss: 68.9931 - val_mae: 6.5171\n",
            "Epoch 43/100\n",
            "828/828 [==============================] - 1s 2ms/step - loss: 69.7693 - mae: 6.3635 - val_loss: 68.2997 - val_mae: 6.4810\n",
            "Epoch 44/100\n",
            "828/828 [==============================] - 1s 2ms/step - loss: 69.1244 - mae: 6.3276 - val_loss: 67.6250 - val_mae: 6.4455\n",
            "Epoch 45/100\n",
            "828/828 [==============================] - 1s 2ms/step - loss: 68.5034 - mae: 6.2958 - val_loss: 66.9793 - val_mae: 6.4107\n",
            "Epoch 46/100\n",
            "828/828 [==============================] - 1s 2ms/step - loss: 67.9042 - mae: 6.2615 - val_loss: 66.3530 - val_mae: 6.3762\n",
            "Epoch 47/100\n",
            "828/828 [==============================] - 1s 2ms/step - loss: 67.3238 - mae: 6.2297 - val_loss: 65.7502 - val_mae: 6.3437\n",
            "Epoch 48/100\n",
            "828/828 [==============================] - 1s 2ms/step - loss: 66.7626 - mae: 6.2001 - val_loss: 65.1800 - val_mae: 6.3140\n",
            "Epoch 49/100\n",
            "828/828 [==============================] - 1s 2ms/step - loss: 66.2254 - mae: 6.1685 - val_loss: 64.6147 - val_mae: 6.2844\n",
            "Epoch 50/100\n",
            "828/828 [==============================] - 1s 2ms/step - loss: 65.7032 - mae: 6.1398 - val_loss: 64.0757 - val_mae: 6.2552\n",
            "Epoch 51/100\n",
            "828/828 [==============================] - 1s 2ms/step - loss: 65.1982 - mae: 6.1117 - val_loss: 63.5606 - val_mae: 6.2268\n",
            "Epoch 52/100\n",
            "828/828 [==============================] - 1s 2ms/step - loss: 64.7101 - mae: 6.0817 - val_loss: 63.0447 - val_mae: 6.1983\n",
            "Epoch 53/100\n",
            "828/828 [==============================] - 1s 2ms/step - loss: 64.2394 - mae: 6.0547 - val_loss: 62.5563 - val_mae: 6.1706\n",
            "Epoch 54/100\n",
            "828/828 [==============================] - 1s 2ms/step - loss: 63.7840 - mae: 6.0265 - val_loss: 62.0737 - val_mae: 6.1431\n",
            "Epoch 55/100\n",
            "828/828 [==============================] - 1s 2ms/step - loss: 63.3456 - mae: 6.0018 - val_loss: 61.6191 - val_mae: 6.1164\n",
            "Epoch 56/100\n",
            "828/828 [==============================] - 1s 2ms/step - loss: 62.9216 - mae: 5.9753 - val_loss: 61.1775 - val_mae: 6.0898\n",
            "Epoch 57/100\n",
            "828/828 [==============================] - 1s 2ms/step - loss: 62.5114 - mae: 5.9495 - val_loss: 60.7435 - val_mae: 6.0650\n",
            "Epoch 58/100\n",
            "828/828 [==============================] - 1s 2ms/step - loss: 62.1163 - mae: 5.9272 - val_loss: 60.3362 - val_mae: 6.0413\n",
            "Epoch 59/100\n",
            "828/828 [==============================] - 1s 2ms/step - loss: 61.7320 - mae: 5.9052 - val_loss: 59.9549 - val_mae: 6.0191\n",
            "Epoch 60/100\n",
            "828/828 [==============================] - 1s 2ms/step - loss: 61.3642 - mae: 5.8797 - val_loss: 59.5785 - val_mae: 5.9976\n",
            "Epoch 61/100\n",
            "828/828 [==============================] - 1s 2ms/step - loss: 61.0103 - mae: 5.8582 - val_loss: 59.2190 - val_mae: 5.9768\n",
            "Epoch 62/100\n",
            "828/828 [==============================] - 1s 2ms/step - loss: 60.6688 - mae: 5.8357 - val_loss: 58.8587 - val_mae: 5.9563\n",
            "Epoch 63/100\n",
            "828/828 [==============================] - 1s 2ms/step - loss: 60.3384 - mae: 5.8153 - val_loss: 58.5170 - val_mae: 5.9363\n",
            "Epoch 64/100\n",
            "828/828 [==============================] - 1s 2ms/step - loss: 60.0204 - mae: 5.7951 - val_loss: 58.1844 - val_mae: 5.9175\n",
            "Epoch 65/100\n",
            "828/828 [==============================] - 1s 2ms/step - loss: 59.7140 - mae: 5.7756 - val_loss: 57.8574 - val_mae: 5.8989\n",
            "Epoch 66/100\n",
            "828/828 [==============================] - 1s 2ms/step - loss: 59.4176 - mae: 5.7593 - val_loss: 57.5519 - val_mae: 5.8807\n",
            "Epoch 67/100\n",
            "828/828 [==============================] - 1s 2ms/step - loss: 59.1338 - mae: 5.7412 - val_loss: 57.2543 - val_mae: 5.8634\n",
            "Epoch 68/100\n",
            "828/828 [==============================] - 1s 2ms/step - loss: 58.8613 - mae: 5.7237 - val_loss: 56.9600 - val_mae: 5.8464\n",
            "Epoch 69/100\n",
            "828/828 [==============================] - 1s 2ms/step - loss: 58.5990 - mae: 5.7085 - val_loss: 56.6779 - val_mae: 5.8296\n",
            "Epoch 70/100\n",
            "828/828 [==============================] - 1s 2ms/step - loss: 58.3450 - mae: 5.6918 - val_loss: 56.4057 - val_mae: 5.8132\n",
            "Epoch 71/100\n",
            "828/828 [==============================] - 1s 2ms/step - loss: 58.0994 - mae: 5.6789 - val_loss: 56.1471 - val_mae: 5.7971\n",
            "Epoch 72/100\n",
            "828/828 [==============================] - 1s 2ms/step - loss: 57.8633 - mae: 5.6626 - val_loss: 55.8922 - val_mae: 5.7813\n",
            "Epoch 73/100\n",
            "828/828 [==============================] - 1s 2ms/step - loss: 57.6345 - mae: 5.6479 - val_loss: 55.6498 - val_mae: 5.7657\n",
            "Epoch 74/100\n",
            "828/828 [==============================] - 1s 2ms/step - loss: 57.4124 - mae: 5.6346 - val_loss: 55.4125 - val_mae: 5.7508\n",
            "Epoch 75/100\n",
            "828/828 [==============================] - 1s 2ms/step - loss: 57.1979 - mae: 5.6199 - val_loss: 55.1856 - val_mae: 5.7364\n",
            "Epoch 76/100\n",
            "828/828 [==============================] - 1s 2ms/step - loss: 56.9907 - mae: 5.6068 - val_loss: 54.9641 - val_mae: 5.7221\n",
            "Epoch 77/100\n",
            "828/828 [==============================] - 1s 2ms/step - loss: 56.7905 - mae: 5.5923 - val_loss: 54.7502 - val_mae: 5.7081\n",
            "Epoch 78/100\n",
            "828/828 [==============================] - 1s 2ms/step - loss: 56.5966 - mae: 5.5808 - val_loss: 54.5481 - val_mae: 5.6943\n",
            "Epoch 79/100\n",
            "828/828 [==============================] - 1s 2ms/step - loss: 56.4084 - mae: 5.5702 - val_loss: 54.3660 - val_mae: 5.6810\n",
            "Epoch 80/100\n",
            "828/828 [==============================] - 2s 2ms/step - loss: 56.2280 - mae: 5.5565 - val_loss: 54.1745 - val_mae: 5.6679\n",
            "Epoch 81/100\n",
            "828/828 [==============================] - 1s 2ms/step - loss: 56.0519 - mae: 5.5430 - val_loss: 53.9789 - val_mae: 5.6548\n",
            "Epoch 82/100\n",
            "828/828 [==============================] - 1s 2ms/step - loss: 55.8839 - mae: 5.5341 - val_loss: 53.8124 - val_mae: 5.6425\n",
            "Epoch 83/100\n",
            "828/828 [==============================] - 1s 2ms/step - loss: 55.7195 - mae: 5.5231 - val_loss: 53.6555 - val_mae: 5.6304\n",
            "Epoch 84/100\n",
            "828/828 [==============================] - 1s 2ms/step - loss: 55.5629 - mae: 5.5104 - val_loss: 53.4893 - val_mae: 5.6183\n",
            "Epoch 85/100\n",
            "828/828 [==============================] - 1s 2ms/step - loss: 55.4100 - mae: 5.4987 - val_loss: 53.3212 - val_mae: 5.6062\n",
            "Epoch 86/100\n",
            "828/828 [==============================] - 1s 2ms/step - loss: 55.2610 - mae: 5.4903 - val_loss: 53.1780 - val_mae: 5.5946\n",
            "Epoch 87/100\n",
            "828/828 [==============================] - 1s 2ms/step - loss: 55.1184 - mae: 5.4788 - val_loss: 53.0260 - val_mae: 5.5828\n",
            "Epoch 88/100\n",
            "828/828 [==============================] - 1s 2ms/step - loss: 54.9793 - mae: 5.4692 - val_loss: 52.8762 - val_mae: 5.5715\n",
            "Epoch 89/100\n",
            "828/828 [==============================] - 1s 2ms/step - loss: 54.8437 - mae: 5.4626 - val_loss: 52.7507 - val_mae: 5.5608\n",
            "Epoch 90/100\n",
            "828/828 [==============================] - 1s 2ms/step - loss: 54.7137 - mae: 5.4521 - val_loss: 52.6162 - val_mae: 5.5501\n",
            "Epoch 91/100\n",
            "828/828 [==============================] - 1s 2ms/step - loss: 54.5878 - mae: 5.4430 - val_loss: 52.4888 - val_mae: 5.5397\n",
            "Epoch 92/100\n",
            "828/828 [==============================] - 1s 2ms/step - loss: 54.4642 - mae: 5.4321 - val_loss: 52.3509 - val_mae: 5.5294\n",
            "Epoch 93/100\n",
            "828/828 [==============================] - 1s 2ms/step - loss: 54.3449 - mae: 5.4253 - val_loss: 52.2231 - val_mae: 5.5198\n",
            "Epoch 94/100\n",
            "828/828 [==============================] - 1s 2ms/step - loss: 54.2286 - mae: 5.4157 - val_loss: 52.0979 - val_mae: 5.5105\n",
            "Epoch 95/100\n",
            "828/828 [==============================] - 1s 2ms/step - loss: 54.1158 - mae: 5.4079 - val_loss: 51.9826 - val_mae: 5.5017\n",
            "Epoch 96/100\n",
            "828/828 [==============================] - 2s 2ms/step - loss: 54.0051 - mae: 5.4009 - val_loss: 51.8727 - val_mae: 5.4930\n",
            "Epoch 97/100\n",
            "828/828 [==============================] - 1s 2ms/step - loss: 53.8980 - mae: 5.3943 - val_loss: 51.7724 - val_mae: 5.4847\n",
            "Epoch 98/100\n",
            "828/828 [==============================] - 1s 2ms/step - loss: 53.7930 - mae: 5.3877 - val_loss: 51.6754 - val_mae: 5.4768\n",
            "Epoch 99/100\n",
            "828/828 [==============================] - 1s 2ms/step - loss: 53.6914 - mae: 5.3791 - val_loss: 51.5798 - val_mae: 5.4689\n",
            "Epoch 100/100\n",
            "828/828 [==============================] - 1s 2ms/step - loss: 53.5929 - mae: 5.3729 - val_loss: 51.4854 - val_mae: 5.4611\n"
          ]
        }
      ]
    },
    {
      "cell_type": "code",
      "source": [
        "import matplotlib.pyplot as plt\n",
        "%matplotlib inline\n",
        "fig, loss_ax = plt.subplots() \n",
        "fig.set_size_inches(10, 5)\n",
        "loss_ax.plot(hist.history['loss'], 'y', label='train_loss')\n",
        "loss_ax.plot(hist.history['val_loss'], 'r', label='validation_loss')\n",
        "loss_ax.set_xlabel('Epochs')\n",
        "loss_ax.set_ylabel('Loss')\n",
        "loss_ax.legend(loc = 'upper right')\n",
        "plt.show()"
      ],
      "metadata": {
        "colab": {
          "base_uri": "https://localhost:8080/",
          "height": 334
        },
        "id": "yuQP8tFX3GQ2",
        "outputId": "41ae9057-a3bf-4d61-da42-abfc4d89de6c"
      },
      "execution_count": null,
      "outputs": [
        {
          "output_type": "display_data",
          "data": {
            "text/plain": [
              "<Figure size 720x360 with 1 Axes>"
            ],
            "image/png": "[encoded data removed]"
          },
          "metadata": {
            "needs_background": "light"
          }
        }
      ]
    },
    {
      "cell_type": "code",
      "source": [
        "import matplotlib.pyplot as plt\n",
        "%matplotlib inline\n",
        "fig, loss_ax = plt.subplots() \n",
        "fig.set_size_inches(10, 5)\n",
        "loss_ax.plot(hist.history['mae'], 'y', label='train_mae')\n",
        "loss_ax.plot(hist.history['val_mae'], 'r', label='validation_mae')\n",
        "loss_ax.set_xlabel('Epochs')\n",
        "loss_ax.set_ylabel('MAE')\n",
        "loss_ax.legend(loc = 'upper right')\n",
        "plt.show()"
      ],
      "metadata": {
        "colab": {
          "base_uri": "https://localhost:8080/",
          "height": 334
        },
        "id": "YhZ2_8P2CYcP",
        "outputId": "08e77fc4-1e0f-4ff6-cc7c-05cd88a4b726"
      },
      "execution_count": null,
      "outputs": [
        {
          "output_type": "display_data",
          "data": {
            "text/plain": [
              "<Figure size 720x360 with 1 Axes>"
            ],
            "image/png": "[encoded data removed]"
          },
          "metadata": {
            "needs_background": "light"
          }
        }
      ]
    },
    {
      "cell_type": "markdown",
      "source": [
        "# 5. 학습데이터를 예측해본다. "
      ],
      "metadata": {
        "id": "16rleCyT60st"
      }
    },
    {
      "cell_type": "code",
      "source": [
        "y_pred=model.predict(x_test)"
      ],
      "metadata": {
        "id": "GzLU0OQWMTF-"
      },
      "execution_count": null,
      "outputs": []
    },
    {
      "cell_type": "code",
      "source": [
        "plt.figure(figsize=(10,10))\n",
        "plt.scatter(y_test, y_pred, alpha=0.3, label='weight')\n",
        "plt.plot(y_test,y_test, c='r')\n",
        "plt.xlim(10,80)\n",
        "plt.ylim(10,80)\n",
        "plt.xlabel('test')\n",
        "plt.ylabel('prediction')\n",
        "plt.title('Female Weight Prediction')\n",
        "plt.grid()\n",
        "plt.legend()\n",
        "plt.show()"
      ],
      "metadata": {
        "colab": {
          "base_uri": "https://localhost:8080/",
          "height": 620
        },
        "id": "jNANKtQiMusC",
        "outputId": "99108da6-3b92-4691-cba2-f45c1a0d6c80"
      },
      "execution_count": null,
      "outputs": [
        {
          "output_type": "display_data",
          "data": {
            "text/plain": [
              "<Figure size 720x720 with 1 Axes>"
            ],
            "image/png": "[encoded data removed]"
          },
          "metadata": {
            "needs_background": "light"
          }
        }
      ]
    },
    {
      "cell_type": "code",
      "source": [
        "plt.figure(figsize=(12,5))\n",
        "plt.hist(y_test, bins=20, alpha=0.4, label='test')\n",
        "plt.hist(y_pred,bins=20,alpha=0.4, label='pred')\n",
        "plt.title('Female Weight Prediction')\n",
        "plt.grid()\n",
        "plt.legend()\n",
        "plt.show()"
      ],
      "metadata": {
        "colab": {
          "base_uri": "https://localhost:8080/",
          "height": 335
        },
        "id": "cXvlsDxCSRSH",
        "outputId": "1dd64c0a-592d-4329-93ab-7f0cac14b785"
      },
      "execution_count": null,
      "outputs": [
        {
          "output_type": "display_data",
          "data": {
            "text/plain": [
              "<Figure size 864x360 with 1 Axes>"
            ],
            "image/png": "[encoded data removed]"
          },
          "metadata": {
            "needs_background": "light"
          }
        }
      ]
    },
    {
      "cell_type": "code",
      "source": [
        ""
      ],
      "metadata": {
        "id": "pP9B1FRXR5yC"
      },
      "execution_count": null,
      "outputs": []
    }
  ]
}