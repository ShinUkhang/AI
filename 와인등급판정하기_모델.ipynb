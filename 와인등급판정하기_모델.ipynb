{
  "nbformat": 4,
  "nbformat_minor": 0,
  "metadata": {
    "colab": {
      "provenance": [],
      "authorship_tag": "ABX9TyOoeQfq5dtSSA7eq81Xv50X",
      "include_colab_link": true
    },
    "kernelspec": {
      "name": "python3",
      "display_name": "Python 3"
    },
    "language_info": {
      "name": "python"
    }
  },
  "cells": [
    {
      "cell_type": "markdown",
      "metadata": {
        "id": "view-in-github",
        "colab_type": "text"
      },
      "source": [
        "<a href=\"https://colab.research.google.com/github/ShinUkhang/AI/blob/main/%EC%99%80%EC%9D%B8%EB%93%B1%EA%B8%89%ED%8C%90%EC%A0%95%ED%95%98%EA%B8%B0_%EB%AA%A8%EB%8D%B8.ipynb\" target=\"_parent\"><img src=\"https://colab.research.google.com/assets/colab-badge.svg\" alt=\"Open In Colab\"/></a>"
      ]
    },
    {
      "cell_type": "markdown",
      "source": [
        "와인의 성분을 통해서 와인의 등급을 판단해보겠습니다."
      ],
      "metadata": {
        "id": "JjXK0673gxv4"
      }
    },
    {
      "cell_type": "markdown",
      "source": [
        "![와인이미지.jfif](data:image/jpeg;base64,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)"
      ],
      "metadata": {
        "id": "bVtD2rnefsP2"
      }
    },
    {
      "cell_type": "markdown",
      "source": [
        "와인을 분류할 데이터를 불러옵니다.\n",
        "\n",
        "**(# 표시는 주석으로 컴퓨터가 코드로 생각하지 않습니다.)**"
      ],
      "metadata": {
        "id": "2KtF9cynfnt_"
      }
    },
    {
      "cell_type": "code",
      "execution_count": 31,
      "metadata": {
        "colab": {
          "base_uri": "https://localhost:8080/",
          "height": 77
        },
        "id": "52-Jpmm2rgt2",
        "outputId": "b0586700-9a9f-43fc-e73a-d697c65147f9"
      },
      "outputs": [
        {
          "output_type": "display_data",
          "data": {
            "text/plain": [
              "<IPython.core.display.HTML object>"
            ],
            "text/html": [
              "\n",
              "     <input type=\"file\" id=\"files-339a2f1b-453e-4cab-bf29-179240710971\" name=\"files[]\" multiple disabled\n",
              "        style=\"border:none\" />\n",
              "     <output id=\"result-339a2f1b-453e-4cab-bf29-179240710971\">\n",
              "      Upload widget is only available when the cell has been executed in the\n",
              "      current browser session. Please rerun this cell to enable.\n",
              "      </output>\n",
              "      <script>// Copyright 2017 Google LLC\n",
              "//\n",
              "// Licensed under the Apache License, Version 2.0 (the \"License\");\n",
              "// you may not use this file except in compliance with the License.\n",
              "// You may obtain a copy of the License at\n",
              "//\n",
              "//      http://www.apache.org/licenses/LICENSE-2.0\n",
              "//\n",
              "// Unless required by applicable law or agreed to in writing, software\n",
              "// distributed under the License is distributed on an \"AS IS\" BASIS,\n",
              "// WITHOUT WARRANTIES OR CONDITIONS OF ANY KIND, either express or implied.\n",
              "// See the License for the specific language governing permissions and\n",
              "// limitations under the License.\n",
              "\n",
              "/**\n",
              " * @fileoverview Helpers for google.colab Python module.\n",
              " */\n",
              "(function(scope) {\n",
              "function span(text, styleAttributes = {}) {\n",
              "  const element = document.createElement('span');\n",
              "  element.textContent = text;\n",
              "  for (const key of Object.keys(styleAttributes)) {\n",
              "    element.style[key] = styleAttributes[key];\n",
              "  }\n",
              "  return element;\n",
              "}\n",
              "\n",
              "// Max number of bytes which will be uploaded at a time.\n",
              "const MAX_PAYLOAD_SIZE = 100 * 1024;\n",
              "\n",
              "function _uploadFiles(inputId, outputId) {\n",
              "  const steps = uploadFilesStep(inputId, outputId);\n",
              "  const outputElement = document.getElementById(outputId);\n",
              "  // Cache steps on the outputElement to make it available for the next call\n",
              "  // to uploadFilesContinue from Python.\n",
              "  outputElement.steps = steps;\n",
              "\n",
              "  return _uploadFilesContinue(outputId);\n",
              "}\n",
              "\n",
              "// This is roughly an async generator (not supported in the browser yet),\n",
              "// where there are multiple asynchronous steps and the Python side is going\n",
              "// to poll for completion of each step.\n",
              "// This uses a Promise to block the python side on completion of each step,\n",
              "// then passes the result of the previous step as the input to the next step.\n",
              "function _uploadFilesContinue(outputId) {\n",
              "  const outputElement = document.getElementById(outputId);\n",
              "  const steps = outputElement.steps;\n",
              "\n",
              "  const next = steps.next(outputElement.lastPromiseValue);\n",
              "  return Promise.resolve(next.value.promise).then((value) => {\n",
              "    // Cache the last promise value to make it available to the next\n",
              "    // step of the generator.\n",
              "    outputElement.lastPromiseValue = value;\n",
              "    return next.value.response;\n",
              "  });\n",
              "}\n",
              "\n",
              "/**\n",
              " * Generator function which is called between each async step of the upload\n",
              " * process.\n",
              " * @param {string} inputId Element ID of the input file picker element.\n",
              " * @param {string} outputId Element ID of the output display.\n",
              " * @return {!Iterable<!Object>} Iterable of next steps.\n",
              " */\n",
              "function* uploadFilesStep(inputId, outputId) {\n",
              "  const inputElement = document.getElementById(inputId);\n",
              "  inputElement.disabled = false;\n",
              "\n",
              "  const outputElement = document.getElementById(outputId);\n",
              "  outputElement.innerHTML = '';\n",
              "\n",
              "  const pickedPromise = new Promise((resolve) => {\n",
              "    inputElement.addEventListener('change', (e) => {\n",
              "      resolve(e.target.files);\n",
              "    });\n",
              "  });\n",
              "\n",
              "  const cancel = document.createElement('button');\n",
              "  inputElement.parentElement.appendChild(cancel);\n",
              "  cancel.textContent = 'Cancel upload';\n",
              "  const cancelPromise = new Promise((resolve) => {\n",
              "    cancel.onclick = () => {\n",
              "      resolve(null);\n",
              "    };\n",
              "  });\n",
              "\n",
              "  // Wait for the user to pick the files.\n",
              "  const files = yield {\n",
              "    promise: Promise.race([pickedPromise, cancelPromise]),\n",
              "    response: {\n",
              "      action: 'starting',\n",
              "    }\n",
              "  };\n",
              "\n",
              "  cancel.remove();\n",
              "\n",
              "  // Disable the input element since further picks are not allowed.\n",
              "  inputElement.disabled = true;\n",
              "\n",
              "  if (!files) {\n",
              "    return {\n",
              "      response: {\n",
              "        action: 'complete',\n",
              "      }\n",
              "    };\n",
              "  }\n",
              "\n",
              "  for (const file of files) {\n",
              "    const li = document.createElement('li');\n",
              "    li.append(span(file.name, {fontWeight: 'bold'}));\n",
              "    li.append(span(\n",
              "        `(${file.type || 'n/a'}) - ${file.size} bytes, ` +\n",
              "        `last modified: ${\n",
              "            file.lastModifiedDate ? file.lastModifiedDate.toLocaleDateString() :\n",
              "                                    'n/a'} - `));\n",
              "    const percent = span('0% done');\n",
              "    li.appendChild(percent);\n",
              "\n",
              "    outputElement.appendChild(li);\n",
              "\n",
              "    const fileDataPromise = new Promise((resolve) => {\n",
              "      const reader = new FileReader();\n",
              "      reader.onload = (e) => {\n",
              "        resolve(e.target.result);\n",
              "      };\n",
              "      reader.readAsArrayBuffer(file);\n",
              "    });\n",
              "    // Wait for the data to be ready.\n",
              "    let fileData = yield {\n",
              "      promise: fileDataPromise,\n",
              "      response: {\n",
              "        action: 'continue',\n",
              "      }\n",
              "    };\n",
              "\n",
              "    // Use a chunked sending to avoid message size limits. See b/62115660.\n",
              "    let position = 0;\n",
              "    do {\n",
              "      const length = Math.min(fileData.byteLength - position, MAX_PAYLOAD_SIZE);\n",
              "      const chunk = new Uint8Array(fileData, position, length);\n",
              "      position += length;\n",
              "\n",
              "      const base64 = btoa(String.fromCharCode.apply(null, chunk));\n",
              "      yield {\n",
              "        response: {\n",
              "          action: 'append',\n",
              "          file: file.name,\n",
              "          data: base64,\n",
              "        },\n",
              "      };\n",
              "\n",
              "      let percentDone = fileData.byteLength === 0 ?\n",
              "          100 :\n",
              "          Math.round((position / fileData.byteLength) * 100);\n",
              "      percent.textContent = `${percentDone}% done`;\n",
              "\n",
              "    } while (position < fileData.byteLength);\n",
              "  }\n",
              "\n",
              "  // All done.\n",
              "  yield {\n",
              "    response: {\n",
              "      action: 'complete',\n",
              "    }\n",
              "  };\n",
              "}\n",
              "\n",
              "scope.google = scope.google || {};\n",
              "scope.google.colab = scope.google.colab || {};\n",
              "scope.google.colab._files = {\n",
              "  _uploadFiles,\n",
              "  _uploadFilesContinue,\n",
              "};\n",
              "})(self);\n",
              "</script> "
            ]
          },
          "metadata": {}
        },
        {
          "output_type": "stream",
          "name": "stdout",
          "text": [
            "Saving winequality.csv to winequality (1).csv\n"
          ]
        }
      ],
      "source": [
        "#구글 코랩의 files라는 모듈을 불러옵니다. \n",
        "from google.colab import files \n",
        "uploaded=files.upload()"
      ]
    },
    {
      "cell_type": "markdown",
      "source": [
        "판다스(표,테이블을 다루는 파이썬)으로 파일을 불러옵니다.\n",
        "\n",
        "파일이름을 정확하게 입력해야 오류가 없습니다. "
      ],
      "metadata": {
        "id": "p7U3xt3WiN79"
      }
    },
    {
      "cell_type": "code",
      "source": [
        "import pandas as pd\n",
        "data=pd.read_csv('winequality.csv') #파일을 못 읽으면 encoding='cp949'을 추가해서 실행하세요. \n",
        "data=pd.DataFrame(data) "
      ],
      "metadata": {
        "id": "GkYN-75irzGQ"
      },
      "execution_count": 32,
      "outputs": []
    },
    {
      "cell_type": "markdown",
      "source": [
        "데이터를 살펴봅시다.\n",
        "\n",
        "target(0: 레드와인, 1: 화이트와인)\n",
        "\n",
        "나머지 성분은 화학, 생명과학 책과 인터넷검색을 통해서 자세히 알아봅시다.\n",
        "\n",
        "(fixed acidity :주석산농도, volatile acidity:아세트산농도, citric acid:구연산농도, residual sugar:잔류당분농도, chlorides: 염화나트륨농도, free sulfur dioxide:유리아황산농도, total sulfur dioxide:총아황산농도, density:밀도, pH:pH농도 , sulphates:황산칼륨농도, alcohol:알콜도수, alcohol:와인등급(1~10) \n"
      ],
      "metadata": {
        "id": "1XjvlefFiieh"
      }
    },
    {
      "cell_type": "code",
      "source": [
        "data.head()"
      ],
      "metadata": {
        "colab": {
          "base_uri": "https://localhost:8080/",
          "height": 206
        },
        "id": "LKb9Y0ywsTW7",
        "outputId": "db0b3d51-47b8-47a9-92d0-4a0393d11561"
      },
      "execution_count": 33,
      "outputs": [
        {
          "output_type": "execute_result",
          "data": {
            "text/plain": [
              "   fixed acidity  volatile acidity  citric acid  residual sugar  chlorides  \\\n",
              "0            7.0              0.27         0.36            20.7      0.045   \n",
              "1            6.3              0.30         0.34             1.6      0.049   \n",
              "2            8.1              0.28         0.40             6.9      0.050   \n",
              "3            7.2              0.23         0.32             8.5      0.058   \n",
              "4            7.2              0.23         0.32             8.5      0.058   \n",
              "\n",
              "   free sulfur dioxide  total sulfur dioxide  density    pH  sulphates  \\\n",
              "0                 45.0                 170.0   1.0010  3.00       0.45   \n",
              "1                 14.0                 132.0   0.9940  3.30       0.49   \n",
              "2                 30.0                  97.0   0.9951  3.26       0.44   \n",
              "3                 47.0                 186.0   0.9956  3.19       0.40   \n",
              "4                 47.0                 186.0   0.9956  3.19       0.40   \n",
              "\n",
              "   alcohol  quality  target  \n",
              "0      8.8        6       1  \n",
              "1      9.5        6       1  \n",
              "2     10.1        6       1  \n",
              "3      9.9        6       1  \n",
              "4      9.9        6       1  "
            ],
            "text/html": [
              "\n",
              "  <div id=\"df-9ed84b74-492e-4ee4-a966-f5d49d0d6c4a\">\n",
              "    <div class=\"colab-df-container\">\n",
              "      <div>\n",
              "<style scoped>\n",
              "    .dataframe tbody tr th:only-of-type {\n",
              "        vertical-align: middle;\n",
              "    }\n",
              "\n",
              "    .dataframe tbody tr th {\n",
              "        vertical-align: top;\n",
              "    }\n",
              "\n",
              "    .dataframe thead th {\n",
              "        text-align: right;\n",
              "    }\n",
              "</style>\n",
              "<table border=\"1\" class=\"dataframe\">\n",
              "  <thead>\n",
              "    <tr style=\"text-align: right;\">\n",
              "      <th></th>\n",
              "      <th>fixed acidity</th>\n",
              "      <th>volatile acidity</th>\n",
              "      <th>citric acid</th>\n",
              "      <th>residual sugar</th>\n",
              "      <th>chlorides</th>\n",
              "      <th>free sulfur dioxide</th>\n",
              "      <th>total sulfur dioxide</th>\n",
              "      <th>density</th>\n",
              "      <th>pH</th>\n",
              "      <th>sulphates</th>\n",
              "      <th>alcohol</th>\n",
              "      <th>quality</th>\n",
              "      <th>target</th>\n",
              "    </tr>\n",
              "  </thead>\n",
              "  <tbody>\n",
              "    <tr>\n",
              "      <th>0</th>\n",
              "      <td>7.0</td>\n",
              "      <td>0.27</td>\n",
              "      <td>0.36</td>\n",
              "      <td>20.7</td>\n",
              "      <td>0.045</td>\n",
              "      <td>45.0</td>\n",
              "      <td>170.0</td>\n",
              "      <td>1.0010</td>\n",
              "      <td>3.00</td>\n",
              "      <td>0.45</td>\n",
              "      <td>8.8</td>\n",
              "      <td>6</td>\n",
              "      <td>1</td>\n",
              "    </tr>\n",
              "    <tr>\n",
              "      <th>1</th>\n",
              "      <td>6.3</td>\n",
              "      <td>0.30</td>\n",
              "      <td>0.34</td>\n",
              "      <td>1.6</td>\n",
              "      <td>0.049</td>\n",
              "      <td>14.0</td>\n",
              "      <td>132.0</td>\n",
              "      <td>0.9940</td>\n",
              "      <td>3.30</td>\n",
              "      <td>0.49</td>\n",
              "      <td>9.5</td>\n",
              "      <td>6</td>\n",
              "      <td>1</td>\n",
              "    </tr>\n",
              "    <tr>\n",
              "      <th>2</th>\n",
              "      <td>8.1</td>\n",
              "      <td>0.28</td>\n",
              "      <td>0.40</td>\n",
              "      <td>6.9</td>\n",
              "      <td>0.050</td>\n",
              "      <td>30.0</td>\n",
              "      <td>97.0</td>\n",
              "      <td>0.9951</td>\n",
              "      <td>3.26</td>\n",
              "      <td>0.44</td>\n",
              "      <td>10.1</td>\n",
              "      <td>6</td>\n",
              "      <td>1</td>\n",
              "    </tr>\n",
              "    <tr>\n",
              "      <th>3</th>\n",
              "      <td>7.2</td>\n",
              "      <td>0.23</td>\n",
              "      <td>0.32</td>\n",
              "      <td>8.5</td>\n",
              "      <td>0.058</td>\n",
              "      <td>47.0</td>\n",
              "      <td>186.0</td>\n",
              "      <td>0.9956</td>\n",
              "      <td>3.19</td>\n",
              "      <td>0.40</td>\n",
              "      <td>9.9</td>\n",
              "      <td>6</td>\n",
              "      <td>1</td>\n",
              "    </tr>\n",
              "    <tr>\n",
              "      <th>4</th>\n",
              "      <td>7.2</td>\n",
              "      <td>0.23</td>\n",
              "      <td>0.32</td>\n",
              "      <td>8.5</td>\n",
              "      <td>0.058</td>\n",
              "      <td>47.0</td>\n",
              "      <td>186.0</td>\n",
              "      <td>0.9956</td>\n",
              "      <td>3.19</td>\n",
              "      <td>0.40</td>\n",
              "      <td>9.9</td>\n",
              "      <td>6</td>\n",
              "      <td>1</td>\n",
              "    </tr>\n",
              "  </tbody>\n",
              "</table>\n",
              "</div>\n",
              "      <button class=\"colab-df-convert\" onclick=\"convertToInteractive('df-9ed84b74-492e-4ee4-a966-f5d49d0d6c4a')\"\n",
              "              title=\"Convert this dataframe to an interactive table.\"\n",
              "              style=\"display:none;\">\n",
              "        \n",
              "  <svg xmlns=\"http://www.w3.org/2000/svg\" height=\"24px\"viewBox=\"0 0 24 24\"\n",
              "       width=\"24px\">\n",
              "    <path d=\"M0 0h24v24H0V0z\" fill=\"none\"/>\n",
              "    <path d=\"M18.56 5.44l.94 2.06.94-2.06 2.06-.94-2.06-.94-.94-2.06-.94 2.06-2.06.94zm-11 1L8.5 8.5l.94-2.06 2.06-.94-2.06-.94L8.5 2.5l-.94 2.06-2.06.94zm10 10l.94 2.06.94-2.06 2.06-.94-2.06-.94-.94-2.06-.94 2.06-2.06.94z\"/><path d=\"M17.41 7.96l-1.37-1.37c-.4-.4-.92-.59-1.43-.59-.52 0-1.04.2-1.43.59L10.3 9.45l-7.72 7.72c-.78.78-.78 2.05 0 2.83L4 21.41c.39.39.9.59 1.41.59.51 0 1.02-.2 1.41-.59l7.78-7.78 2.81-2.81c.8-.78.8-2.07 0-2.86zM5.41 20L4 18.59l7.72-7.72 1.47 1.35L5.41 20z\"/>\n",
              "  </svg>\n",
              "      </button>\n",
              "      \n",
              "  <style>\n",
              "    .colab-df-container {\n",
              "      display:flex;\n",
              "      flex-wrap:wrap;\n",
              "      gap: 12px;\n",
              "    }\n",
              "\n",
              "    .colab-df-convert {\n",
              "      background-color: #E8F0FE;\n",
              "      border: none;\n",
              "      border-radius: 50%;\n",
              "      cursor: pointer;\n",
              "      display: none;\n",
              "      fill: #1967D2;\n",
              "      height: 32px;\n",
              "      padding: 0 0 0 0;\n",
              "      width: 32px;\n",
              "    }\n",
              "\n",
              "    .colab-df-convert:hover {\n",
              "      background-color: #E2EBFA;\n",
              "      box-shadow: 0px 1px 2px rgba(60, 64, 67, 0.3), 0px 1px 3px 1px rgba(60, 64, 67, 0.15);\n",
              "      fill: #174EA6;\n",
              "    }\n",
              "\n",
              "    [theme=dark] .colab-df-convert {\n",
              "      background-color: #3B4455;\n",
              "      fill: #D2E3FC;\n",
              "    }\n",
              "\n",
              "    [theme=dark] .colab-df-convert:hover {\n",
              "      background-color: #434B5C;\n",
              "      box-shadow: 0px 1px 3px 1px rgba(0, 0, 0, 0.15);\n",
              "      filter: drop-shadow(0px 1px 2px rgba(0, 0, 0, 0.3));\n",
              "      fill: #FFFFFF;\n",
              "    }\n",
              "  </style>\n",
              "\n",
              "      <script>\n",
              "        const buttonEl =\n",
              "          document.querySelector('#df-9ed84b74-492e-4ee4-a966-f5d49d0d6c4a button.colab-df-convert');\n",
              "        buttonEl.style.display =\n",
              "          google.colab.kernel.accessAllowed ? 'block' : 'none';\n",
              "\n",
              "        async function convertToInteractive(key) {\n",
              "          const element = document.querySelector('#df-9ed84b74-492e-4ee4-a966-f5d49d0d6c4a');\n",
              "          const dataTable =\n",
              "            await google.colab.kernel.invokeFunction('convertToInteractive',\n",
              "                                                     [key], {});\n",
              "          if (!dataTable) return;\n",
              "\n",
              "          const docLinkHtml = 'Like what you see? Visit the ' +\n",
              "            '<a target=\"_blank\" href=https://colab.research.google.com/notebooks/data_table.ipynb>data table notebook</a>'\n",
              "            + ' to learn more about interactive tables.';\n",
              "          element.innerHTML = '';\n",
              "          dataTable['output_type'] = 'display_data';\n",
              "          await google.colab.output.renderOutput(dataTable, element);\n",
              "          const docLink = document.createElement('div');\n",
              "          docLink.innerHTML = docLinkHtml;\n",
              "          element.appendChild(docLink);\n",
              "        }\n",
              "      </script>\n",
              "    </div>\n",
              "  </div>\n",
              "  "
            ]
          },
          "metadata": {},
          "execution_count": 33
        }
      ]
    },
    {
      "cell_type": "markdown",
      "source": [
        "평균, 표준편차, 최솟값,최댓값, 사분위수를 확인합니다."
      ],
      "metadata": {
        "id": "sZCr6IjKkkqk"
      }
    },
    {
      "cell_type": "code",
      "source": [
        "data.describe()"
      ],
      "metadata": {
        "colab": {
          "base_uri": "https://localhost:8080/",
          "height": 300
        },
        "id": "j62fzhUusTZw",
        "outputId": "ff61172a-1058-4047-b664-9d83b4fd498d"
      },
      "execution_count": 34,
      "outputs": [
        {
          "output_type": "execute_result",
          "data": {
            "text/plain": [
              "       fixed acidity  volatile acidity  citric acid  residual sugar  \\\n",
              "count    6497.000000       6497.000000  6497.000000     6497.000000   \n",
              "mean        7.215307          0.339666     0.318633        5.443235   \n",
              "std         1.296434          0.164636     0.145318        4.757804   \n",
              "min         3.800000          0.080000     0.000000        0.600000   \n",
              "25%         6.400000          0.230000     0.250000        1.800000   \n",
              "50%         7.000000          0.290000     0.310000        3.000000   \n",
              "75%         7.700000          0.400000     0.390000        8.100000   \n",
              "max        15.900000          1.580000     1.660000       65.800000   \n",
              "\n",
              "         chlorides  free sulfur dioxide  total sulfur dioxide      density  \\\n",
              "count  6497.000000          6497.000000           6497.000000  6497.000000   \n",
              "mean      0.056034            30.525319            115.744574     0.994697   \n",
              "std       0.035034            17.749400             56.521855     0.002999   \n",
              "min       0.009000             1.000000              6.000000     0.987110   \n",
              "25%       0.038000            17.000000             77.000000     0.992340   \n",
              "50%       0.047000            29.000000            118.000000     0.994890   \n",
              "75%       0.065000            41.000000            156.000000     0.996990   \n",
              "max       0.611000           289.000000            440.000000     1.038980   \n",
              "\n",
              "                pH    sulphates      alcohol      quality       target  \n",
              "count  6497.000000  6497.000000  6497.000000  6497.000000  6497.000000  \n",
              "mean      3.218501     0.531268    10.491801     5.818378     0.753886  \n",
              "std       0.160787     0.148806     1.192712     0.873255     0.430779  \n",
              "min       2.720000     0.220000     8.000000     3.000000     0.000000  \n",
              "25%       3.110000     0.430000     9.500000     5.000000     1.000000  \n",
              "50%       3.210000     0.510000    10.300000     6.000000     1.000000  \n",
              "75%       3.320000     0.600000    11.300000     6.000000     1.000000  \n",
              "max       4.010000     2.000000    14.900000     9.000000     1.000000  "
            ],
            "text/html": [
              "\n",
              "  <div id=\"df-dddfcc75-502f-4768-8c6b-0379ecf56c9d\">\n",
              "    <div class=\"colab-df-container\">\n",
              "      <div>\n",
              "<style scoped>\n",
              "    .dataframe tbody tr th:only-of-type {\n",
              "        vertical-align: middle;\n",
              "    }\n",
              "\n",
              "    .dataframe tbody tr th {\n",
              "        vertical-align: top;\n",
              "    }\n",
              "\n",
              "    .dataframe thead th {\n",
              "        text-align: right;\n",
              "    }\n",
              "</style>\n",
              "<table border=\"1\" class=\"dataframe\">\n",
              "  <thead>\n",
              "    <tr style=\"text-align: right;\">\n",
              "      <th></th>\n",
              "      <th>fixed acidity</th>\n",
              "      <th>volatile acidity</th>\n",
              "      <th>citric acid</th>\n",
              "      <th>residual sugar</th>\n",
              "      <th>chlorides</th>\n",
              "      <th>free sulfur dioxide</th>\n",
              "      <th>total sulfur dioxide</th>\n",
              "      <th>density</th>\n",
              "      <th>pH</th>\n",
              "      <th>sulphates</th>\n",
              "      <th>alcohol</th>\n",
              "      <th>quality</th>\n",
              "      <th>target</th>\n",
              "    </tr>\n",
              "  </thead>\n",
              "  <tbody>\n",
              "    <tr>\n",
              "      <th>count</th>\n",
              "      <td>6497.000000</td>\n",
              "      <td>6497.000000</td>\n",
              "      <td>6497.000000</td>\n",
              "      <td>6497.000000</td>\n",
              "      <td>6497.000000</td>\n",
              "      <td>6497.000000</td>\n",
              "      <td>6497.000000</td>\n",
              "      <td>6497.000000</td>\n",
              "      <td>6497.000000</td>\n",
              "      <td>6497.000000</td>\n",
              "      <td>6497.000000</td>\n",
              "      <td>6497.000000</td>\n",
              "      <td>6497.000000</td>\n",
              "    </tr>\n",
              "    <tr>\n",
              "      <th>mean</th>\n",
              "      <td>7.215307</td>\n",
              "      <td>0.339666</td>\n",
              "      <td>0.318633</td>\n",
              "      <td>5.443235</td>\n",
              "      <td>0.056034</td>\n",
              "      <td>30.525319</td>\n",
              "      <td>115.744574</td>\n",
              "      <td>0.994697</td>\n",
              "      <td>3.218501</td>\n",
              "      <td>0.531268</td>\n",
              "      <td>10.491801</td>\n",
              "      <td>5.818378</td>\n",
              "      <td>0.753886</td>\n",
              "    </tr>\n",
              "    <tr>\n",
              "      <th>std</th>\n",
              "      <td>1.296434</td>\n",
              "      <td>0.164636</td>\n",
              "      <td>0.145318</td>\n",
              "      <td>4.757804</td>\n",
              "      <td>0.035034</td>\n",
              "      <td>17.749400</td>\n",
              "      <td>56.521855</td>\n",
              "      <td>0.002999</td>\n",
              "      <td>0.160787</td>\n",
              "      <td>0.148806</td>\n",
              "      <td>1.192712</td>\n",
              "      <td>0.873255</td>\n",
              "      <td>0.430779</td>\n",
              "    </tr>\n",
              "    <tr>\n",
              "      <th>min</th>\n",
              "      <td>3.800000</td>\n",
              "      <td>0.080000</td>\n",
              "      <td>0.000000</td>\n",
              "      <td>0.600000</td>\n",
              "      <td>0.009000</td>\n",
              "      <td>1.000000</td>\n",
              "      <td>6.000000</td>\n",
              "      <td>0.987110</td>\n",
              "      <td>2.720000</td>\n",
              "      <td>0.220000</td>\n",
              "      <td>8.000000</td>\n",
              "      <td>3.000000</td>\n",
              "      <td>0.000000</td>\n",
              "    </tr>\n",
              "    <tr>\n",
              "      <th>25%</th>\n",
              "      <td>6.400000</td>\n",
              "      <td>0.230000</td>\n",
              "      <td>0.250000</td>\n",
              "      <td>1.800000</td>\n",
              "      <td>0.038000</td>\n",
              "      <td>17.000000</td>\n",
              "      <td>77.000000</td>\n",
              "      <td>0.992340</td>\n",
              "      <td>3.110000</td>\n",
              "      <td>0.430000</td>\n",
              "      <td>9.500000</td>\n",
              "      <td>5.000000</td>\n",
              "      <td>1.000000</td>\n",
              "    </tr>\n",
              "    <tr>\n",
              "      <th>50%</th>\n",
              "      <td>7.000000</td>\n",
              "      <td>0.290000</td>\n",
              "      <td>0.310000</td>\n",
              "      <td>3.000000</td>\n",
              "      <td>0.047000</td>\n",
              "      <td>29.000000</td>\n",
              "      <td>118.000000</td>\n",
              "      <td>0.994890</td>\n",
              "      <td>3.210000</td>\n",
              "      <td>0.510000</td>\n",
              "      <td>10.300000</td>\n",
              "      <td>6.000000</td>\n",
              "      <td>1.000000</td>\n",
              "    </tr>\n",
              "    <tr>\n",
              "      <th>75%</th>\n",
              "      <td>7.700000</td>\n",
              "      <td>0.400000</td>\n",
              "      <td>0.390000</td>\n",
              "      <td>8.100000</td>\n",
              "      <td>0.065000</td>\n",
              "      <td>41.000000</td>\n",
              "      <td>156.000000</td>\n",
              "      <td>0.996990</td>\n",
              "      <td>3.320000</td>\n",
              "      <td>0.600000</td>\n",
              "      <td>11.300000</td>\n",
              "      <td>6.000000</td>\n",
              "      <td>1.000000</td>\n",
              "    </tr>\n",
              "    <tr>\n",
              "      <th>max</th>\n",
              "      <td>15.900000</td>\n",
              "      <td>1.580000</td>\n",
              "      <td>1.660000</td>\n",
              "      <td>65.800000</td>\n",
              "      <td>0.611000</td>\n",
              "      <td>289.000000</td>\n",
              "      <td>440.000000</td>\n",
              "      <td>1.038980</td>\n",
              "      <td>4.010000</td>\n",
              "      <td>2.000000</td>\n",
              "      <td>14.900000</td>\n",
              "      <td>9.000000</td>\n",
              "      <td>1.000000</td>\n",
              "    </tr>\n",
              "  </tbody>\n",
              "</table>\n",
              "</div>\n",
              "      <button class=\"colab-df-convert\" onclick=\"convertToInteractive('df-dddfcc75-502f-4768-8c6b-0379ecf56c9d')\"\n",
              "              title=\"Convert this dataframe to an interactive table.\"\n",
              "              style=\"display:none;\">\n",
              "        \n",
              "  <svg xmlns=\"http://www.w3.org/2000/svg\" height=\"24px\"viewBox=\"0 0 24 24\"\n",
              "       width=\"24px\">\n",
              "    <path d=\"M0 0h24v24H0V0z\" fill=\"none\"/>\n",
              "    <path d=\"M18.56 5.44l.94 2.06.94-2.06 2.06-.94-2.06-.94-.94-2.06-.94 2.06-2.06.94zm-11 1L8.5 8.5l.94-2.06 2.06-.94-2.06-.94L8.5 2.5l-.94 2.06-2.06.94zm10 10l.94 2.06.94-2.06 2.06-.94-2.06-.94-.94-2.06-.94 2.06-2.06.94z\"/><path d=\"M17.41 7.96l-1.37-1.37c-.4-.4-.92-.59-1.43-.59-.52 0-1.04.2-1.43.59L10.3 9.45l-7.72 7.72c-.78.78-.78 2.05 0 2.83L4 21.41c.39.39.9.59 1.41.59.51 0 1.02-.2 1.41-.59l7.78-7.78 2.81-2.81c.8-.78.8-2.07 0-2.86zM5.41 20L4 18.59l7.72-7.72 1.47 1.35L5.41 20z\"/>\n",
              "  </svg>\n",
              "      </button>\n",
              "      \n",
              "  <style>\n",
              "    .colab-df-container {\n",
              "      display:flex;\n",
              "      flex-wrap:wrap;\n",
              "      gap: 12px;\n",
              "    }\n",
              "\n",
              "    .colab-df-convert {\n",
              "      background-color: #E8F0FE;\n",
              "      border: none;\n",
              "      border-radius: 50%;\n",
              "      cursor: pointer;\n",
              "      display: none;\n",
              "      fill: #1967D2;\n",
              "      height: 32px;\n",
              "      padding: 0 0 0 0;\n",
              "      width: 32px;\n",
              "    }\n",
              "\n",
              "    .colab-df-convert:hover {\n",
              "      background-color: #E2EBFA;\n",
              "      box-shadow: 0px 1px 2px rgba(60, 64, 67, 0.3), 0px 1px 3px 1px rgba(60, 64, 67, 0.15);\n",
              "      fill: #174EA6;\n",
              "    }\n",
              "\n",
              "    [theme=dark] .colab-df-convert {\n",
              "      background-color: #3B4455;\n",
              "      fill: #D2E3FC;\n",
              "    }\n",
              "\n",
              "    [theme=dark] .colab-df-convert:hover {\n",
              "      background-color: #434B5C;\n",
              "      box-shadow: 0px 1px 3px 1px rgba(0, 0, 0, 0.15);\n",
              "      filter: drop-shadow(0px 1px 2px rgba(0, 0, 0, 0.3));\n",
              "      fill: #FFFFFF;\n",
              "    }\n",
              "  </style>\n",
              "\n",
              "      <script>\n",
              "        const buttonEl =\n",
              "          document.querySelector('#df-dddfcc75-502f-4768-8c6b-0379ecf56c9d button.colab-df-convert');\n",
              "        buttonEl.style.display =\n",
              "          google.colab.kernel.accessAllowed ? 'block' : 'none';\n",
              "\n",
              "        async function convertToInteractive(key) {\n",
              "          const element = document.querySelector('#df-dddfcc75-502f-4768-8c6b-0379ecf56c9d');\n",
              "          const dataTable =\n",
              "            await google.colab.kernel.invokeFunction('convertToInteractive',\n",
              "                                                     [key], {});\n",
              "          if (!dataTable) return;\n",
              "\n",
              "          const docLinkHtml = 'Like what you see? Visit the ' +\n",
              "            '<a target=\"_blank\" href=https://colab.research.google.com/notebooks/data_table.ipynb>data table notebook</a>'\n",
              "            + ' to learn more about interactive tables.';\n",
              "          element.innerHTML = '';\n",
              "          dataTable['output_type'] = 'display_data';\n",
              "          await google.colab.output.renderOutput(dataTable, element);\n",
              "          const docLink = document.createElement('div');\n",
              "          docLink.innerHTML = docLinkHtml;\n",
              "          element.appendChild(docLink);\n",
              "        }\n",
              "      </script>\n",
              "    </div>\n",
              "  </div>\n",
              "  "
            ]
          },
          "metadata": {},
          "execution_count": 34
        }
      ]
    },
    {
      "cell_type": "markdown",
      "source": [
        "데이터의 형태와 갯수를 확인합니다.\n",
        "(float64는 실수라는 뜻입니다.)"
      ],
      "metadata": {
        "id": "dKIoGQqrktIT"
      }
    },
    {
      "cell_type": "code",
      "source": [
        "data.info()"
      ],
      "metadata": {
        "colab": {
          "base_uri": "https://localhost:8080/"
        },
        "id": "P25KwfCYsTcj",
        "outputId": "0500c0be-6de2-4956-a953-990ead23275f"
      },
      "execution_count": 35,
      "outputs": [
        {
          "output_type": "stream",
          "name": "stdout",
          "text": [
            "<class 'pandas.core.frame.DataFrame'>\n",
            "RangeIndex: 6497 entries, 0 to 6496\n",
            "Data columns (total 13 columns):\n",
            " #   Column                Non-Null Count  Dtype  \n",
            "---  ------                --------------  -----  \n",
            " 0   fixed acidity         6497 non-null   float64\n",
            " 1   volatile acidity      6497 non-null   float64\n",
            " 2   citric acid           6497 non-null   float64\n",
            " 3   residual sugar        6497 non-null   float64\n",
            " 4   chlorides             6497 non-null   float64\n",
            " 5   free sulfur dioxide   6497 non-null   float64\n",
            " 6   total sulfur dioxide  6497 non-null   float64\n",
            " 7   density               6497 non-null   float64\n",
            " 8   pH                    6497 non-null   float64\n",
            " 9   sulphates             6497 non-null   float64\n",
            " 10  alcohol               6497 non-null   float64\n",
            " 11  quality               6497 non-null   int64  \n",
            " 12  target                6497 non-null   int64  \n",
            "dtypes: float64(11), int64(2)\n",
            "memory usage: 660.0 KB\n"
          ]
        }
      ]
    },
    {
      "cell_type": "markdown",
      "source": [
        "데이터를 히스토그램으로 시각화했습니다.\n",
        "\n",
        "확률과통계 시간에 배운 정규분포곡선을 나타내는 자료는 무엇인지 확인해봅시다. **(히스토그램이 나타내는 넓이는 모두 1 입니다.)**"
      ],
      "metadata": {
        "id": "4efJg5Q8lkIl"
      }
    },
    {
      "cell_type": "code",
      "source": [
        "#맷플롯립은 데이터를 시각화하여 표와 그래로 보여주는 모듈입니다.\n",
        "#hist는 히스토그램을 의미하여 bins는 계급의 갯수, density는 상대도수, figsize는 크기, color는 색상입니다.\n",
        "import matplotlib.pyplot as plt  \n",
        "data.hist(bins=40, density=True, color='red',figsize=(20,10)) \n",
        "plt.show()"
      ],
      "metadata": {
        "colab": {
          "base_uri": "https://localhost:8080/",
          "height": 607
        },
        "id": "v_hlozw5sTfK",
        "outputId": "0da92b53-6e53-470d-a7db-2857089ee6e3"
      },
      "execution_count": 36,
      "outputs": [
        {
          "output_type": "display_data",
          "data": {
            "text/plain": [
              "<Figure size 1440x720 with 16 Axes>"
            ],
            "image/png": "[encoded data removed]"
          },
          "metadata": {
            "needs_background": "light"
          }
        }
      ]
    },
    {
      "cell_type": "markdown",
      "source": [
        "데이터 간의 상관계수를 확인합니다.\n",
        "\n",
        "(결정계수도 있지만 최대한 코드를 간단하게 하고자 합니다.)"
      ],
      "metadata": {
        "id": "wSD6WqlxngCY"
      }
    },
    {
      "cell_type": "code",
      "source": [
        "corr_matrix=data.corr()# 상관계수를 확인합니다. \n",
        "corr_matrix['quality']"
      ],
      "metadata": {
        "colab": {
          "base_uri": "https://localhost:8080/"
        },
        "id": "4QaymocYsTkw",
        "outputId": "12a433eb-75ff-45f4-c5f9-f1be87412a80"
      },
      "execution_count": 37,
      "outputs": [
        {
          "output_type": "execute_result",
          "data": {
            "text/plain": [
              "fixed acidity          -0.076743\n",
              "volatile acidity       -0.265699\n",
              "citric acid             0.085532\n",
              "residual sugar         -0.036980\n",
              "chlorides              -0.200666\n",
              "free sulfur dioxide     0.055463\n",
              "total sulfur dioxide   -0.041385\n",
              "density                -0.305858\n",
              "pH                      0.019506\n",
              "sulphates               0.038485\n",
              "alcohol                 0.444319\n",
              "quality                 1.000000\n",
              "target                  0.119323\n",
              "Name: quality, dtype: float64"
            ]
          },
          "metadata": {},
          "execution_count": 37
        }
      ]
    },
    {
      "cell_type": "markdown",
      "source": [
        "상관계수가 높은 성분을 2개 선택해보았습니다.\n",
        "\n",
        " 'total sulfur dioxide','volatile acidity'를 x,y축으로 두고 색상은 와인분류(target)으로 두고 표현했습니다."
      ],
      "metadata": {
        "id": "B8HCP36apZ4Q"
      }
    },
    {
      "cell_type": "code",
      "source": [
        "#cmap은 수치에 맞게 색상을 구분하여 표현한 것입니다. 검색을 해보시면 rainbow외에 다양한 것이 있습니다. \n",
        "#alpha는 투명도인데 산점도가 겹쳐도 보이도록 합니다.\n",
        "#sharex는 그래프 테두리를 사라지게 해서 예쁘게 보입니다. 필수적인 요소는 아닙니다. \n",
        "data.plot(kind='scatter', x='volatile acidity',y='alcohol',c='quality' ,cmap='rainbow', alpha=0.6, sharex=False) #scatter는 산점도, c는 색상대상, cmap은 색tkd, alpha는 투명도, sharex는 테두리 없애기\n",
        "plt.show()"
      ],
      "metadata": {
        "colab": {
          "base_uri": "https://localhost:8080/",
          "height": 283
        },
        "id": "JhV8dsD8sTnj",
        "outputId": "28a93f7f-030d-40f0-b5b9-16537b32e996"
      },
      "execution_count": 38,
      "outputs": [
        {
          "output_type": "display_data",
          "data": {
            "text/plain": [
              "<Figure size 432x288 with 2 Axes>"
            ],
            "image/png": "[encoded data removed]"
          },
          "metadata": {
            "needs_background": "light"
          }
        }
      ]
    },
    {
      "cell_type": "markdown",
      "source": [
        "데이터의 결측치를 제거합니다. \n",
        "\n",
        "결측치는 빈칸입니다. 빈칸을 처리하는 방법은 0, 평균, 앞의수, 뒤의수 등 다양하게 채우는 방법이 있지만 , 여기서는 빈칸이 있는 행은 모두 삭제하겠습니다."
      ],
      "metadata": {
        "id": "Hfa0e84TtIvq"
      }
    },
    {
      "cell_type": "code",
      "source": [
        "data=data.dropna()"
      ],
      "metadata": {
        "id": "qMbTQg0rsTiB"
      },
      "execution_count": 39,
      "outputs": []
    },
    {
      "cell_type": "markdown",
      "source": [
        "7개의 데이터를 선택해보았습니다."
      ],
      "metadata": {
        "id": "wxZ1yqiqtNlI"
      }
    },
    {
      "cell_type": "code",
      "source": [
        "x=data[['target','alcohol','fixed acidity','volatile acidity','chlorides','chlorides','total sulfur dioxide','sulphates','free sulfur dioxide']]\n",
        "y=data['quality']"
      ],
      "metadata": {
        "id": "c_rSCWZ9sTqp"
      },
      "execution_count": 40,
      "outputs": []
    },
    {
      "cell_type": "markdown",
      "source": [
        "데이터를 분할해보겠습니다.\n",
        "\n",
        "전체데이터를 훈련데이터와 테스트데이터 2개로 나눕니다. "
      ],
      "metadata": {
        "id": "CfYXcaNwwqfW"
      }
    },
    {
      "cell_type": "code",
      "source": [
        "from sklearn.model_selection import train_test_split #데이터를 나누는 sklearn모듈을 불러옵니다. \n",
        "x_train,x_test, y_train, y_test=train_test_split(x,y, test_size=0.3, random_state=42)"
      ],
      "metadata": {
        "id": "0IVdgLxFsTtz"
      },
      "execution_count": 41,
      "outputs": []
    },
    {
      "cell_type": "markdown",
      "source": [
        "데이터의 행태를 확인합니다.\n",
        "\n",
        "위에서 선택한 7개의 성분을 묶어서 벡터(1차원 텐서)가 됩니다.\n",
        "\n",
        "이러한 벡터가 4547개를 모아서 모델을 훈련합니다.\n",
        "\n",
        "나머지 벡터 1950개는 나중에 모델을 테스트하는 것에 쓰입니다."
      ],
      "metadata": {
        "id": "0dElklSqttOP"
      }
    },
    {
      "cell_type": "code",
      "source": [
        "print(x_train.shape)\n",
        "print(y_train.shape)\n",
        "print(x_test.shape)\n",
        "print(y_test.shape)"
      ],
      "metadata": {
        "colab": {
          "base_uri": "https://localhost:8080/"
        },
        "id": "g82pL0zguLzN",
        "outputId": "3a5299d4-1095-44be-d6c4-ecfc1a72c9a9"
      },
      "execution_count": 42,
      "outputs": [
        {
          "output_type": "stream",
          "name": "stdout",
          "text": [
            "(4547, 9)\n",
            "(4547,)\n",
            "(1950, 9)\n",
            "(1950,)\n"
          ]
        }
      ]
    },
    {
      "cell_type": "markdown",
      "source": [
        "데이터를 확률과통계시간에 배운 표준화해보겠습니다. \n",
        "\n",
        "$$y={{x-m}\\over{\\sigma}}$$"
      ],
      "metadata": {
        "id": "P0oN6UL0v2y3"
      }
    },
    {
      "cell_type": "markdown",
      "source": [
        "표준화 전 후의 정확도는 차이가 있는 것을 확인할 수 있습니다. "
      ],
      "metadata": {
        "id": "Me-Owcim2VcB"
      }
    },
    {
      "cell_type": "code",
      "source": [
        "#각 성분별로 평균을 구해줍니다. \n",
        "mean=x_train.mean(axis=0)\n",
        "std=x_train.std(axis=0)"
      ],
      "metadata": {
        "id": "l-Wi9lfCuL6B"
      },
      "execution_count": 43,
      "outputs": []
    },
    {
      "cell_type": "code",
      "source": [
        "print(mean)\n",
        "print(std)"
      ],
      "metadata": {
        "colab": {
          "base_uri": "https://localhost:8080/"
        },
        "id": "_PjXpFecuMBb",
        "outputId": "599bd9d2-66c0-43b4-bea9-0971506f18bd"
      },
      "execution_count": 44,
      "outputs": [
        {
          "output_type": "stream",
          "name": "stdout",
          "text": [
            "target                    0.753244\n",
            "alcohol                  10.501278\n",
            "fixed acidity             7.221190\n",
            "volatile acidity          0.340598\n",
            "chlorides                 0.056068\n",
            "chlorides                 0.056068\n",
            "total sulfur dioxide    115.317902\n",
            "sulphates                 0.533613\n",
            "free sulfur dioxide      30.421707\n",
            "dtype: float64\n",
            "target                   0.431171\n",
            "alcohol                  1.195221\n",
            "fixed acidity            1.303680\n",
            "volatile acidity         0.166428\n",
            "chlorides                0.034652\n",
            "chlorides                0.034652\n",
            "total sulfur dioxide    56.168329\n",
            "sulphates                0.151784\n",
            "free sulfur dioxide     17.452693\n",
            "dtype: float64\n"
          ]
        }
      ]
    },
    {
      "cell_type": "markdown",
      "source": [
        "데이터를 모두 표준화시켜줍니다."
      ],
      "metadata": {
        "id": "_pYavWX_xaww"
      }
    },
    {
      "cell_type": "code",
      "source": [
        "x_train-=mean\n",
        "x_train/=std\n",
        "x_test-=mean\n",
        "x_test/=std"
      ],
      "metadata": {
        "id": "iwU7HMYauMJD"
      },
      "execution_count": 45,
      "outputs": []
    },
    {
      "cell_type": "markdown",
      "source": [
        "인공신경망 모델을 만들고자 합니다. "
      ],
      "metadata": {
        "id": "x0cKJr6cxr4S"
      }
    },
    {
      "cell_type": "code",
      "source": [
        "from tensorflow import keras #인공신경망을 다루는 파이썬 모듈\n",
        "from tensorflow.keras.models import Sequential #인공신경망 시작한다는 뜻\n",
        "from tensorflow.keras.layers import Dense # 인공신경망의 층을 넣는다는 뜻\n",
        "\n",
        "model = Sequential()\n",
        "model.add(Dense(20, input_dim=9,activation='relu')) # 성분이 9개이므로 노드 9개짜리 은닉층 추가, relu는 활성화 함수\n",
        "model.add(Dense(10, activation='relu'))\n",
        "model.add(Dense(3, activation='relu'))\n",
        "model.add(Dense(10, activation='softmax')) #출력층, 와인등급은 10개 이므로 10입력\n",
        "opt=keras.optimizers.Adam(learning_rate=0.01) #확률적 경사하강법대신 Adam을 이용, 학습률 확인\n",
        "model.compile(optimizer=opt, loss='sparse_categorical_crossentropy', metrics=['acc'])"
      ],
      "metadata": {
        "id": "fUnDtaCVuMP4"
      },
      "execution_count": 90,
      "outputs": []
    },
    {
      "cell_type": "markdown",
      "source": [
        "모델을 실행합니다. \n",
        "epoch는 반복횟수이고, batch_size는 훈련데이터 단위입니다.\n",
        "\n",
        "예를 들면 100개의 데이터에서 epoch=5, batch_size=10이면\n",
        "100개를 10개씩 묶어주고 묶음마다 1개만 훈련합니다.\n",
        "이러한 방법으로 5회 반복합니다.\n",
        "\n",
        "그리고 시간을 확인하면서 배치사이즈와 에포크에 따라 비교합시다. "
      ],
      "metadata": {
        "id": "PjwWj4qGyOZi"
      }
    },
    {
      "cell_type": "code",
      "source": [
        "import time\n",
        "a=time.time()\n",
        "hist = model.fit(x_train, y_train, shuffle=True, epochs=10, batch_size=10)\n",
        "b=time.time()\n",
        "print(b-a)"
      ],
      "metadata": {
        "colab": {
          "base_uri": "https://localhost:8080/"
        },
        "id": "hUwHbZ99ubQD",
        "outputId": "9c041c48-7616-4084-c379-59386b33e142"
      },
      "execution_count": 91,
      "outputs": [
        {
          "output_type": "stream",
          "name": "stdout",
          "text": [
            "Epoch 1/10\n",
            "455/455 [==============================] - 2s 3ms/step - loss: 1.1954 - acc: 0.4953\n",
            "Epoch 2/10\n",
            "455/455 [==============================] - 1s 2ms/step - loss: 1.1064 - acc: 0.5256\n",
            "Epoch 3/10\n",
            "455/455 [==============================] - 1s 2ms/step - loss: 1.0875 - acc: 0.5333\n",
            "Epoch 4/10\n",
            "455/455 [==============================] - 1s 3ms/step - loss: 1.0751 - acc: 0.5419\n",
            "Epoch 5/10\n",
            "455/455 [==============================] - 1s 2ms/step - loss: 1.0671 - acc: 0.5472\n",
            "Epoch 6/10\n",
            "455/455 [==============================] - 1s 2ms/step - loss: 1.0615 - acc: 0.5496\n",
            "Epoch 7/10\n",
            "455/455 [==============================] - 1s 2ms/step - loss: 1.0562 - acc: 0.5492\n",
            "Epoch 8/10\n",
            "455/455 [==============================] - 1s 2ms/step - loss: 1.0541 - acc: 0.5538\n",
            "Epoch 9/10\n",
            "455/455 [==============================] - 1s 2ms/step - loss: 1.0525 - acc: 0.5474\n",
            "Epoch 10/10\n",
            "455/455 [==============================] - 1s 3ms/step - loss: 1.0459 - acc: 0.5558\n",
            "11.71688175201416\n"
          ]
        }
      ]
    },
    {
      "cell_type": "code",
      "source": [
        "import matplotlib.pyplot as plt\n",
        "plt.plot(hist.history['loss'], label='train_loss')\n",
        "plt.legend()\n",
        "plt.show()"
      ],
      "metadata": {
        "colab": {
          "base_uri": "https://localhost:8080/",
          "height": 265
        },
        "id": "AnlcmwKEubXF",
        "outputId": "f0bea1d4-c32f-4415-f58f-cee8b142ce23"
      },
      "execution_count": 79,
      "outputs": [
        {
          "output_type": "display_data",
          "data": {
            "text/plain": [
              "<Figure size 432x288 with 1 Axes>"
            ],
            "image/png": "[encoded data removed]"
          },
          "metadata": {
            "needs_background": "light"
          }
        }
      ]
    },
    {
      "cell_type": "code",
      "source": [
        "import matplotlib.pyplot as plt\n",
        "plt.plot(hist.history['acc'],  label='train_acc')\n",
        "plt.legend()\n",
        "plt.show()"
      ],
      "metadata": {
        "colab": {
          "base_uri": "https://localhost:8080/",
          "height": 265
        },
        "id": "6IwcljG9ubdx",
        "outputId": "a3ae3f14-70ab-46a5-a624-ebd49a389f86"
      },
      "execution_count": 80,
      "outputs": [
        {
          "output_type": "display_data",
          "data": {
            "text/plain": [
              "<Figure size 432x288 with 1 Axes>"
            ],
            "image/png": "[encoded data removed]"
          },
          "metadata": {
            "needs_background": "light"
          }
        }
      ]
    },
    {
      "cell_type": "code",
      "source": [
        "y_pred=model.predict(x_test)\n",
        "y_pred[1]"
      ],
      "metadata": {
        "colab": {
          "base_uri": "https://localhost:8080/"
        },
        "id": "iYeYI-1v92O2",
        "outputId": "4de131f2-07a5-4607-84c9-5e7014381b59"
      },
      "execution_count": 81,
      "outputs": [
        {
          "output_type": "stream",
          "name": "stdout",
          "text": [
            "61/61 [==============================] - 0s 2ms/step\n"
          ]
        },
        {
          "output_type": "execute_result",
          "data": {
            "text/plain": [
              "array([2.6550733e-06, 8.3083000e-07, 1.3296190e-06, 1.1582929e-03,\n",
              "       4.7176373e-03, 9.4363071e-02, 5.0918329e-01, 3.2106268e-01,\n",
              "       6.7300335e-02, 2.2097176e-03], dtype=float32)"
            ]
          },
          "metadata": {},
          "execution_count": 81
        }
      ]
    },
    {
      "cell_type": "code",
      "source": [
        "import numpy as np\n",
        "y_pred=np.argmax(model.predict(x_test), axis=-1)\n",
        "print(y_pred)\n",
        "print(y_test)"
      ],
      "metadata": {
        "colab": {
          "base_uri": "https://localhost:8080/"
        },
        "id": "zkkfWG-V5szN",
        "outputId": "7f3f2f19-ba6e-4b98-d01a-e9eee8668d41"
      },
      "execution_count": 92,
      "outputs": [
        {
          "output_type": "stream",
          "name": "stdout",
          "text": [
            "61/61 [==============================] - 0s 2ms/step\n",
            "[7 6 6 ... 6 5 6]\n",
            "3103    7\n",
            "1419    7\n",
            "4761    6\n",
            "4690    6\n",
            "4032    5\n",
            "       ..\n",
            "4294    5\n",
            "3757    5\n",
            "5954    7\n",
            "4418    6\n",
            "6182    5\n",
            "Name: quality, Length: 1950, dtype: int64\n"
          ]
        }
      ]
    },
    {
      "cell_type": "code",
      "source": [
        "from sklearn.metrics import confusion_matrix\n",
        "confusion_matrix(y_pred, y_test)"
      ],
      "metadata": {
        "colab": {
          "base_uri": "https://localhost:8080/"
        },
        "id": "OP-37gd2qrOe",
        "outputId": "822cefff-3872-42d7-b758-e059ea12759b"
      },
      "execution_count": 93,
      "outputs": [
        {
          "output_type": "execute_result",
          "data": {
            "text/plain": [
              "array([[  0,   0,   0,   0,   0,   0],\n",
              "       [  0,   0,   0,   0,   0,   0],\n",
              "       [  4,  41, 410, 210,  16,   0],\n",
              "       [  2,  22, 222, 495, 178,  24],\n",
              "       [  0,   0,   8, 157, 131,  30],\n",
              "       [  0,   0,   0,   0,   0,   0]])"
            ]
          },
          "metadata": {},
          "execution_count": 93
        }
      ]
    },
    {
      "cell_type": "code",
      "source": [
        "plt.figure(figsize=(10,10))\n",
        "plt.hist(y_test, alpha=0.3,label='test')\n",
        "plt.hist(y_pred, alpha=0.3,label='pred')\n",
        "plt.xlabel('test')\n",
        "plt.ylabel('prediction')\n",
        "plt.grid()\n",
        "plt.legend()\n",
        "plt.show()"
      ],
      "metadata": {
        "colab": {
          "base_uri": "https://localhost:8080/",
          "height": 606
        },
        "id": "taZf3o0JscZe",
        "outputId": "f839ff2e-0958-404b-9788-f5a9adf7ce7b"
      },
      "execution_count": 95,
      "outputs": [
        {
          "output_type": "display_data",
          "data": {
            "text/plain": [
              "<Figure size 720x720 with 1 Axes>"
            ],
            "image/png": "[encoded data removed]"
          },
          "metadata": {
            "needs_background": "light"
          }
        }
      ]
    },
    {
      "cell_type": "code",
      "source": [],
      "metadata": {
        "id": "B3Q5jcQ5sooq"
      },
      "execution_count": null,
      "outputs": []
    }
  ]
}