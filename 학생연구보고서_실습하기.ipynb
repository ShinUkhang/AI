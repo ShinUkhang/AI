{
  "nbformat": 4,
  "nbformat_minor": 0,
  "metadata": {
    "colab": {
      "provenance": [],
      "authorship_tag": "ABX9TyO5N6uXJJ7qAu9BNZvU2Ovq",
      "include_colab_link": true
    },
    "kernelspec": {
      "name": "python3",
      "display_name": "Python 3"
    },
    "language_info": {
      "name": "python"
    }
  },
  "cells": [
    {
      "cell_type": "markdown",
      "metadata": {
        "id": "view-in-github",
        "colab_type": "text"
      },
      "source": [
        "<a href=\"https://colab.research.google.com/github/ShinUkhang/AI/blob/main/%ED%95%99%EC%83%9D%EC%97%B0%EA%B5%AC%EB%B3%B4%EA%B3%A0%EC%84%9C_%EC%8B%A4%EC%8A%B5%ED%95%98%EA%B8%B0.ipynb\" target=\"_parent\"><img src=\"https://colab.research.google.com/assets/colab-badge.svg\" alt=\"Open In Colab\"/></a>"
      ]
    },
    {
      "cell_type": "markdown",
      "source": [
        "#**분류할 데이터를 불러옵니다.**\n",
        "\n",
        "**(# 표시는 주석으로 컴퓨터가 코드로 생각하지 않습니다.)**"
      ],
      "metadata": {
        "id": "2KtF9cynfnt_"
      }
    },
    {
      "cell_type": "code",
      "execution_count": 1,
      "metadata": {
        "colab": {
          "base_uri": "https://localhost:8080/",
          "height": 77
        },
        "id": "52-Jpmm2rgt2",
        "outputId": "8754e890-faea-46cb-b275-1e7ac43db73e"
      },
      "outputs": [
        {
          "output_type": "display_data",
          "data": {
            "text/plain": [
              "<IPython.core.display.HTML object>"
            ],
            "text/html": [
              "\n",
              "     <input type=\"file\" id=\"files-8b4d6c9a-1a3d-4a94-8c9c-3b356d8b1524\" name=\"files[]\" multiple disabled\n",
              "        style=\"border:none\" />\n",
              "     <output id=\"result-8b4d6c9a-1a3d-4a94-8c9c-3b356d8b1524\">\n",
              "      Upload widget is only available when the cell has been executed in the\n",
              "      current browser session. Please rerun this cell to enable.\n",
              "      </output>\n",
              "      <script>// Copyright 2017 Google LLC\n",
              "//\n",
              "// Licensed under the Apache License, Version 2.0 (the \"License\");\n",
              "// you may not use this file except in compliance with the License.\n",
              "// You may obtain a copy of the License at\n",
              "//\n",
              "//      http://www.apache.org/licenses/LICENSE-2.0\n",
              "//\n",
              "// Unless required by applicable law or agreed to in writing, software\n",
              "// distributed under the License is distributed on an \"AS IS\" BASIS,\n",
              "// WITHOUT WARRANTIES OR CONDITIONS OF ANY KIND, either express or implied.\n",
              "// See the License for the specific language governing permissions and\n",
              "// limitations under the License.\n",
              "\n",
              "/**\n",
              " * @fileoverview Helpers for google.colab Python module.\n",
              " */\n",
              "(function(scope) {\n",
              "function span(text, styleAttributes = {}) {\n",
              "  const element = document.createElement('span');\n",
              "  element.textContent = text;\n",
              "  for (const key of Object.keys(styleAttributes)) {\n",
              "    element.style[key] = styleAttributes[key];\n",
              "  }\n",
              "  return element;\n",
              "}\n",
              "\n",
              "// Max number of bytes which will be uploaded at a time.\n",
              "const MAX_PAYLOAD_SIZE = 100 * 1024;\n",
              "\n",
              "function _uploadFiles(inputId, outputId) {\n",
              "  const steps = uploadFilesStep(inputId, outputId);\n",
              "  const outputElement = document.getElementById(outputId);\n",
              "  // Cache steps on the outputElement to make it available for the next call\n",
              "  // to uploadFilesContinue from Python.\n",
              "  outputElement.steps = steps;\n",
              "\n",
              "  return _uploadFilesContinue(outputId);\n",
              "}\n",
              "\n",
              "// This is roughly an async generator (not supported in the browser yet),\n",
              "// where there are multiple asynchronous steps and the Python side is going\n",
              "// to poll for completion of each step.\n",
              "// This uses a Promise to block the python side on completion of each step,\n",
              "// then passes the result of the previous step as the input to the next step.\n",
              "function _uploadFilesContinue(outputId) {\n",
              "  const outputElement = document.getElementById(outputId);\n",
              "  const steps = outputElement.steps;\n",
              "\n",
              "  const next = steps.next(outputElement.lastPromiseValue);\n",
              "  return Promise.resolve(next.value.promise).then((value) => {\n",
              "    // Cache the last promise value to make it available to the next\n",
              "    // step of the generator.\n",
              "    outputElement.lastPromiseValue = value;\n",
              "    return next.value.response;\n",
              "  });\n",
              "}\n",
              "\n",
              "/**\n",
              " * Generator function which is called between each async step of the upload\n",
              " * process.\n",
              " * @param {string} inputId Element ID of the input file picker element.\n",
              " * @param {string} outputId Element ID of the output display.\n",
              " * @return {!Iterable<!Object>} Iterable of next steps.\n",
              " */\n",
              "function* uploadFilesStep(inputId, outputId) {\n",
              "  const inputElement = document.getElementById(inputId);\n",
              "  inputElement.disabled = false;\n",
              "\n",
              "  const outputElement = document.getElementById(outputId);\n",
              "  outputElement.innerHTML = '';\n",
              "\n",
              "  const pickedPromise = new Promise((resolve) => {\n",
              "    inputElement.addEventListener('change', (e) => {\n",
              "      resolve(e.target.files);\n",
              "    });\n",
              "  });\n",
              "\n",
              "  const cancel = document.createElement('button');\n",
              "  inputElement.parentElement.appendChild(cancel);\n",
              "  cancel.textContent = 'Cancel upload';\n",
              "  const cancelPromise = new Promise((resolve) => {\n",
              "    cancel.onclick = () => {\n",
              "      resolve(null);\n",
              "    };\n",
              "  });\n",
              "\n",
              "  // Wait for the user to pick the files.\n",
              "  const files = yield {\n",
              "    promise: Promise.race([pickedPromise, cancelPromise]),\n",
              "    response: {\n",
              "      action: 'starting',\n",
              "    }\n",
              "  };\n",
              "\n",
              "  cancel.remove();\n",
              "\n",
              "  // Disable the input element since further picks are not allowed.\n",
              "  inputElement.disabled = true;\n",
              "\n",
              "  if (!files) {\n",
              "    return {\n",
              "      response: {\n",
              "        action: 'complete',\n",
              "      }\n",
              "    };\n",
              "  }\n",
              "\n",
              "  for (const file of files) {\n",
              "    const li = document.createElement('li');\n",
              "    li.append(span(file.name, {fontWeight: 'bold'}));\n",
              "    li.append(span(\n",
              "        `(${file.type || 'n/a'}) - ${file.size} bytes, ` +\n",
              "        `last modified: ${\n",
              "            file.lastModifiedDate ? file.lastModifiedDate.toLocaleDateString() :\n",
              "                                    'n/a'} - `));\n",
              "    const percent = span('0% done');\n",
              "    li.appendChild(percent);\n",
              "\n",
              "    outputElement.appendChild(li);\n",
              "\n",
              "    const fileDataPromise = new Promise((resolve) => {\n",
              "      const reader = new FileReader();\n",
              "      reader.onload = (e) => {\n",
              "        resolve(e.target.result);\n",
              "      };\n",
              "      reader.readAsArrayBuffer(file);\n",
              "    });\n",
              "    // Wait for the data to be ready.\n",
              "    let fileData = yield {\n",
              "      promise: fileDataPromise,\n",
              "      response: {\n",
              "        action: 'continue',\n",
              "      }\n",
              "    };\n",
              "\n",
              "    // Use a chunked sending to avoid message size limits. See b/62115660.\n",
              "    let position = 0;\n",
              "    do {\n",
              "      const length = Math.min(fileData.byteLength - position, MAX_PAYLOAD_SIZE);\n",
              "      const chunk = new Uint8Array(fileData, position, length);\n",
              "      position += length;\n",
              "\n",
              "      const base64 = btoa(String.fromCharCode.apply(null, chunk));\n",
              "      yield {\n",
              "        response: {\n",
              "          action: 'append',\n",
              "          file: file.name,\n",
              "          data: base64,\n",
              "        },\n",
              "      };\n",
              "\n",
              "      let percentDone = fileData.byteLength === 0 ?\n",
              "          100 :\n",
              "          Math.round((position / fileData.byteLength) * 100);\n",
              "      percent.textContent = `${percentDone}% done`;\n",
              "\n",
              "    } while (position < fileData.byteLength);\n",
              "  }\n",
              "\n",
              "  // All done.\n",
              "  yield {\n",
              "    response: {\n",
              "      action: 'complete',\n",
              "    }\n",
              "  };\n",
              "}\n",
              "\n",
              "scope.google = scope.google || {};\n",
              "scope.google.colab = scope.google.colab || {};\n",
              "scope.google.colab._files = {\n",
              "  _uploadFiles,\n",
              "  _uploadFilesContinue,\n",
              "};\n",
              "})(self);\n",
              "</script> "
            ]
          },
          "metadata": {}
        },
        {
          "output_type": "stream",
          "name": "stdout",
          "text": [
            "Saving project.csv to project.csv\n"
          ]
        }
      ],
      "source": [
        "#구글 코랩의 files라는 모듈을 불러옵니다. \n",
        "from google.colab import files \n",
        "uploaded=files.upload()"
      ]
    },
    {
      "cell_type": "markdown",
      "source": [
        "판다스(표,테이블을 다루는 파이썬)으로 파일을 불러옵니다.\n",
        "\n",
        "파일이름을 정확하게 입력해야 오류가 없습니다. "
      ],
      "metadata": {
        "id": "p7U3xt3WiN79"
      }
    },
    {
      "cell_type": "code",
      "source": [
        "import pandas as pd\n",
        "data=pd.read_csv('project.csv') #파일을 못 읽으면 encoding='cp949'을 추가해서 실행하세요. \n",
        "data=pd.DataFrame(data) "
      ],
      "metadata": {
        "id": "GkYN-75irzGQ"
      },
      "execution_count": 2,
      "outputs": []
    },
    {
      "cell_type": "code",
      "source": [
        "data.head()"
      ],
      "metadata": {
        "colab": {
          "base_uri": "https://localhost:8080/",
          "height": 206
        },
        "id": "LKb9Y0ywsTW7",
        "outputId": "46707703-2b22-460c-b965-0a7785408869"
      },
      "execution_count": 3,
      "outputs": [
        {
          "output_type": "execute_result",
          "data": {
            "text/plain": [
              "   id  temp  area  cabbage  carrot  apple  count\n",
              "0   1    35   713        1       0      0     36\n",
              "1   2    35   713        0       1      0     38\n",
              "2   3    35   713        0       0      1     35\n",
              "3   4    35   713        0       0      0     35\n",
              "4   5    30   713        1       0      0     39"
            ],
            "text/html": [
              "\n",
              "  <div id=\"df-ed4f0fc0-c47d-4c1d-81e0-c27c7d95a9a7\">\n",
              "    <div class=\"colab-df-container\">\n",
              "      <div>\n",
              "<style scoped>\n",
              "    .dataframe tbody tr th:only-of-type {\n",
              "        vertical-align: middle;\n",
              "    }\n",
              "\n",
              "    .dataframe tbody tr th {\n",
              "        vertical-align: top;\n",
              "    }\n",
              "\n",
              "    .dataframe thead th {\n",
              "        text-align: right;\n",
              "    }\n",
              "</style>\n",
              "<table border=\"1\" class=\"dataframe\">\n",
              "  <thead>\n",
              "    <tr style=\"text-align: right;\">\n",
              "      <th></th>\n",
              "      <th>id</th>\n",
              "      <th>temp</th>\n",
              "      <th>area</th>\n",
              "      <th>cabbage</th>\n",
              "      <th>carrot</th>\n",
              "      <th>apple</th>\n",
              "      <th>count</th>\n",
              "    </tr>\n",
              "  </thead>\n",
              "  <tbody>\n",
              "    <tr>\n",
              "      <th>0</th>\n",
              "      <td>1</td>\n",
              "      <td>35</td>\n",
              "      <td>713</td>\n",
              "      <td>1</td>\n",
              "      <td>0</td>\n",
              "      <td>0</td>\n",
              "      <td>36</td>\n",
              "    </tr>\n",
              "    <tr>\n",
              "      <th>1</th>\n",
              "      <td>2</td>\n",
              "      <td>35</td>\n",
              "      <td>713</td>\n",
              "      <td>0</td>\n",
              "      <td>1</td>\n",
              "      <td>0</td>\n",
              "      <td>38</td>\n",
              "    </tr>\n",
              "    <tr>\n",
              "      <th>2</th>\n",
              "      <td>3</td>\n",
              "      <td>35</td>\n",
              "      <td>713</td>\n",
              "      <td>0</td>\n",
              "      <td>0</td>\n",
              "      <td>1</td>\n",
              "      <td>35</td>\n",
              "    </tr>\n",
              "    <tr>\n",
              "      <th>3</th>\n",
              "      <td>4</td>\n",
              "      <td>35</td>\n",
              "      <td>713</td>\n",
              "      <td>0</td>\n",
              "      <td>0</td>\n",
              "      <td>0</td>\n",
              "      <td>35</td>\n",
              "    </tr>\n",
              "    <tr>\n",
              "      <th>4</th>\n",
              "      <td>5</td>\n",
              "      <td>30</td>\n",
              "      <td>713</td>\n",
              "      <td>1</td>\n",
              "      <td>0</td>\n",
              "      <td>0</td>\n",
              "      <td>39</td>\n",
              "    </tr>\n",
              "  </tbody>\n",
              "</table>\n",
              "</div>\n",
              "      <button class=\"colab-df-convert\" onclick=\"convertToInteractive('df-ed4f0fc0-c47d-4c1d-81e0-c27c7d95a9a7')\"\n",
              "              title=\"Convert this dataframe to an interactive table.\"\n",
              "              style=\"display:none;\">\n",
              "        \n",
              "  <svg xmlns=\"http://www.w3.org/2000/svg\" height=\"24px\"viewBox=\"0 0 24 24\"\n",
              "       width=\"24px\">\n",
              "    <path d=\"M0 0h24v24H0V0z\" fill=\"none\"/>\n",
              "    <path d=\"M18.56 5.44l.94 2.06.94-2.06 2.06-.94-2.06-.94-.94-2.06-.94 2.06-2.06.94zm-11 1L8.5 8.5l.94-2.06 2.06-.94-2.06-.94L8.5 2.5l-.94 2.06-2.06.94zm10 10l.94 2.06.94-2.06 2.06-.94-2.06-.94-.94-2.06-.94 2.06-2.06.94z\"/><path d=\"M17.41 7.96l-1.37-1.37c-.4-.4-.92-.59-1.43-.59-.52 0-1.04.2-1.43.59L10.3 9.45l-7.72 7.72c-.78.78-.78 2.05 0 2.83L4 21.41c.39.39.9.59 1.41.59.51 0 1.02-.2 1.41-.59l7.78-7.78 2.81-2.81c.8-.78.8-2.07 0-2.86zM5.41 20L4 18.59l7.72-7.72 1.47 1.35L5.41 20z\"/>\n",
              "  </svg>\n",
              "      </button>\n",
              "      \n",
              "  <style>\n",
              "    .colab-df-container {\n",
              "      display:flex;\n",
              "      flex-wrap:wrap;\n",
              "      gap: 12px;\n",
              "    }\n",
              "\n",
              "    .colab-df-convert {\n",
              "      background-color: #E8F0FE;\n",
              "      border: none;\n",
              "      border-radius: 50%;\n",
              "      cursor: pointer;\n",
              "      display: none;\n",
              "      fill: #1967D2;\n",
              "      height: 32px;\n",
              "      padding: 0 0 0 0;\n",
              "      width: 32px;\n",
              "    }\n",
              "\n",
              "    .colab-df-convert:hover {\n",
              "      background-color: #E2EBFA;\n",
              "      box-shadow: 0px 1px 2px rgba(60, 64, 67, 0.3), 0px 1px 3px 1px rgba(60, 64, 67, 0.15);\n",
              "      fill: #174EA6;\n",
              "    }\n",
              "\n",
              "    [theme=dark] .colab-df-convert {\n",
              "      background-color: #3B4455;\n",
              "      fill: #D2E3FC;\n",
              "    }\n",
              "\n",
              "    [theme=dark] .colab-df-convert:hover {\n",
              "      background-color: #434B5C;\n",
              "      box-shadow: 0px 1px 3px 1px rgba(0, 0, 0, 0.15);\n",
              "      filter: drop-shadow(0px 1px 2px rgba(0, 0, 0, 0.3));\n",
              "      fill: #FFFFFF;\n",
              "    }\n",
              "  </style>\n",
              "\n",
              "      <script>\n",
              "        const buttonEl =\n",
              "          document.querySelector('#df-ed4f0fc0-c47d-4c1d-81e0-c27c7d95a9a7 button.colab-df-convert');\n",
              "        buttonEl.style.display =\n",
              "          google.colab.kernel.accessAllowed ? 'block' : 'none';\n",
              "\n",
              "        async function convertToInteractive(key) {\n",
              "          const element = document.querySelector('#df-ed4f0fc0-c47d-4c1d-81e0-c27c7d95a9a7');\n",
              "          const dataTable =\n",
              "            await google.colab.kernel.invokeFunction('convertToInteractive',\n",
              "                                                     [key], {});\n",
              "          if (!dataTable) return;\n",
              "\n",
              "          const docLinkHtml = 'Like what you see? Visit the ' +\n",
              "            '<a target=\"_blank\" href=https://colab.research.google.com/notebooks/data_table.ipynb>data table notebook</a>'\n",
              "            + ' to learn more about interactive tables.';\n",
              "          element.innerHTML = '';\n",
              "          dataTable['output_type'] = 'display_data';\n",
              "          await google.colab.output.renderOutput(dataTable, element);\n",
              "          const docLink = document.createElement('div');\n",
              "          docLink.innerHTML = docLinkHtml;\n",
              "          element.appendChild(docLink);\n",
              "        }\n",
              "      </script>\n",
              "    </div>\n",
              "  </div>\n",
              "  "
            ]
          },
          "metadata": {},
          "execution_count": 3
        }
      ]
    },
    {
      "cell_type": "markdown",
      "source": [
        "# **평균, 표준편차, 최솟값,최댓값, 사분위수를 확인합니다.**"
      ],
      "metadata": {
        "id": "sZCr6IjKkkqk"
      }
    },
    {
      "cell_type": "code",
      "source": [
        "data.describe()"
      ],
      "metadata": {
        "colab": {
          "base_uri": "https://localhost:8080/",
          "height": 300
        },
        "id": "j62fzhUusTZw",
        "outputId": "ace68ecd-4f58-4cf5-bdc4-1045100acc05"
      },
      "execution_count": 4,
      "outputs": [
        {
          "output_type": "execute_result",
          "data": {
            "text/plain": [
              "          id       temp        area    cabbage     carrot      apple  \\\n",
              "count  48.00  48.000000   48.000000  48.000000  48.000000  48.000000   \n",
              "mean   24.50  31.687500  331.250000   0.229167   0.229167   0.229167   \n",
              "std    14.00   5.141224  222.735842   0.424744   0.424744   0.424744   \n",
              "min     1.00  25.000000  204.000000   0.000000   0.000000   0.000000   \n",
              "25%    12.75  25.000000  204.000000   0.000000   0.000000   0.000000   \n",
              "50%    24.50  30.000000  204.000000   0.000000   0.000000   0.000000   \n",
              "75%    36.25  35.000000  331.250000   0.000000   0.000000   0.000000   \n",
              "max    48.00  39.000000  713.000000   1.000000   1.000000   1.000000   \n",
              "\n",
              "           count  \n",
              "count  48.000000  \n",
              "mean   32.625000  \n",
              "std     3.406033  \n",
              "min    26.000000  \n",
              "25%    30.000000  \n",
              "50%    32.500000  \n",
              "75%    35.000000  \n",
              "max    41.000000  "
            ],
            "text/html": [
              "\n",
              "  <div id=\"df-607f4fcb-f81b-4505-bae2-8197bc68db7b\">\n",
              "    <div class=\"colab-df-container\">\n",
              "      <div>\n",
              "<style scoped>\n",
              "    .dataframe tbody tr th:only-of-type {\n",
              "        vertical-align: middle;\n",
              "    }\n",
              "\n",
              "    .dataframe tbody tr th {\n",
              "        vertical-align: top;\n",
              "    }\n",
              "\n",
              "    .dataframe thead th {\n",
              "        text-align: right;\n",
              "    }\n",
              "</style>\n",
              "<table border=\"1\" class=\"dataframe\">\n",
              "  <thead>\n",
              "    <tr style=\"text-align: right;\">\n",
              "      <th></th>\n",
              "      <th>id</th>\n",
              "      <th>temp</th>\n",
              "      <th>area</th>\n",
              "      <th>cabbage</th>\n",
              "      <th>carrot</th>\n",
              "      <th>apple</th>\n",
              "      <th>count</th>\n",
              "    </tr>\n",
              "  </thead>\n",
              "  <tbody>\n",
              "    <tr>\n",
              "      <th>count</th>\n",
              "      <td>48.00</td>\n",
              "      <td>48.000000</td>\n",
              "      <td>48.000000</td>\n",
              "      <td>48.000000</td>\n",
              "      <td>48.000000</td>\n",
              "      <td>48.000000</td>\n",
              "      <td>48.000000</td>\n",
              "    </tr>\n",
              "    <tr>\n",
              "      <th>mean</th>\n",
              "      <td>24.50</td>\n",
              "      <td>31.687500</td>\n",
              "      <td>331.250000</td>\n",
              "      <td>0.229167</td>\n",
              "      <td>0.229167</td>\n",
              "      <td>0.229167</td>\n",
              "      <td>32.625000</td>\n",
              "    </tr>\n",
              "    <tr>\n",
              "      <th>std</th>\n",
              "      <td>14.00</td>\n",
              "      <td>5.141224</td>\n",
              "      <td>222.735842</td>\n",
              "      <td>0.424744</td>\n",
              "      <td>0.424744</td>\n",
              "      <td>0.424744</td>\n",
              "      <td>3.406033</td>\n",
              "    </tr>\n",
              "    <tr>\n",
              "      <th>min</th>\n",
              "      <td>1.00</td>\n",
              "      <td>25.000000</td>\n",
              "      <td>204.000000</td>\n",
              "      <td>0.000000</td>\n",
              "      <td>0.000000</td>\n",
              "      <td>0.000000</td>\n",
              "      <td>26.000000</td>\n",
              "    </tr>\n",
              "    <tr>\n",
              "      <th>25%</th>\n",
              "      <td>12.75</td>\n",
              "      <td>25.000000</td>\n",
              "      <td>204.000000</td>\n",
              "      <td>0.000000</td>\n",
              "      <td>0.000000</td>\n",
              "      <td>0.000000</td>\n",
              "      <td>30.000000</td>\n",
              "    </tr>\n",
              "    <tr>\n",
              "      <th>50%</th>\n",
              "      <td>24.50</td>\n",
              "      <td>30.000000</td>\n",
              "      <td>204.000000</td>\n",
              "      <td>0.000000</td>\n",
              "      <td>0.000000</td>\n",
              "      <td>0.000000</td>\n",
              "      <td>32.500000</td>\n",
              "    </tr>\n",
              "    <tr>\n",
              "      <th>75%</th>\n",
              "      <td>36.25</td>\n",
              "      <td>35.000000</td>\n",
              "      <td>331.250000</td>\n",
              "      <td>0.000000</td>\n",
              "      <td>0.000000</td>\n",
              "      <td>0.000000</td>\n",
              "      <td>35.000000</td>\n",
              "    </tr>\n",
              "    <tr>\n",
              "      <th>max</th>\n",
              "      <td>48.00</td>\n",
              "      <td>39.000000</td>\n",
              "      <td>713.000000</td>\n",
              "      <td>1.000000</td>\n",
              "      <td>1.000000</td>\n",
              "      <td>1.000000</td>\n",
              "      <td>41.000000</td>\n",
              "    </tr>\n",
              "  </tbody>\n",
              "</table>\n",
              "</div>\n",
              "      <button class=\"colab-df-convert\" onclick=\"convertToInteractive('df-607f4fcb-f81b-4505-bae2-8197bc68db7b')\"\n",
              "              title=\"Convert this dataframe to an interactive table.\"\n",
              "              style=\"display:none;\">\n",
              "        \n",
              "  <svg xmlns=\"http://www.w3.org/2000/svg\" height=\"24px\"viewBox=\"0 0 24 24\"\n",
              "       width=\"24px\">\n",
              "    <path d=\"M0 0h24v24H0V0z\" fill=\"none\"/>\n",
              "    <path d=\"M18.56 5.44l.94 2.06.94-2.06 2.06-.94-2.06-.94-.94-2.06-.94 2.06-2.06.94zm-11 1L8.5 8.5l.94-2.06 2.06-.94-2.06-.94L8.5 2.5l-.94 2.06-2.06.94zm10 10l.94 2.06.94-2.06 2.06-.94-2.06-.94-.94-2.06-.94 2.06-2.06.94z\"/><path d=\"M17.41 7.96l-1.37-1.37c-.4-.4-.92-.59-1.43-.59-.52 0-1.04.2-1.43.59L10.3 9.45l-7.72 7.72c-.78.78-.78 2.05 0 2.83L4 21.41c.39.39.9.59 1.41.59.51 0 1.02-.2 1.41-.59l7.78-7.78 2.81-2.81c.8-.78.8-2.07 0-2.86zM5.41 20L4 18.59l7.72-7.72 1.47 1.35L5.41 20z\"/>\n",
              "  </svg>\n",
              "      </button>\n",
              "      \n",
              "  <style>\n",
              "    .colab-df-container {\n",
              "      display:flex;\n",
              "      flex-wrap:wrap;\n",
              "      gap: 12px;\n",
              "    }\n",
              "\n",
              "    .colab-df-convert {\n",
              "      background-color: #E8F0FE;\n",
              "      border: none;\n",
              "      border-radius: 50%;\n",
              "      cursor: pointer;\n",
              "      display: none;\n",
              "      fill: #1967D2;\n",
              "      height: 32px;\n",
              "      padding: 0 0 0 0;\n",
              "      width: 32px;\n",
              "    }\n",
              "\n",
              "    .colab-df-convert:hover {\n",
              "      background-color: #E2EBFA;\n",
              "      box-shadow: 0px 1px 2px rgba(60, 64, 67, 0.3), 0px 1px 3px 1px rgba(60, 64, 67, 0.15);\n",
              "      fill: #174EA6;\n",
              "    }\n",
              "\n",
              "    [theme=dark] .colab-df-convert {\n",
              "      background-color: #3B4455;\n",
              "      fill: #D2E3FC;\n",
              "    }\n",
              "\n",
              "    [theme=dark] .colab-df-convert:hover {\n",
              "      background-color: #434B5C;\n",
              "      box-shadow: 0px 1px 3px 1px rgba(0, 0, 0, 0.15);\n",
              "      filter: drop-shadow(0px 1px 2px rgba(0, 0, 0, 0.3));\n",
              "      fill: #FFFFFF;\n",
              "    }\n",
              "  </style>\n",
              "\n",
              "      <script>\n",
              "        const buttonEl =\n",
              "          document.querySelector('#df-607f4fcb-f81b-4505-bae2-8197bc68db7b button.colab-df-convert');\n",
              "        buttonEl.style.display =\n",
              "          google.colab.kernel.accessAllowed ? 'block' : 'none';\n",
              "\n",
              "        async function convertToInteractive(key) {\n",
              "          const element = document.querySelector('#df-607f4fcb-f81b-4505-bae2-8197bc68db7b');\n",
              "          const dataTable =\n",
              "            await google.colab.kernel.invokeFunction('convertToInteractive',\n",
              "                                                     [key], {});\n",
              "          if (!dataTable) return;\n",
              "\n",
              "          const docLinkHtml = 'Like what you see? Visit the ' +\n",
              "            '<a target=\"_blank\" href=https://colab.research.google.com/notebooks/data_table.ipynb>data table notebook</a>'\n",
              "            + ' to learn more about interactive tables.';\n",
              "          element.innerHTML = '';\n",
              "          dataTable['output_type'] = 'display_data';\n",
              "          await google.colab.output.renderOutput(dataTable, element);\n",
              "          const docLink = document.createElement('div');\n",
              "          docLink.innerHTML = docLinkHtml;\n",
              "          element.appendChild(docLink);\n",
              "        }\n",
              "      </script>\n",
              "    </div>\n",
              "  </div>\n",
              "  "
            ]
          },
          "metadata": {},
          "execution_count": 4
        }
      ]
    },
    {
      "cell_type": "markdown",
      "source": [
        "# **데이터의 형태와 갯수를 확인합니다.**\n",
        "(float64는 실수라는 뜻입니다.)"
      ],
      "metadata": {
        "id": "dKIoGQqrktIT"
      }
    },
    {
      "cell_type": "code",
      "source": [
        "data.info()"
      ],
      "metadata": {
        "colab": {
          "base_uri": "https://localhost:8080/"
        },
        "id": "P25KwfCYsTcj",
        "outputId": "22d33693-e2a3-402d-e4bf-4852c0fcb8ba"
      },
      "execution_count": 5,
      "outputs": [
        {
          "output_type": "stream",
          "name": "stdout",
          "text": [
            "<class 'pandas.core.frame.DataFrame'>\n",
            "RangeIndex: 48 entries, 0 to 47\n",
            "Data columns (total 7 columns):\n",
            " #   Column   Non-Null Count  Dtype\n",
            "---  ------   --------------  -----\n",
            " 0   id       48 non-null     int64\n",
            " 1   temp     48 non-null     int64\n",
            " 2   area     48 non-null     int64\n",
            " 3   cabbage  48 non-null     int64\n",
            " 4   carrot   48 non-null     int64\n",
            " 5   apple    48 non-null     int64\n",
            " 6   count    48 non-null     int64\n",
            "dtypes: int64(7)\n",
            "memory usage: 2.8 KB\n"
          ]
        }
      ]
    },
    {
      "cell_type": "markdown",
      "source": [
        "# **데이터를 히스토그램으로 시각화했습니다.**\n",
        "\n",
        "확률과통계 시간에 배운 정규분포곡선을 나타내는 자료는 무엇인지 확인해봅시다. **(히스토그램이 나타내는 넓이는 모두 1 입니다.)**"
      ],
      "metadata": {
        "id": "4efJg5Q8lkIl"
      }
    },
    {
      "cell_type": "code",
      "source": [
        "#맷플롯립은 데이터를 시각화하여 표와 그래로 보여주는 모듈입니다.\n",
        "#hist는 히스토그램을 의미하여 bins는 계급의 갯수, density는 상대도수, figsize는 크기, color는 색상입니다.\n",
        "import matplotlib.pyplot as plt  \n",
        "data.hist(bins=40, density=True, color='red',figsize=(20,10)) \n",
        "plt.show()"
      ],
      "metadata": {
        "colab": {
          "base_uri": "https://localhost:8080/",
          "height": 607
        },
        "id": "v_hlozw5sTfK",
        "outputId": "bf6bdfa2-be4e-4605-e1ff-5e3f625ccf35"
      },
      "execution_count": 6,
      "outputs": [
        {
          "output_type": "display_data",
          "data": {
            "text/plain": [
              "<Figure size 1440x720 with 9 Axes>"
            ],
            "image/png": "[encoded data removed]"
          },
          "metadata": {
            "needs_background": "light"
          }
        }
      ]
    },
    {
      "cell_type": "markdown",
      "source": [
        "# **데이터 간의 상관계수를 확인합니다.**\n",
        "\n",
        "(결정계수도 있지만 최대한 코드를 간단하게 하고자 합니다.)"
      ],
      "metadata": {
        "id": "wSD6WqlxngCY"
      }
    },
    {
      "cell_type": "code",
      "source": [
        "corr_matrix=data.corr()# 상관계수를 확인합니다. \n",
        "corr_matrix['count']"
      ],
      "metadata": {
        "colab": {
          "base_uri": "https://localhost:8080/"
        },
        "id": "4QaymocYsTkw",
        "outputId": "ef5b2b27-a116-4b91-e178-c6dca5ca0e69"
      },
      "execution_count": 7,
      "outputs": [
        {
          "output_type": "execute_result",
          "data": {
            "text/plain": [
              "id        -0.314568\n",
              "temp      -0.236475\n",
              "area       0.435392\n",
              "cabbage    0.104788\n",
              "carrot     0.295979\n",
              "apple     -0.086404\n",
              "count      1.000000\n",
              "Name: count, dtype: float64"
            ]
          },
          "metadata": {},
          "execution_count": 7
        }
      ]
    },
    {
      "cell_type": "code",
      "source": [
        "import seaborn as sb\n",
        "sb.heatmap(data = data.corr(), fmt = '.2f',annot=True, linewidths=.5, cmap='Blues')"
      ],
      "metadata": {
        "colab": {
          "base_uri": "https://localhost:8080/",
          "height": 287
        },
        "id": "6d239HAysS70",
        "outputId": "3670a892-6a7a-43f9-b60e-f84133c6b813"
      },
      "execution_count": 8,
      "outputs": [
        {
          "output_type": "execute_result",
          "data": {
            "text/plain": [
              "<matplotlib.axes._subplots.AxesSubplot at 0x7fddc9740fd0>"
            ]
          },
          "metadata": {},
          "execution_count": 8
        },
        {
          "output_type": "display_data",
          "data": {
            "text/plain": [
              "<Figure size 432x288 with 2 Axes>"
            ],
            "image/png": "[encoded data removed]"
          },
          "metadata": {
            "needs_background": "light"
          }
        }
      ]
    },
    {
      "cell_type": "markdown",
      "source": [
        "# **데이터의 결측치를 제거합니다.**\n",
        "\n",
        "결측치는 빈칸입니다. 빈칸을 처리하는 방법은 0, 평균, 앞의수, 뒤의수 등 다양하게 채우는 방법이 있지만 , 여기서는 빈칸이 있는 행은 모두 삭제하겠습니다."
      ],
      "metadata": {
        "id": "Hfa0e84TtIvq"
      }
    },
    {
      "cell_type": "code",
      "source": [
        "data.head()"
      ],
      "metadata": {
        "colab": {
          "base_uri": "https://localhost:8080/",
          "height": 206
        },
        "id": "HxcNu0VP0GyJ",
        "outputId": "12996d86-2340-422c-daad-8324f62bf104"
      },
      "execution_count": 11,
      "outputs": [
        {
          "output_type": "execute_result",
          "data": {
            "text/plain": [
              "   id  temp  area  cabbage  carrot  apple  count\n",
              "0   1    35   713        1       0      0     36\n",
              "1   2    35   713        0       1      0     38\n",
              "2   3    35   713        0       0      1     35\n",
              "3   4    35   713        0       0      0     35\n",
              "4   5    30   713        1       0      0     39"
            ],
            "text/html": [
              "\n",
              "  <div id=\"df-bef68267-d035-459c-acf2-113d8e31dd7d\">\n",
              "    <div class=\"colab-df-container\">\n",
              "      <div>\n",
              "<style scoped>\n",
              "    .dataframe tbody tr th:only-of-type {\n",
              "        vertical-align: middle;\n",
              "    }\n",
              "\n",
              "    .dataframe tbody tr th {\n",
              "        vertical-align: top;\n",
              "    }\n",
              "\n",
              "    .dataframe thead th {\n",
              "        text-align: right;\n",
              "    }\n",
              "</style>\n",
              "<table border=\"1\" class=\"dataframe\">\n",
              "  <thead>\n",
              "    <tr style=\"text-align: right;\">\n",
              "      <th></th>\n",
              "      <th>id</th>\n",
              "      <th>temp</th>\n",
              "      <th>area</th>\n",
              "      <th>cabbage</th>\n",
              "      <th>carrot</th>\n",
              "      <th>apple</th>\n",
              "      <th>count</th>\n",
              "    </tr>\n",
              "  </thead>\n",
              "  <tbody>\n",
              "    <tr>\n",
              "      <th>0</th>\n",
              "      <td>1</td>\n",
              "      <td>35</td>\n",
              "      <td>713</td>\n",
              "      <td>1</td>\n",
              "      <td>0</td>\n",
              "      <td>0</td>\n",
              "      <td>36</td>\n",
              "    </tr>\n",
              "    <tr>\n",
              "      <th>1</th>\n",
              "      <td>2</td>\n",
              "      <td>35</td>\n",
              "      <td>713</td>\n",
              "      <td>0</td>\n",
              "      <td>1</td>\n",
              "      <td>0</td>\n",
              "      <td>38</td>\n",
              "    </tr>\n",
              "    <tr>\n",
              "      <th>2</th>\n",
              "      <td>3</td>\n",
              "      <td>35</td>\n",
              "      <td>713</td>\n",
              "      <td>0</td>\n",
              "      <td>0</td>\n",
              "      <td>1</td>\n",
              "      <td>35</td>\n",
              "    </tr>\n",
              "    <tr>\n",
              "      <th>3</th>\n",
              "      <td>4</td>\n",
              "      <td>35</td>\n",
              "      <td>713</td>\n",
              "      <td>0</td>\n",
              "      <td>0</td>\n",
              "      <td>0</td>\n",
              "      <td>35</td>\n",
              "    </tr>\n",
              "    <tr>\n",
              "      <th>4</th>\n",
              "      <td>5</td>\n",
              "      <td>30</td>\n",
              "      <td>713</td>\n",
              "      <td>1</td>\n",
              "      <td>0</td>\n",
              "      <td>0</td>\n",
              "      <td>39</td>\n",
              "    </tr>\n",
              "  </tbody>\n",
              "</table>\n",
              "</div>\n",
              "      <button class=\"colab-df-convert\" onclick=\"convertToInteractive('df-bef68267-d035-459c-acf2-113d8e31dd7d')\"\n",
              "              title=\"Convert this dataframe to an interactive table.\"\n",
              "              style=\"display:none;\">\n",
              "        \n",
              "  <svg xmlns=\"http://www.w3.org/2000/svg\" height=\"24px\"viewBox=\"0 0 24 24\"\n",
              "       width=\"24px\">\n",
              "    <path d=\"M0 0h24v24H0V0z\" fill=\"none\"/>\n",
              "    <path d=\"M18.56 5.44l.94 2.06.94-2.06 2.06-.94-2.06-.94-.94-2.06-.94 2.06-2.06.94zm-11 1L8.5 8.5l.94-2.06 2.06-.94-2.06-.94L8.5 2.5l-.94 2.06-2.06.94zm10 10l.94 2.06.94-2.06 2.06-.94-2.06-.94-.94-2.06-.94 2.06-2.06.94z\"/><path d=\"M17.41 7.96l-1.37-1.37c-.4-.4-.92-.59-1.43-.59-.52 0-1.04.2-1.43.59L10.3 9.45l-7.72 7.72c-.78.78-.78 2.05 0 2.83L4 21.41c.39.39.9.59 1.41.59.51 0 1.02-.2 1.41-.59l7.78-7.78 2.81-2.81c.8-.78.8-2.07 0-2.86zM5.41 20L4 18.59l7.72-7.72 1.47 1.35L5.41 20z\"/>\n",
              "  </svg>\n",
              "      </button>\n",
              "      \n",
              "  <style>\n",
              "    .colab-df-container {\n",
              "      display:flex;\n",
              "      flex-wrap:wrap;\n",
              "      gap: 12px;\n",
              "    }\n",
              "\n",
              "    .colab-df-convert {\n",
              "      background-color: #E8F0FE;\n",
              "      border: none;\n",
              "      border-radius: 50%;\n",
              "      cursor: pointer;\n",
              "      display: none;\n",
              "      fill: #1967D2;\n",
              "      height: 32px;\n",
              "      padding: 0 0 0 0;\n",
              "      width: 32px;\n",
              "    }\n",
              "\n",
              "    .colab-df-convert:hover {\n",
              "      background-color: #E2EBFA;\n",
              "      box-shadow: 0px 1px 2px rgba(60, 64, 67, 0.3), 0px 1px 3px 1px rgba(60, 64, 67, 0.15);\n",
              "      fill: #174EA6;\n",
              "    }\n",
              "\n",
              "    [theme=dark] .colab-df-convert {\n",
              "      background-color: #3B4455;\n",
              "      fill: #D2E3FC;\n",
              "    }\n",
              "\n",
              "    [theme=dark] .colab-df-convert:hover {\n",
              "      background-color: #434B5C;\n",
              "      box-shadow: 0px 1px 3px 1px rgba(0, 0, 0, 0.15);\n",
              "      filter: drop-shadow(0px 1px 2px rgba(0, 0, 0, 0.3));\n",
              "      fill: #FFFFFF;\n",
              "    }\n",
              "  </style>\n",
              "\n",
              "      <script>\n",
              "        const buttonEl =\n",
              "          document.querySelector('#df-bef68267-d035-459c-acf2-113d8e31dd7d button.colab-df-convert');\n",
              "        buttonEl.style.display =\n",
              "          google.colab.kernel.accessAllowed ? 'block' : 'none';\n",
              "\n",
              "        async function convertToInteractive(key) {\n",
              "          const element = document.querySelector('#df-bef68267-d035-459c-acf2-113d8e31dd7d');\n",
              "          const dataTable =\n",
              "            await google.colab.kernel.invokeFunction('convertToInteractive',\n",
              "                                                     [key], {});\n",
              "          if (!dataTable) return;\n",
              "\n",
              "          const docLinkHtml = 'Like what you see? Visit the ' +\n",
              "            '<a target=\"_blank\" href=https://colab.research.google.com/notebooks/data_table.ipynb>data table notebook</a>'\n",
              "            + ' to learn more about interactive tables.';\n",
              "          element.innerHTML = '';\n",
              "          dataTable['output_type'] = 'display_data';\n",
              "          await google.colab.output.renderOutput(dataTable, element);\n",
              "          const docLink = document.createElement('div');\n",
              "          docLink.innerHTML = docLinkHtml;\n",
              "          element.appendChild(docLink);\n",
              "        }\n",
              "      </script>\n",
              "    </div>\n",
              "  </div>\n",
              "  "
            ]
          },
          "metadata": {},
          "execution_count": 11
        }
      ]
    },
    {
      "cell_type": "code",
      "source": [
        "data=data.dropna()"
      ],
      "metadata": {
        "id": "qMbTQg0rsTiB"
      },
      "execution_count": 12,
      "outputs": []
    },
    {
      "cell_type": "code",
      "source": [
        "data.columns"
      ],
      "metadata": {
        "colab": {
          "base_uri": "https://localhost:8080/"
        },
        "id": "i6a_Pi2lIb66",
        "outputId": "77362e17-fb8c-4b74-e901-ebc3e7fd8c52"
      },
      "execution_count": 13,
      "outputs": [
        {
          "output_type": "execute_result",
          "data": {
            "text/plain": [
              "Index(['id', 'temp', 'area', 'cabbage', 'carrot', 'apple', 'count'], dtype='object')"
            ]
          },
          "metadata": {},
          "execution_count": 13
        }
      ]
    },
    {
      "cell_type": "markdown",
      "source": [
        "# **데이터를 선택해보았습니다.**"
      ],
      "metadata": {
        "id": "wxZ1yqiqtNlI"
      }
    },
    {
      "cell_type": "code",
      "source": [
        "x=data[['temp', 'area', 'cabbage', 'carrot', 'apple']]\n",
        "y=data['count']"
      ],
      "metadata": {
        "id": "c_rSCWZ9sTqp"
      },
      "execution_count": 75,
      "outputs": []
    },
    {
      "cell_type": "markdown",
      "source": [
        "# **데이터를 분할해보겠습니다.**\n",
        "\n",
        "전체데이터를 훈련데이터와 테스트데이터 2개로 나눕니다. "
      ],
      "metadata": {
        "id": "CfYXcaNwwqfW"
      }
    },
    {
      "cell_type": "code",
      "source": [
        "from sklearn.model_selection import train_test_split #데이터를 나누는 sklearn모듈을 불러옵니다. \n",
        "x_train,x_test, y_train, y_test=train_test_split(x,y, test_size=0.3, random_state=42)"
      ],
      "metadata": {
        "id": "0IVdgLxFsTtz"
      },
      "execution_count": 15,
      "outputs": []
    },
    {
      "cell_type": "markdown",
      "source": [
        "# **데이터의 행태를 확인합니다.**\n",
        "\n",
        "위에서 선택한 4개의 성분을 묶어서 벡터(1차원 텐서)가 됩니다.\n",
        "\n",
        "이러한 벡터가 929개를 모아서 모델을 훈련합니다.\n",
        "\n",
        "나머지 벡터 399개는 나중에 모델을 테스트하는 것에 쓰입니다."
      ],
      "metadata": {
        "id": "0dElklSqttOP"
      }
    },
    {
      "cell_type": "code",
      "source": [
        "print(x_train.shape)\n",
        "print(y_train.shape)\n",
        "print(x_test.shape)\n",
        "print(y_test.shape)"
      ],
      "metadata": {
        "colab": {
          "base_uri": "https://localhost:8080/"
        },
        "id": "g82pL0zguLzN",
        "outputId": "0484f0af-6405-445b-f184-389a7ff75f57"
      },
      "execution_count": 16,
      "outputs": [
        {
          "output_type": "stream",
          "name": "stdout",
          "text": [
            "(33, 5)\n",
            "(33,)\n",
            "(15, 5)\n",
            "(15,)\n"
          ]
        }
      ]
    },
    {
      "cell_type": "markdown",
      "source": [
        "# **데이터를 확률과통계시간에 배운 표준화해보겠습니다.** \n",
        "\n",
        "$$y={{x-m}\\over{\\sigma}}$$"
      ],
      "metadata": {
        "id": "P0oN6UL0v2y3"
      }
    },
    {
      "cell_type": "markdown",
      "source": [
        "표준화 전 후의 정확도는 차이가 있는 것을 확인할 수 있습니다. "
      ],
      "metadata": {
        "id": "Me-Owcim2VcB"
      }
    },
    {
      "cell_type": "code",
      "source": [
        "#각 성분별로 평균을 구해줍니다. \n",
        "mean=x_train.mean(axis=0)\n",
        "std=x_train.std(axis=0)"
      ],
      "metadata": {
        "id": "l-Wi9lfCuL6B"
      },
      "execution_count": 17,
      "outputs": []
    },
    {
      "cell_type": "code",
      "source": [
        "print(mean)\n",
        "print(std)"
      ],
      "metadata": {
        "colab": {
          "base_uri": "https://localhost:8080/"
        },
        "id": "_PjXpFecuMBb",
        "outputId": "5d4e8e76-8968-4bd1-8e64-734fb06f41fb"
      },
      "execution_count": 18,
      "outputs": [
        {
          "output_type": "stream",
          "name": "stdout",
          "text": [
            "temp        32.787879\n",
            "area       327.393939\n",
            "cabbage      0.181818\n",
            "carrot       0.242424\n",
            "apple        0.272727\n",
            "dtype: float64\n",
            "temp         4.973414\n",
            "area       221.513817\n",
            "cabbage      0.391675\n",
            "carrot       0.435194\n",
            "apple        0.452267\n",
            "dtype: float64\n"
          ]
        }
      ]
    },
    {
      "cell_type": "markdown",
      "source": [
        "# **데이터를 모두 표준화시켜줍니다.**"
      ],
      "metadata": {
        "id": "_pYavWX_xaww"
      }
    },
    {
      "cell_type": "code",
      "source": [
        "x_train-=mean\n",
        "x_train/=std\n",
        "x_test-=mean\n",
        "x_test/=std"
      ],
      "metadata": {
        "id": "iwU7HMYauMJD"
      },
      "execution_count": 19,
      "outputs": []
    },
    {
      "cell_type": "markdown",
      "source": [
        "# **인공신경망 모델을 만들고자 합니다.**"
      ],
      "metadata": {
        "id": "x0cKJr6cxr4S"
      }
    },
    {
      "cell_type": "code",
      "source": [
        "from tensorflow import keras #인공신경망을 다루는 파이썬 모듈\n",
        "from tensorflow.keras.models import Sequential #인공신경망 시작한다는 뜻\n",
        "from tensorflow.keras.layers import Dense # 인공신경망의 층을 넣는다는 뜻\n",
        "\n",
        "model = Sequential()\n",
        "model.add(Dense(7, input_dim=5,activation='relu')) \n",
        "model.add(Dense(1)) #출력층, 예측값 1개\n",
        "opt=keras.optimizers.SGD(learning_rate=0.001) #확률적 경사하강법, 학습률 확인\n",
        "model.compile(optimizer=opt, loss='mse', metrics=['mae'])"
      ],
      "metadata": {
        "id": "fUnDtaCVuMP4"
      },
      "execution_count": 76,
      "outputs": []
    },
    {
      "cell_type": "markdown",
      "source": [
        "# **모델을 실행합니다.** \n",
        "\n",
        "epoch는 반복횟수이고, batch_size는 훈련데이터 단위입니다.\n",
        "\n",
        "예를 들면 100개의 데이터에서 epoch=5, batch_size=10이면\n",
        "100개를 10개씩 묶어주고 묶음마다 1개만 훈련합니다.\n",
        "이러한 방법으로 5회 반복합니다.\n",
        "\n",
        "그리고 시간을 확인하면서 배치사이즈와 에포크에 따라 비교합시다. "
      ],
      "metadata": {
        "id": "PjwWj4qGyOZi"
      }
    },
    {
      "cell_type": "code",
      "source": [
        "import time\n",
        "a=time.time()\n",
        "hist = model.fit(x_train, y_train, shuffle=True, epochs=30, batch_size=1)\n",
        "b=time.time()\n",
        "print(b-a)"
      ],
      "metadata": {
        "colab": {
          "base_uri": "https://localhost:8080/"
        },
        "id": "hUwHbZ99ubQD",
        "outputId": "13219656-6064-459b-fcbb-5cb80b1b378a"
      },
      "execution_count": 77,
      "outputs": [
        {
          "output_type": "stream",
          "name": "stdout",
          "text": [
            "Epoch 1/30\n",
            "33/33 [==============================] - 0s 1ms/step - loss: 865.6724 - mae: 28.9164\n",
            "Epoch 2/30\n",
            "33/33 [==============================] - 0s 1ms/step - loss: 182.6695 - mae: 11.7688\n",
            "Epoch 3/30\n",
            "33/33 [==============================] - 0s 1ms/step - loss: 14.7895 - mae: 3.1938\n",
            "Epoch 4/30\n",
            "33/33 [==============================] - 0s 1ms/step - loss: 10.7875 - mae: 2.7390\n",
            "Epoch 5/30\n",
            "33/33 [==============================] - 0s 2ms/step - loss: 10.8777 - mae: 2.6156\n",
            "Epoch 6/30\n",
            "33/33 [==============================] - 0s 1ms/step - loss: 10.4500 - mae: 2.7331\n",
            "Epoch 7/30\n",
            "33/33 [==============================] - 0s 1ms/step - loss: 8.4111 - mae: 2.4452\n",
            "Epoch 8/30\n",
            "33/33 [==============================] - 0s 1ms/step - loss: 10.2203 - mae: 2.5279\n",
            "Epoch 9/30\n",
            "33/33 [==============================] - 0s 1ms/step - loss: 9.5699 - mae: 2.6251\n",
            "Epoch 10/30\n",
            "33/33 [==============================] - 0s 1ms/step - loss: 10.3039 - mae: 2.7127\n",
            "Epoch 11/30\n",
            "33/33 [==============================] - 0s 2ms/step - loss: 9.3617 - mae: 2.5311\n",
            "Epoch 12/30\n",
            "33/33 [==============================] - 0s 1ms/step - loss: 9.5033 - mae: 2.6907\n",
            "Epoch 13/30\n",
            "33/33 [==============================] - 0s 1ms/step - loss: 8.7995 - mae: 2.6071\n",
            "Epoch 14/30\n",
            "33/33 [==============================] - 0s 1ms/step - loss: 9.3614 - mae: 2.6190\n",
            "Epoch 15/30\n",
            "33/33 [==============================] - 0s 1ms/step - loss: 9.3500 - mae: 2.6095\n",
            "Epoch 16/30\n",
            "33/33 [==============================] - 0s 1ms/step - loss: 9.5129 - mae: 2.5542\n",
            "Epoch 17/30\n",
            "33/33 [==============================] - 0s 1ms/step - loss: 9.1605 - mae: 2.5906\n",
            "Epoch 18/30\n",
            "33/33 [==============================] - 0s 1ms/step - loss: 9.7014 - mae: 2.6330\n",
            "Epoch 19/30\n",
            "33/33 [==============================] - 0s 1ms/step - loss: 9.5136 - mae: 2.6214\n",
            "Epoch 20/30\n",
            "33/33 [==============================] - 0s 1ms/step - loss: 8.4089 - mae: 2.4505\n",
            "Epoch 21/30\n",
            "33/33 [==============================] - 0s 1ms/step - loss: 8.8091 - mae: 2.4679\n",
            "Epoch 22/30\n",
            "33/33 [==============================] - 0s 1ms/step - loss: 8.0727 - mae: 2.5739\n",
            "Epoch 23/30\n",
            "33/33 [==============================] - 0s 1ms/step - loss: 9.8674 - mae: 2.6105\n",
            "Epoch 24/30\n",
            "33/33 [==============================] - 0s 1ms/step - loss: 8.8155 - mae: 2.4641\n",
            "Epoch 25/30\n",
            "33/33 [==============================] - 0s 2ms/step - loss: 8.8096 - mae: 2.5649\n",
            "Epoch 26/30\n",
            "33/33 [==============================] - 0s 1ms/step - loss: 8.3725 - mae: 2.4717\n",
            "Epoch 27/30\n",
            "33/33 [==============================] - 0s 1ms/step - loss: 8.9511 - mae: 2.6043\n",
            "Epoch 28/30\n",
            "33/33 [==============================] - 0s 1ms/step - loss: 8.1203 - mae: 2.4003\n",
            "Epoch 29/30\n",
            "33/33 [==============================] - 0s 1ms/step - loss: 8.6701 - mae: 2.4969\n",
            "Epoch 30/30\n",
            "33/33 [==============================] - 0s 1ms/step - loss: 8.7793 - mae: 2.5656\n",
            "2.8565804958343506\n"
          ]
        }
      ]
    },
    {
      "cell_type": "code",
      "source": [
        "import matplotlib.pyplot as plt\n",
        "plt.plot(hist.history['loss'], label='train_loss')\n",
        "plt.legend()\n",
        "plt.show()"
      ],
      "metadata": {
        "colab": {
          "base_uri": "https://localhost:8080/",
          "height": 265
        },
        "id": "AnlcmwKEubXF",
        "outputId": "a3639dcb-9398-497d-f66b-b76e1125e50d"
      },
      "execution_count": 78,
      "outputs": [
        {
          "output_type": "display_data",
          "data": {
            "text/plain": [
              "<Figure size 432x288 with 1 Axes>"
            ],
            "image/png": "[encoded data removed]"
          },
          "metadata": {
            "needs_background": "light"
          }
        }
      ]
    },
    {
      "cell_type": "code",
      "source": [
        "import matplotlib.pyplot as plt\n",
        "plt.plot(hist.history['mae'],  label='train_mae')\n",
        "plt.legend()\n",
        "plt.show()"
      ],
      "metadata": {
        "colab": {
          "base_uri": "https://localhost:8080/",
          "height": 268
        },
        "id": "6IwcljG9ubdx",
        "outputId": "d4c9127f-8d81-48ba-b16e-5cc5fd11bc6d"
      },
      "execution_count": 79,
      "outputs": [
        {
          "output_type": "display_data",
          "data": {
            "text/plain": [
              "<Figure size 432x288 with 1 Axes>"
            ],
            "image/png": "[encoded data removed]"
          },
          "metadata": {
            "needs_background": "light"
          }
        }
      ]
    },
    {
      "cell_type": "code",
      "source": [
        "y_pred=model.predict(x_test)"
      ],
      "metadata": {
        "colab": {
          "base_uri": "https://localhost:8080/"
        },
        "id": "iYeYI-1v92O2",
        "outputId": "d1c4bfde-aa82-4521-aed6-b13f9e7b600c"
      },
      "execution_count": 80,
      "outputs": [
        {
          "output_type": "stream",
          "name": "stdout",
          "text": [
            "1/1 [==============================] - 0s 47ms/step\n"
          ]
        }
      ]
    },
    {
      "cell_type": "code",
      "source": [
        "y_pred"
      ],
      "metadata": {
        "colab": {
          "base_uri": "https://localhost:8080/"
        },
        "id": "4dZNysdJHAnc",
        "outputId": "94021be3-379c-426a-f8da-c47a84042ecc"
      },
      "execution_count": 81,
      "outputs": [
        {
          "output_type": "execute_result",
          "data": {
            "text/plain": [
              "array([[32.967243],\n",
              "       [36.87599 ],\n",
              "       [31.846645],\n",
              "       [32.967243],\n",
              "       [36.87599 ],\n",
              "       [33.075382],\n",
              "       [32.912846],\n",
              "       [29.740189],\n",
              "       [35.681515],\n",
              "       [34.862675],\n",
              "       [36.682392],\n",
              "       [33.17578 ],\n",
              "       [30.89395 ],\n",
              "       [31.3858  ],\n",
              "       [31.285482]], dtype=float32)"
            ]
          },
          "metadata": {},
          "execution_count": 81
        }
      ]
    },
    {
      "cell_type": "code",
      "source": [
        "plt.figure(figsize=(10,10))\n",
        "plt.scatter(y_test,y_pred, alpha=0.3)\n",
        "plt.plot(y_test,y_test,color='red',linestyle='-.')\n",
        "plt.xlabel('test')\n",
        "plt.ylabel('prediction')\n",
        "plt.legend()\n",
        "plt.show()"
      ],
      "metadata": {
        "colab": {
          "base_uri": "https://localhost:8080/",
          "height": 624
        },
        "id": "taZf3o0JscZe",
        "outputId": "a736c717-c4b8-410b-8b7b-ee22bb679d2b"
      },
      "execution_count": 83,
      "outputs": [
        {
          "output_type": "stream",
          "name": "stderr",
          "text": [
            "WARNING:matplotlib.legend:No handles with labels found to put in legend.\n"
          ]
        },
        {
          "output_type": "display_data",
          "data": {
            "text/plain": [
              "<Figure size 720x720 with 1 Axes>"
            ],
            "image/png": "[encoded data removed]"
          },
          "metadata": {
            "needs_background": "light"
          }
        }
      ]
    },
    {
      "cell_type": "code",
      "source": [
        "plt.figure(figsize=(10,3))\n",
        "plt.plot(range(0,15), y_pred, label='pred')\n",
        "plt.plot(range(0,15),y_test,label='test')\n",
        "plt.ylabel('count')\n",
        "plt.legend()\n",
        "plt.show()"
      ],
      "metadata": {
        "colab": {
          "base_uri": "https://localhost:8080/",
          "height": 211
        },
        "id": "5KZoaWOgItOv",
        "outputId": "3783b7f7-8acb-469c-969a-bf70eaac9152"
      },
      "execution_count": 94,
      "outputs": [
        {
          "output_type": "display_data",
          "data": {
            "text/plain": [
              "<Figure size 720x216 with 1 Axes>"
            ],
            "image/png": "[encoded data removed]"
          },
          "metadata": {
            "needs_background": "light"
          }
        }
      ]
    },
    {
      "cell_type": "markdown",
      "source": [
        "# **선형회귀를 이용한 예측**"
      ],
      "metadata": {
        "id": "Qm19OhpQOGcU"
      }
    },
    {
      "cell_type": "code",
      "source": [
        "from sklearn.linear_model import LinearRegression\n",
        "\n",
        "lin_reg=LinearRegression()\n",
        "lin_reg.fit(x_train, y_train)\n",
        "\n",
        "y_pred=lin_reg.predict(x_test)"
      ],
      "metadata": {
        "id": "B3Q5jcQ5sooq"
      },
      "execution_count": 95,
      "outputs": []
    },
    {
      "cell_type": "code",
      "source": [
        "plt.figure(figsize=(10,10))\n",
        "plt.scatter(y_test,y_pred, alpha=0.3,label='test')\n",
        "plt.plot(y_test,y_test,color='red')\n",
        "plt.xlabel('test')\n",
        "plt.ylabel('prediction')\n",
        "plt.grid()\n",
        "plt.legend()\n",
        "plt.show()"
      ],
      "metadata": {
        "colab": {
          "base_uri": "https://localhost:8080/",
          "height": 606
        },
        "id": "GkwdioNQM0UT",
        "outputId": "e7e82c3d-3aac-4c78-a3e0-1ff21bcfff01"
      },
      "execution_count": 96,
      "outputs": [
        {
          "output_type": "display_data",
          "data": {
            "text/plain": [
              "<Figure size 720x720 with 1 Axes>"
            ],
            "image/png": "[encoded data removed]"
          },
          "metadata": {
            "needs_background": "light"
          }
        }
      ]
    },
    {
      "cell_type": "code",
      "source": [
        "plt.figure(figsize=(10,3))\n",
        "plt.plot(range(0,15), y_pred, label='pred')\n",
        "plt.plot(range(0,15),y_test,label='test')\n",
        "plt.ylabel('count')\n",
        "plt.legend()\n",
        "plt.show()"
      ],
      "metadata": {
        "colab": {
          "base_uri": "https://localhost:8080/",
          "height": 211
        },
        "id": "Skg5ToTeKRUx",
        "outputId": "a7b6eaa8-53da-47f2-a241-e23438297f06"
      },
      "execution_count": 100,
      "outputs": [
        {
          "output_type": "display_data",
          "data": {
            "text/plain": [
              "<Figure size 720x216 with 1 Axes>"
            ],
            "image/png": "[encoded data removed]"
          },
          "metadata": {
            "needs_background": "light"
          }
        }
      ]
    },
    {
      "cell_type": "markdown",
      "source": [
        "# **결정트리를 활용한 예측**"
      ],
      "metadata": {
        "id": "1g8JgzWfOeOE"
      }
    },
    {
      "cell_type": "code",
      "source": [
        "from sklearn.ensemble import RandomForestRegressor\n",
        "forest_reg=RandomForestRegressor()\n",
        "forest_reg.fit(x_train, y_train)\n",
        "\n",
        "y_pred=forest_reg.predict(x_test)"
      ],
      "metadata": {
        "id": "WK_ULz5NNIOY"
      },
      "execution_count": 97,
      "outputs": []
    },
    {
      "cell_type": "code",
      "source": [
        "plt.figure(figsize=(10,10))\n",
        "plt.scatter(y_test,y_pred, alpha=0.3)\n",
        "plt.plot(y_test,y_test,color='red')\n",
        "plt.xlabel('test')\n",
        "plt.ylabel('prediction')\n",
        "plt.grid()\n",
        "plt.legend()\n",
        "plt.show()"
      ],
      "metadata": {
        "colab": {
          "base_uri": "https://localhost:8080/",
          "height": 624
        },
        "id": "vWigefCvNKe6",
        "outputId": "b773e728-ee26-40ba-8342-eec4ef5024ff"
      },
      "execution_count": 98,
      "outputs": [
        {
          "output_type": "stream",
          "name": "stderr",
          "text": [
            "WARNING:matplotlib.legend:No handles with labels found to put in legend.\n"
          ]
        },
        {
          "output_type": "display_data",
          "data": {
            "text/plain": [
              "<Figure size 720x720 with 1 Axes>"
            ],
            "image/png": "[encoded data removed]"
          },
          "metadata": {
            "needs_background": "light"
          }
        }
      ]
    },
    {
      "cell_type": "code",
      "source": [
        "plt.figure(figsize=(10,3))\n",
        "plt.plot(range(0,15), y_pred, label='pred')\n",
        "plt.plot(range(0,15),y_test,label='test')\n",
        "plt.ylabel('count')\n",
        "plt.legend()\n",
        "plt.show()"
      ],
      "metadata": {
        "colab": {
          "base_uri": "https://localhost:8080/",
          "height": 211
        },
        "id": "ryRJbGBFKHnQ",
        "outputId": "b50262bf-9f48-4cdf-dd6e-dcd14210c657"
      },
      "execution_count": 99,
      "outputs": [
        {
          "output_type": "display_data",
          "data": {
            "text/plain": [
              "<Figure size 720x216 with 1 Axes>"
            ],
            "image/png": "[encoded data removed]"
          },
          "metadata": {
            "needs_background": "light"
          }
        }
      ]
    }
  ]
}